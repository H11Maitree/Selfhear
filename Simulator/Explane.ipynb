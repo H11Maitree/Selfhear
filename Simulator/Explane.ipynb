{
 "cells": [
  {
   "cell_type": "code",
   "execution_count": 1,
   "metadata": {},
   "outputs": [],
   "source": [
    "import numpy as np\n",
    "import pandas as pd\n",
    "import math\n",
    "# 27.5 55 110 220 440 880 1760 3520 7040 14080"
   ]
  },
  {
   "cell_type": "code",
   "execution_count": 2,
   "metadata": {},
   "outputs": [],
   "source": [
    "from numpy import load\n"
   ]
  },
  {
   "cell_type": "code",
   "execution_count": 55,
   "metadata": {},
   "outputs": [
    {
     "data": {
      "text/html": [
       "<div>\n",
       "<style scoped>\n",
       "    .dataframe tbody tr th:only-of-type {\n",
       "        vertical-align: middle;\n",
       "    }\n",
       "\n",
       "    .dataframe tbody tr th {\n",
       "        vertical-align: top;\n",
       "    }\n",
       "\n",
       "    .dataframe thead th {\n",
       "        text-align: right;\n",
       "    }\n",
       "</style>\n",
       "<table border=\"1\" class=\"dataframe\">\n",
       "  <thead>\n",
       "    <tr style=\"text-align: right;\">\n",
       "      <th></th>\n",
       "      <th>Frequency</th>\n",
       "      <th>Power</th>\n",
       "      <th>dB</th>\n",
       "      <th>dB compare to mouth</th>\n",
       "    </tr>\n",
       "  </thead>\n",
       "  <tbody>\n",
       "  </tbody>\n",
       "</table>\n",
       "</div>"
      ],
      "text/plain": [
       "Empty DataFrame\n",
       "Columns: [Frequency, Power, dB, dB compare to mouth]\n",
       "Index: []"
      ]
     },
     "execution_count": 55,
     "metadata": {},
     "output_type": "execute_result"
    }
   ],
   "source": [
    "import pandas as pd\n",
    "df=pd.DataFrame(columns=['Frequency',\"Power\",\"dB\",\"dB compare to mouth\"])\n",
    "df"
   ]
  },
  {
   "cell_type": "code",
   "execution_count": 18,
   "metadata": {},
   "outputs": [
    {
     "data": {
      "text/plain": [
       "5.999999999999999"
      ]
     },
     "execution_count": 18,
     "metadata": {},
     "output_type": "execute_result"
    }
   ],
   "source": [
    "math.log(1000000,10)"
   ]
  },
  {
   "cell_type": "code",
   "execution_count": 58,
   "metadata": {
    "scrolled": true
   },
   "outputs": [
    {
     "name": "stdout",
     "output_type": "stream",
     "text": [
      "27 Hz\n",
      "Power                    :  99.78990180522639 %\n",
      "dB gain                  :  -0.018268094524884083\n",
      "dB gain compare to mouth :  -0.009032697046670207\n",
      "_____________________________\n",
      "55 Hz\n",
      "Power                    :  99.57852265443799 %\n",
      "dB gain                  :  -0.03668642399183079\n",
      "dB gain compare to mouth :  -0.018098151222603293\n",
      "_____________________________\n",
      "110 Hz\n",
      "Power                    :  99.15505800606996 %\n",
      "dB gain                  :  -0.07370254130719293\n",
      "dB gain compare to mouth :  -0.03627279722116791\n",
      "_____________________________\n",
      "220 Hz\n",
      "Power                    :  98.30913340051396 %\n",
      "dB gain                  :  -0.14812264413431797\n",
      "dB gain compare to mouth :  -0.07271551453914951\n",
      "_____________________________\n",
      "440 Hz\n",
      "Power                    :  96.62979100081238 %\n",
      "dB gain                  :  -0.29777919577860057\n",
      "dB gain compare to mouth :  -0.1457829708960757\n",
      "_____________________________\n",
      "880 Hz\n",
      "Power                    :  93.33916898882627 %\n",
      "dB gain                  :  -0.5987214003165351\n",
      "dB gain compare to mouth :  -0.2921932070677522\n",
      "_____________________________\n",
      "1760 Hz\n",
      "Power                    :  87.06145941441709 %\n",
      "dB gain                  :  -1.2034811404674746\n",
      "dB gain compare to mouth :  -0.5850545365752547\n",
      "_____________________________\n",
      "3520 Hz\n",
      "Power                    :  75.71466790813483 %\n",
      "dB gain                  :  -2.416399563370288\n",
      "dB gain compare to mouth :  -1.1684648329781624\n",
      "_____________________________\n",
      "7040 Hz\n",
      "Power                    :  57.29424082698346 %\n",
      "dB gain                  :  -4.837780615718656\n",
      "dB gain compare to mouth :  -2.320198690895621\n",
      "_____________________________\n",
      "14080 Hz\n",
      "Power                    :  33.02865074104079 %\n",
      "dB gain                  :  -9.62218334766089\n",
      "dB gain compare to mouth :  -4.548859317472715\n",
      "_____________________________\n"
     ]
    }
   ],
   "source": [
    "filename=['27','55','110','220','440','880','1760','3520','7040','14080']\n",
    "for i in filename:\n",
    "    result = load('Result/'+i+'hz.npy')\n",
    "    print(i+\" Hz\")\n",
    "    print(\"Power                    : \",result[2,57,66]/10000,\"%\")\n",
    "    print(\"dB gain                  : \",math.log((result[2,57,66]/1000000),10)*20)\n",
    "    print(\"dB gain compare to mouth : \",math.log((result[2,57,66]/result[0,13,51]),10)*20)\n",
    "    print(\"_____________________________\")\n",
    "    df=df.append({'Frequency':i,\"Power\":result[2,57,66]/10000,\"dB\":math.log((result[2,57,66]/1000000),10)*20,\"dB compare to mouth\":math.log((result[2,57,66]/result[0,13,51]),10)*20}, ignore_index=True)"
   ]
  },
  {
   "cell_type": "code",
   "execution_count": 60,
   "metadata": {},
   "outputs": [],
   "source": [
    "df.to_csv(\"run1.csv\")"
   ]
  },
  {
   "cell_type": "code",
   "execution_count": null,
   "metadata": {},
   "outputs": [],
   "source": []
  },
  {
   "cell_type": "code",
   "execution_count": 36,
   "metadata": {},
   "outputs": [
    {
     "name": "stdout",
     "output_type": "stream",
     "text": [
      "995785.2265443798\n",
      "3.624774236228097\n",
      "-0.03668642399183079\n"
     ]
    }
   ],
   "source": [
    "result = load('Result/55hz.npy')\n",
    "print(result[2,57,66])\n",
    "print(math.log((result[2,57,66]/1000000),10)*20)"
   ]
  },
  {
   "cell_type": "code",
   "execution_count": 37,
   "metadata": {},
   "outputs": [
    {
     "name": "stdout",
     "output_type": "stream",
     "text": [
      "991550.5800606996\n",
      "3.9268268952446053\n",
      "-0.07370254130719293\n"
     ]
    }
   ],
   "source": [
    "result = load('Result/110hz.npy')\n",
    "print(result[2,57,66])\n",
    "print(math.log(1000000-result[2,57,66],10))\n",
    "print(math.log((result[2,57,66]/1000000),10)*20)"
   ]
  },
  {
   "cell_type": "code",
   "execution_count": 38,
   "metadata": {},
   "outputs": [
    {
     "name": "stdout",
     "output_type": "stream",
     "text": [
      "983091.3340051395\n",
      "4.228109345390514\n",
      "-0.14812264413431797\n"
     ]
    }
   ],
   "source": [
    "result = load('Result/220hz.npy')\n",
    "print(result[2,57,66])\n",
    "print(math.log(1000000-result[2,57,66],10))\n",
    "print(math.log((result[2,57,66]/1000000),10)*20)"
   ]
  },
  {
   "cell_type": "code",
   "execution_count": 39,
   "metadata": {},
   "outputs": [
    {
     "name": "stdout",
     "output_type": "stream",
     "text": [
      "966297.9100081237\n",
      "4.527656833921618\n",
      "-0.29777919577860057\n"
     ]
    }
   ],
   "source": [
    "result = load('Result/440hz.npy')\n",
    "print(result[2,57,66])\n",
    "print(math.log(1000000-result[2,57,66],10))\n",
    "print(math.log((result[2,57,66]/1000000),10)*20)"
   ]
  },
  {
   "cell_type": "code",
   "execution_count": 40,
   "metadata": {},
   "outputs": [
    {
     "name": "stdout",
     "output_type": "stream",
     "text": [
      "933391.6898882628\n",
      "4.823528415514578\n",
      "-0.5987214003165351\n"
     ]
    }
   ],
   "source": [
    "result = load('Result/880hz.npy')\n",
    "print(result[2,57,66])\n",
    "print(math.log(1000000-result[2,57,66],10))\n",
    "print(math.log((result[2,57,66]/1000000),10)*20)"
   ]
  },
  {
   "cell_type": "code",
   "execution_count": 41,
   "metadata": {},
   "outputs": [
    {
     "name": "stdout",
     "output_type": "stream",
     "text": [
      "870614.5941441709\n",
      "5.111885292455346\n",
      "-1.2034811404674746\n"
     ]
    }
   ],
   "source": [
    "result = load('Result/1760hz.npy')\n",
    "print(result[2,57,66])\n",
    "print(math.log(1000000-result[2,57,66],10))\n",
    "print(math.log((result[2,57,66]/1000000),10)*20)"
   ]
  },
  {
   "cell_type": "code",
   "execution_count": 42,
   "metadata": {},
   "outputs": [
    {
     "name": "stdout",
     "output_type": "stream",
     "text": [
      "757146.6790813482\n",
      "5.3853440466469555\n",
      "-2.416399563370288\n"
     ]
    }
   ],
   "source": [
    "result = load('Result/3520hz.npy')\n",
    "print(result[2,57,66])\n",
    "print(math.log(1000000-result[2,57,66],10))\n",
    "print(math.log((result[2,57,66]/1000000),10)*20)"
   ]
  },
  {
   "cell_type": "code",
   "execution_count": 43,
   "metadata": {},
   "outputs": [
    {
     "name": "stdout",
     "output_type": "stream",
     "text": [
      "572942.4082698346\n",
      "5.63048644665039\n",
      "-4.837780615718656\n"
     ]
    }
   ],
   "source": [
    "result = load('Result/7040hz.npy')\n",
    "print(result[2,57,66])\n",
    "print(math.log(1000000-result[2,57,66],10))\n",
    "print(math.log((result[2,57,66]/1000000),10)*20)"
   ]
  },
  {
   "cell_type": "code",
   "execution_count": 44,
   "metadata": {},
   "outputs": [
    {
     "name": "stdout",
     "output_type": "stream",
     "text": [
      "330286.50741040794\n",
      "5.825889048672147\n",
      "-9.62218334766089\n"
     ]
    }
   ],
   "source": [
    "result = load('Result/14080hz.npy')\n",
    "print(result[2,57,66])\n",
    "print(math.log(1000000-result[2,57,66],10))\n",
    "print(math.log((result[2,57,66]/1000000),10)*20)"
   ]
  }
 ],
 "metadata": {
  "kernelspec": {
   "display_name": "Python 3",
   "language": "python",
   "name": "python3"
  },
  "language_info": {
   "codemirror_mode": {
    "name": "ipython",
    "version": 3
   },
   "file_extension": ".py",
   "mimetype": "text/x-python",
   "name": "python",
   "nbconvert_exporter": "python",
   "pygments_lexer": "ipython3",
   "version": "3.7.3"
  }
 },
 "nbformat": 4,
 "nbformat_minor": 2
}
