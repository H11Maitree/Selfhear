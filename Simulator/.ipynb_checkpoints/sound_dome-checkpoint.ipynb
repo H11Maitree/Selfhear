{
 "cells": [
  {
   "cell_type": "code",
   "execution_count": 1,
   "metadata": {},
   "outputs": [],
   "source": [
    "import numpy as np\n",
    "import pandas as pd"
   ]
  },
  {
   "cell_type": "code",
   "execution_count": 2,
   "metadata": {
    "scrolled": false
   },
   "outputs": [
    {
     "data": {
      "text/html": [
       "<div>\n",
       "<style scoped>\n",
       "    .dataframe tbody tr th:only-of-type {\n",
       "        vertical-align: middle;\n",
       "    }\n",
       "\n",
       "    .dataframe tbody tr th {\n",
       "        vertical-align: top;\n",
       "    }\n",
       "\n",
       "    .dataframe thead th {\n",
       "        text-align: right;\n",
       "    }\n",
       "</style>\n",
       "<table border=\"1\" class=\"dataframe\">\n",
       "  <thead>\n",
       "    <tr style=\"text-align: right;\">\n",
       "      <th></th>\n",
       "      <th>x</th>\n",
       "      <th>y</th>\n",
       "      <th>z</th>\n",
       "      <th>distancepow2</th>\n",
       "      <th>distance</th>\n",
       "      <th>material</th>\n",
       "    </tr>\n",
       "  </thead>\n",
       "  <tbody>\n",
       "  </tbody>\n",
       "</table>\n",
       "</div>"
      ],
      "text/plain": [
       "Empty DataFrame\n",
       "Columns: [x, y, z, distancepow2, distance, material]\n",
       "Index: []"
      ]
     },
     "execution_count": 2,
     "metadata": {},
     "output_type": "execute_result"
    }
   ],
   "source": [
    "queue=pd.DataFrame(columns=['x','y','z','distancepow2','distance','material'])\n",
    "#queue=queue.append({'x':0,'y':0,'z':0,'distancepow2':0,'distance':0}, ignore_index=True)\n",
    "queue"
   ]
  },
  {
   "cell_type": "code",
   "execution_count": 3,
   "metadata": {
    "scrolled": true
   },
   "outputs": [],
   "source": [
    "Meterial_spectrum=pd.read_csv('Meterial_spectrum.csv')"
   ]
  },
  {
   "cell_type": "code",
   "execution_count": 4,
   "metadata": {
    "scrolled": true
   },
   "outputs": [],
   "source": [
    "Nameid=Meterial_spectrum['Name'].to_dict()"
   ]
  },
  {
   "cell_type": "code",
   "execution_count": 5,
   "metadata": {
    "scrolled": true
   },
   "outputs": [
    {
     "data": {
      "text/plain": [
       "{'Bone (Cancellous)': 0,\n",
       " 'Bone (Cortical)': 1,\n",
       " 'Bone Marrow (Red)': 2,\n",
       " 'Bone Marrow (Yellow)': 3,\n",
       " 'Brain': 4,\n",
       " 'Brain (Grey Matter)': 5,\n",
       " 'Brain (White Matter)': 6,\n",
       " 'Eye (Aqueous Humor)': 7,\n",
       " 'Eye (Choroid)': 8,\n",
       " 'Eye (Ciliary Body)': 9,\n",
       " 'Eye (Cornea)': 10,\n",
       " 'Eye (Iris)': 11,\n",
       " 'Eye (Lens)': 12,\n",
       " 'Eye (Retina)': 13,\n",
       " 'Eye (Sclera)': 14,\n",
       " 'Eye (Vitreous Humor)': 15,\n",
       " 'Eye Lens (Cortex)': 16,\n",
       " 'Eye Lens (Nucleus)': 17,\n",
       " 'Muscles': 18,\n",
       " 'Skin': 19,\n",
       " 'Skull Cancellous': 20,\n",
       " 'Skull Cortical': 21,\n",
       " 'Tooth': 22,\n",
       " 'Air': 23}"
      ]
     },
     "execution_count": 5,
     "metadata": {},
     "output_type": "execute_result"
    }
   ],
   "source": [
    "res = dict((v,k) for k,v in Nameid.items())\n",
    "Nameid=0\n",
    "Nameid=res\n",
    "Nameid"
   ]
  },
  {
   "cell_type": "code",
   "execution_count": 6,
   "metadata": {},
   "outputs": [
    {
     "name": "stderr",
     "output_type": "stream",
     "text": [
      "/Users/mattjunk/anaconda3/lib/python3.7/site-packages/ipykernel_launcher.py:4: DeprecationWarning: \n",
      ".ix is deprecated. Please use\n",
      ".loc for label based indexing or\n",
      ".iloc for positional indexing\n",
      "\n",
      "See the documentation here:\n",
      "http://pandas.pydata.org/pandas-docs/stable/indexing.html#ix-indexer-is-deprecated\n",
      "  after removing the cwd from sys.path.\n"
     ]
    }
   ],
   "source": [
    "Meterial_id=pd.read_csv('Meterial_id.csv')\n",
    "Meterial_id['id']='NaN'\n",
    "for i in range(len(Meterial_id)):\n",
    "    Meterial_id.ix[i, 'id']=Nameid[Meterial_id.iloc[i].Name]"
   ]
  },
  {
   "cell_type": "code",
   "execution_count": 7,
   "metadata": {
    "scrolled": true
   },
   "outputs": [
    {
     "data": {
      "text/html": [
       "<div>\n",
       "<style scoped>\n",
       "    .dataframe tbody tr th:only-of-type {\n",
       "        vertical-align: middle;\n",
       "    }\n",
       "\n",
       "    .dataframe tbody tr th {\n",
       "        vertical-align: top;\n",
       "    }\n",
       "\n",
       "    .dataframe thead th {\n",
       "        text-align: right;\n",
       "    }\n",
       "</style>\n",
       "<table border=\"1\" class=\"dataframe\">\n",
       "  <thead>\n",
       "    <tr style=\"text-align: right;\">\n",
       "      <th></th>\n",
       "      <th>Name</th>\n",
       "      <th>R</th>\n",
       "      <th>G</th>\n",
       "      <th>B</th>\n",
       "    </tr>\n",
       "    <tr>\n",
       "      <th>id</th>\n",
       "      <th></th>\n",
       "      <th></th>\n",
       "      <th></th>\n",
       "      <th></th>\n",
       "    </tr>\n",
       "  </thead>\n",
       "  <tbody>\n",
       "    <tr>\n",
       "      <th>0</th>\n",
       "      <td>Bone (Cancellous)</td>\n",
       "      <td>0</td>\n",
       "      <td>0</td>\n",
       "      <td>0</td>\n",
       "    </tr>\n",
       "    <tr>\n",
       "      <th>1</th>\n",
       "      <td>Bone (Cortical)</td>\n",
       "      <td>0</td>\n",
       "      <td>0</td>\n",
       "      <td>0</td>\n",
       "    </tr>\n",
       "    <tr>\n",
       "      <th>2</th>\n",
       "      <td>Bone Marrow (Red)</td>\n",
       "      <td>0</td>\n",
       "      <td>0</td>\n",
       "      <td>0</td>\n",
       "    </tr>\n",
       "    <tr>\n",
       "      <th>3</th>\n",
       "      <td>Bone Marrow (Yellow)</td>\n",
       "      <td>0</td>\n",
       "      <td>0</td>\n",
       "      <td>0</td>\n",
       "    </tr>\n",
       "    <tr>\n",
       "      <th>4</th>\n",
       "      <td>Brain</td>\n",
       "      <td>0</td>\n",
       "      <td>0</td>\n",
       "      <td>0</td>\n",
       "    </tr>\n",
       "    <tr>\n",
       "      <th>5</th>\n",
       "      <td>Brain (Grey Matter)</td>\n",
       "      <td>0</td>\n",
       "      <td>0</td>\n",
       "      <td>0</td>\n",
       "    </tr>\n",
       "    <tr>\n",
       "      <th>6</th>\n",
       "      <td>Brain (White Matter)</td>\n",
       "      <td>0</td>\n",
       "      <td>0</td>\n",
       "      <td>0</td>\n",
       "    </tr>\n",
       "    <tr>\n",
       "      <th>7</th>\n",
       "      <td>Eye (Aqueous Humor)</td>\n",
       "      <td>0</td>\n",
       "      <td>0</td>\n",
       "      <td>0</td>\n",
       "    </tr>\n",
       "    <tr>\n",
       "      <th>8</th>\n",
       "      <td>Eye (Choroid)</td>\n",
       "      <td>0</td>\n",
       "      <td>0</td>\n",
       "      <td>0</td>\n",
       "    </tr>\n",
       "    <tr>\n",
       "      <th>9</th>\n",
       "      <td>Eye (Ciliary Body)</td>\n",
       "      <td>0</td>\n",
       "      <td>0</td>\n",
       "      <td>0</td>\n",
       "    </tr>\n",
       "    <tr>\n",
       "      <th>10</th>\n",
       "      <td>Eye (Cornea)</td>\n",
       "      <td>0</td>\n",
       "      <td>0</td>\n",
       "      <td>0</td>\n",
       "    </tr>\n",
       "    <tr>\n",
       "      <th>11</th>\n",
       "      <td>Eye (Iris)</td>\n",
       "      <td>0</td>\n",
       "      <td>0</td>\n",
       "      <td>0</td>\n",
       "    </tr>\n",
       "    <tr>\n",
       "      <th>12</th>\n",
       "      <td>Eye (Lens)</td>\n",
       "      <td>0</td>\n",
       "      <td>0</td>\n",
       "      <td>0</td>\n",
       "    </tr>\n",
       "    <tr>\n",
       "      <th>13</th>\n",
       "      <td>Eye (Retina)</td>\n",
       "      <td>0</td>\n",
       "      <td>0</td>\n",
       "      <td>0</td>\n",
       "    </tr>\n",
       "    <tr>\n",
       "      <th>14</th>\n",
       "      <td>Eye (Sclera)</td>\n",
       "      <td>0</td>\n",
       "      <td>0</td>\n",
       "      <td>0</td>\n",
       "    </tr>\n",
       "    <tr>\n",
       "      <th>15</th>\n",
       "      <td>Eye (Vitreous Humor)</td>\n",
       "      <td>0</td>\n",
       "      <td>0</td>\n",
       "      <td>0</td>\n",
       "    </tr>\n",
       "    <tr>\n",
       "      <th>16</th>\n",
       "      <td>Eye Lens (Cortex)</td>\n",
       "      <td>0</td>\n",
       "      <td>0</td>\n",
       "      <td>0</td>\n",
       "    </tr>\n",
       "    <tr>\n",
       "      <th>17</th>\n",
       "      <td>Eye Lens (Nucleus)</td>\n",
       "      <td>0</td>\n",
       "      <td>0</td>\n",
       "      <td>0</td>\n",
       "    </tr>\n",
       "    <tr>\n",
       "      <th>18</th>\n",
       "      <td>Muscles</td>\n",
       "      <td>0</td>\n",
       "      <td>0</td>\n",
       "      <td>0</td>\n",
       "    </tr>\n",
       "    <tr>\n",
       "      <th>19</th>\n",
       "      <td>Skin</td>\n",
       "      <td>0</td>\n",
       "      <td>0</td>\n",
       "      <td>0</td>\n",
       "    </tr>\n",
       "    <tr>\n",
       "      <th>20</th>\n",
       "      <td>Skull Cancellous</td>\n",
       "      <td>0</td>\n",
       "      <td>0</td>\n",
       "      <td>0</td>\n",
       "    </tr>\n",
       "    <tr>\n",
       "      <th>21</th>\n",
       "      <td>Skull Cortical</td>\n",
       "      <td>0</td>\n",
       "      <td>0</td>\n",
       "      <td>0</td>\n",
       "    </tr>\n",
       "    <tr>\n",
       "      <th>22</th>\n",
       "      <td>Tooth</td>\n",
       "      <td>0</td>\n",
       "      <td>0</td>\n",
       "      <td>0</td>\n",
       "    </tr>\n",
       "    <tr>\n",
       "      <th>23</th>\n",
       "      <td>Air</td>\n",
       "      <td>0</td>\n",
       "      <td>0</td>\n",
       "      <td>0</td>\n",
       "    </tr>\n",
       "  </tbody>\n",
       "</table>\n",
       "</div>"
      ],
      "text/plain": [
       "                    Name  R  G  B\n",
       "id                               \n",
       "0      Bone (Cancellous)  0  0  0\n",
       "1        Bone (Cortical)  0  0  0\n",
       "2      Bone Marrow (Red)  0  0  0\n",
       "3   Bone Marrow (Yellow)  0  0  0\n",
       "4                  Brain  0  0  0\n",
       "5    Brain (Grey Matter)  0  0  0\n",
       "6   Brain (White Matter)  0  0  0\n",
       "7    Eye (Aqueous Humor)  0  0  0\n",
       "8          Eye (Choroid)  0  0  0\n",
       "9     Eye (Ciliary Body)  0  0  0\n",
       "10          Eye (Cornea)  0  0  0\n",
       "11            Eye (Iris)  0  0  0\n",
       "12            Eye (Lens)  0  0  0\n",
       "13          Eye (Retina)  0  0  0\n",
       "14          Eye (Sclera)  0  0  0\n",
       "15  Eye (Vitreous Humor)  0  0  0\n",
       "16     Eye Lens (Cortex)  0  0  0\n",
       "17    Eye Lens (Nucleus)  0  0  0\n",
       "18               Muscles  0  0  0\n",
       "19                  Skin  0  0  0\n",
       "20      Skull Cancellous  0  0  0\n",
       "21        Skull Cortical  0  0  0\n",
       "22                 Tooth  0  0  0\n",
       "23                   Air  0  0  0"
      ]
     },
     "execution_count": 7,
     "metadata": {},
     "output_type": "execute_result"
    }
   ],
   "source": [
    "Meterial_id=Meterial_id.set_index('id')\n",
    "Meterial_id"
   ]
  },
  {
   "cell_type": "code",
   "execution_count": 20,
   "metadata": {},
   "outputs": [
    {
     "data": {
      "text/plain": [
       "id\n",
       "0     True\n",
       "1     True\n",
       "2     True\n",
       "3     True\n",
       "4     True\n",
       "5     True\n",
       "6     True\n",
       "7     True\n",
       "8     True\n",
       "9     True\n",
       "10    True\n",
       "11    True\n",
       "12    True\n",
       "13    True\n",
       "14    True\n",
       "15    True\n",
       "16    True\n",
       "17    True\n",
       "18    True\n",
       "19    True\n",
       "20    True\n",
       "21    True\n",
       "22    True\n",
       "23    True\n",
       "dtype: bool"
      ]
     },
     "execution_count": 20,
     "metadata": {},
     "output_type": "execute_result"
    }
   ],
   "source": [
    "(Meterial_id['R']==0) & (Meterial_id['G']==0) & (Meterial_id['B']==0)"
   ]
  },
  {
   "cell_type": "code",
   "execution_count": 42,
   "metadata": {},
   "outputs": [
    {
     "data": {
      "text/plain": [
       "0"
      ]
     },
     "execution_count": 42,
     "metadata": {},
     "output_type": "execute_result"
    }
   ],
   "source": [
    "Meterial_id[(Meterial_id['R']==0) & (Meterial_id['G']==0) & (Meterial_id['B']==0)].index[0]"
   ]
  },
  {
   "cell_type": "code",
   "execution_count": 43,
   "metadata": {},
   "outputs": [],
   "source": [
    "def getid(r=0,g=0,b=0):\n",
    "    if (len(Meterial_id[(Meterial_id['R']==r) & (Meterial_id['G']==g) & (Meterial_id['B']==b)])):\n",
    "        print(\"No record\",r,g,b)\n",
    "        return -1\n",
    "    else:\n",
    "        return Meterial_id[(Meterial_id['R']==r) & (Meterial_id['G']==g) & (Meterial_id['B']==b)].index[0]"
   ]
  },
  {
   "cell_type": "code",
   "execution_count": null,
   "metadata": {},
   "outputs": [],
   "source": [
    "from skimage import io\n",
    "photo=[]\n",
    "for i in range(1,11):\n",
    "    img = io.imread(\"crossec\"+str(i)+\".jpg\")\n",
    "    photo.append(img)"
   ]
  },
  {
   "cell_type": "code",
   "execution_count": 8,
   "metadata": {},
   "outputs": [
    {
     "name": "stdout",
     "output_type": "stream",
     "text": [
      "0\n"
     ]
    },
    {
     "ename": "KeyboardInterrupt",
     "evalue": "",
     "output_type": "error",
     "traceback": [
      "\u001b[1;31m---------------------------------------------------------------------------\u001b[0m",
      "\u001b[1;31mKeyboardInterrupt\u001b[0m                         Traceback (most recent call last)",
      "\u001b[1;32m<ipython-input-8-4901c87d6ca5>\u001b[0m in \u001b[0;36m<module>\u001b[1;34m\u001b[0m\n\u001b[0;32m      5\u001b[0m     \u001b[1;32mfor\u001b[0m \u001b[0miy\u001b[0m \u001b[1;32min\u001b[0m \u001b[0mrange\u001b[0m\u001b[1;33m(\u001b[0m\u001b[0mempty\u001b[0m\u001b[1;33m.\u001b[0m\u001b[0mshape\u001b[0m\u001b[1;33m[\u001b[0m\u001b[1;36m1\u001b[0m\u001b[1;33m]\u001b[0m\u001b[1;33m)\u001b[0m\u001b[1;33m:\u001b[0m\u001b[1;33m\u001b[0m\u001b[1;33m\u001b[0m\u001b[0m\n\u001b[0;32m      6\u001b[0m         \u001b[1;32mfor\u001b[0m \u001b[0mix\u001b[0m \u001b[1;32min\u001b[0m \u001b[0mrange\u001b[0m\u001b[1;33m(\u001b[0m\u001b[0mempty\u001b[0m\u001b[1;33m.\u001b[0m\u001b[0mshape\u001b[0m\u001b[1;33m[\u001b[0m\u001b[1;36m2\u001b[0m\u001b[1;33m]\u001b[0m\u001b[1;33m)\u001b[0m\u001b[1;33m:\u001b[0m\u001b[1;33m\u001b[0m\u001b[1;33m\u001b[0m\u001b[0m\n\u001b[1;32m----> 7\u001b[1;33m             \u001b[0mqueue\u001b[0m\u001b[1;33m=\u001b[0m\u001b[0mqueue\u001b[0m\u001b[1;33m.\u001b[0m\u001b[0mappend\u001b[0m\u001b[1;33m(\u001b[0m\u001b[1;33m{\u001b[0m\u001b[1;34m'x'\u001b[0m\u001b[1;33m:\u001b[0m\u001b[0mix\u001b[0m\u001b[1;33m,\u001b[0m\u001b[1;34m'y'\u001b[0m\u001b[1;33m:\u001b[0m\u001b[0miy\u001b[0m\u001b[1;33m,\u001b[0m\u001b[1;34m'z'\u001b[0m\u001b[1;33m:\u001b[0m\u001b[0miz\u001b[0m\u001b[1;33m,\u001b[0m\u001b[1;34m'distancepow2'\u001b[0m\u001b[1;33m:\u001b[0m\u001b[1;36m0\u001b[0m\u001b[1;33m,\u001b[0m\u001b[1;34m'distance'\u001b[0m\u001b[1;33m:\u001b[0m\u001b[1;36m0\u001b[0m\u001b[1;33m,\u001b[0m\u001b[1;34m\"material\"\u001b[0m\u001b[1;33m:\u001b[0m\u001b[1;33m-\u001b[0m\u001b[1;36m1\u001b[0m\u001b[1;33m}\u001b[0m\u001b[1;33m,\u001b[0m \u001b[0mignore_index\u001b[0m\u001b[1;33m=\u001b[0m\u001b[1;32mTrue\u001b[0m\u001b[1;33m)\u001b[0m\u001b[1;33m\u001b[0m\u001b[1;33m\u001b[0m\u001b[0m\n\u001b[0m",
      "\u001b[1;32m~\\Anaconda3\\lib\\site-packages\\pandas\\core\\frame.py\u001b[0m in \u001b[0;36mappend\u001b[1;34m(self, other, ignore_index, verify_integrity, sort)\u001b[0m\n\u001b[0;32m   6690\u001b[0m         return concat(to_concat, ignore_index=ignore_index,\n\u001b[0;32m   6691\u001b[0m                       \u001b[0mverify_integrity\u001b[0m\u001b[1;33m=\u001b[0m\u001b[0mverify_integrity\u001b[0m\u001b[1;33m,\u001b[0m\u001b[1;33m\u001b[0m\u001b[1;33m\u001b[0m\u001b[0m\n\u001b[1;32m-> 6692\u001b[1;33m                       sort=sort)\n\u001b[0m\u001b[0;32m   6693\u001b[0m \u001b[1;33m\u001b[0m\u001b[0m\n\u001b[0;32m   6694\u001b[0m     def join(self, other, on=None, how='left', lsuffix='', rsuffix='',\n",
      "\u001b[1;32m~\\Anaconda3\\lib\\site-packages\\pandas\\core\\reshape\\concat.py\u001b[0m in \u001b[0;36mconcat\u001b[1;34m(objs, axis, join, join_axes, ignore_index, keys, levels, names, verify_integrity, sort, copy)\u001b[0m\n\u001b[0;32m    227\u001b[0m                        \u001b[0mverify_integrity\u001b[0m\u001b[1;33m=\u001b[0m\u001b[0mverify_integrity\u001b[0m\u001b[1;33m,\u001b[0m\u001b[1;33m\u001b[0m\u001b[1;33m\u001b[0m\u001b[0m\n\u001b[0;32m    228\u001b[0m                        copy=copy, sort=sort)\n\u001b[1;32m--> 229\u001b[1;33m     \u001b[1;32mreturn\u001b[0m \u001b[0mop\u001b[0m\u001b[1;33m.\u001b[0m\u001b[0mget_result\u001b[0m\u001b[1;33m(\u001b[0m\u001b[1;33m)\u001b[0m\u001b[1;33m\u001b[0m\u001b[1;33m\u001b[0m\u001b[0m\n\u001b[0m\u001b[0;32m    230\u001b[0m \u001b[1;33m\u001b[0m\u001b[0m\n\u001b[0;32m    231\u001b[0m \u001b[1;33m\u001b[0m\u001b[0m\n",
      "\u001b[1;32m~\\Anaconda3\\lib\\site-packages\\pandas\\core\\reshape\\concat.py\u001b[0m in \u001b[0;36mget_result\u001b[1;34m(self)\u001b[0m\n\u001b[0;32m    424\u001b[0m             new_data = concatenate_block_managers(\n\u001b[0;32m    425\u001b[0m                 \u001b[0mmgrs_indexers\u001b[0m\u001b[1;33m,\u001b[0m \u001b[0mself\u001b[0m\u001b[1;33m.\u001b[0m\u001b[0mnew_axes\u001b[0m\u001b[1;33m,\u001b[0m \u001b[0mconcat_axis\u001b[0m\u001b[1;33m=\u001b[0m\u001b[0mself\u001b[0m\u001b[1;33m.\u001b[0m\u001b[0maxis\u001b[0m\u001b[1;33m,\u001b[0m\u001b[1;33m\u001b[0m\u001b[1;33m\u001b[0m\u001b[0m\n\u001b[1;32m--> 426\u001b[1;33m                 copy=self.copy)\n\u001b[0m\u001b[0;32m    427\u001b[0m             \u001b[1;32mif\u001b[0m \u001b[1;32mnot\u001b[0m \u001b[0mself\u001b[0m\u001b[1;33m.\u001b[0m\u001b[0mcopy\u001b[0m\u001b[1;33m:\u001b[0m\u001b[1;33m\u001b[0m\u001b[1;33m\u001b[0m\u001b[0m\n\u001b[0;32m    428\u001b[0m                 \u001b[0mnew_data\u001b[0m\u001b[1;33m.\u001b[0m\u001b[0m_consolidate_inplace\u001b[0m\u001b[1;33m(\u001b[0m\u001b[1;33m)\u001b[0m\u001b[1;33m\u001b[0m\u001b[1;33m\u001b[0m\u001b[0m\n",
      "\u001b[1;32m~\\Anaconda3\\lib\\site-packages\\pandas\\core\\internals\\managers.py\u001b[0m in \u001b[0;36mconcatenate_block_managers\u001b[1;34m(mgrs_indexers, axes, concat_axis, copy)\u001b[0m\n\u001b[0;32m   2059\u001b[0m         \u001b[1;32melse\u001b[0m\u001b[1;33m:\u001b[0m\u001b[1;33m\u001b[0m\u001b[1;33m\u001b[0m\u001b[0m\n\u001b[0;32m   2060\u001b[0m             b = make_block(\n\u001b[1;32m-> 2061\u001b[1;33m                 \u001b[0mconcatenate_join_units\u001b[0m\u001b[1;33m(\u001b[0m\u001b[0mjoin_units\u001b[0m\u001b[1;33m,\u001b[0m \u001b[0mconcat_axis\u001b[0m\u001b[1;33m,\u001b[0m \u001b[0mcopy\u001b[0m\u001b[1;33m=\u001b[0m\u001b[0mcopy\u001b[0m\u001b[1;33m)\u001b[0m\u001b[1;33m,\u001b[0m\u001b[1;33m\u001b[0m\u001b[1;33m\u001b[0m\u001b[0m\n\u001b[0m\u001b[0;32m   2062\u001b[0m                 placement=placement)\n\u001b[0;32m   2063\u001b[0m         \u001b[0mblocks\u001b[0m\u001b[1;33m.\u001b[0m\u001b[0mappend\u001b[0m\u001b[1;33m(\u001b[0m\u001b[0mb\u001b[0m\u001b[1;33m)\u001b[0m\u001b[1;33m\u001b[0m\u001b[1;33m\u001b[0m\u001b[0m\n",
      "\u001b[1;32m~\\Anaconda3\\lib\\site-packages\\pandas\\core\\internals\\concat.py\u001b[0m in \u001b[0;36mconcatenate_join_units\u001b[1;34m(join_units, concat_axis, copy)\u001b[0m\n\u001b[0;32m    254\u001b[0m                 \u001b[0mconcat_values\u001b[0m \u001b[1;33m=\u001b[0m \u001b[0mconcat_values\u001b[0m\u001b[1;33m.\u001b[0m\u001b[0mcopy\u001b[0m\u001b[1;33m(\u001b[0m\u001b[1;33m)\u001b[0m\u001b[1;33m\u001b[0m\u001b[1;33m\u001b[0m\u001b[0m\n\u001b[0;32m    255\u001b[0m     \u001b[1;32melse\u001b[0m\u001b[1;33m:\u001b[0m\u001b[1;33m\u001b[0m\u001b[1;33m\u001b[0m\u001b[0m\n\u001b[1;32m--> 256\u001b[1;33m         \u001b[0mconcat_values\u001b[0m \u001b[1;33m=\u001b[0m \u001b[0m_concat\u001b[0m\u001b[1;33m.\u001b[0m\u001b[0m_concat_compat\u001b[0m\u001b[1;33m(\u001b[0m\u001b[0mto_concat\u001b[0m\u001b[1;33m,\u001b[0m \u001b[0maxis\u001b[0m\u001b[1;33m=\u001b[0m\u001b[0mconcat_axis\u001b[0m\u001b[1;33m)\u001b[0m\u001b[1;33m\u001b[0m\u001b[1;33m\u001b[0m\u001b[0m\n\u001b[0m\u001b[0;32m    257\u001b[0m \u001b[1;33m\u001b[0m\u001b[0m\n\u001b[0;32m    258\u001b[0m     \u001b[1;32mreturn\u001b[0m \u001b[0mconcat_values\u001b[0m\u001b[1;33m\u001b[0m\u001b[1;33m\u001b[0m\u001b[0m\n",
      "\u001b[1;32m~\\Anaconda3\\lib\\site-packages\\pandas\\core\\dtypes\\concat.py\u001b[0m in \u001b[0;36m_concat_compat\u001b[1;34m(to_concat, axis)\u001b[0m\n\u001b[0;32m    168\u001b[0m                 \u001b[0mto_concat\u001b[0m \u001b[1;33m=\u001b[0m \u001b[1;33m[\u001b[0m\u001b[0mx\u001b[0m\u001b[1;33m.\u001b[0m\u001b[0mastype\u001b[0m\u001b[1;33m(\u001b[0m\u001b[1;34m'object'\u001b[0m\u001b[1;33m)\u001b[0m \u001b[1;32mfor\u001b[0m \u001b[0mx\u001b[0m \u001b[1;32min\u001b[0m \u001b[0mto_concat\u001b[0m\u001b[1;33m]\u001b[0m\u001b[1;33m\u001b[0m\u001b[1;33m\u001b[0m\u001b[0m\n\u001b[0;32m    169\u001b[0m \u001b[1;33m\u001b[0m\u001b[0m\n\u001b[1;32m--> 170\u001b[1;33m     \u001b[1;32mreturn\u001b[0m \u001b[0mnp\u001b[0m\u001b[1;33m.\u001b[0m\u001b[0mconcatenate\u001b[0m\u001b[1;33m(\u001b[0m\u001b[0mto_concat\u001b[0m\u001b[1;33m,\u001b[0m \u001b[0maxis\u001b[0m\u001b[1;33m=\u001b[0m\u001b[0maxis\u001b[0m\u001b[1;33m)\u001b[0m\u001b[1;33m\u001b[0m\u001b[1;33m\u001b[0m\u001b[0m\n\u001b[0m\u001b[0;32m    171\u001b[0m \u001b[1;33m\u001b[0m\u001b[0m\n\u001b[0;32m    172\u001b[0m \u001b[1;33m\u001b[0m\u001b[0m\n",
      "\u001b[1;31mKeyboardInterrupt\u001b[0m: "
     ]
    }
   ],
   "source": [
    "#z y x\n",
    "model = np.zeros(shape=(len(photo),photo[0].shape[0],photo[0].shape[1]))\n",
    "for iz in range(len(photo)):\n",
    "    print(iz)\n",
    "    for iy in range(photo[0].shape[0]):\n",
    "        for ix in range(photo[0].shape[1]):\n",
    "            queue=queue.append({'x':ix,'y':iy,'z':iz,'distancepow2':0,'distance':0,\"material\":getid(photo[iz][iy][ix][0],photo[iz][iy][ix][1],photo[iz][iy][ix][2])}, ignore_index=True)"
   ]
  },
  {
   "cell_type": "code",
   "execution_count": null,
   "metadata": {},
   "outputs": [],
   "source": [
    "sounddropx=0\n",
    "sounddropy=0\n",
    "sounddropz=0\n",
    "lengthx=1\n",
    "lengthy=1\n",
    "lengthz=1\n",
    "queue['distancepow2']=((queue['x']-20)*lengthx)**2+((queue['y']-20)*lengthy)**2+((queue['z']-3)*lengthz)**2\n",
    "queue['distance']=np.sqrt(list(queue['distancepow2']))"
   ]
  },
  {
   "cell_type": "code",
   "execution_count": null,
   "metadata": {},
   "outputs": [],
   "source": [
    "queue = queue.sort_values('distancepow2')\n",
    "queue=queue.reset_index()"
   ]
  },
  {
   "cell_type": "code",
   "execution_count": 9,
   "metadata": {},
   "outputs": [],
   "source": [
    "Absobtion=Meterial_spectrum['27.5']"
   ]
  },
  {
   "cell_type": "code",
   "execution_count": 46,
   "metadata": {},
   "outputs": [
    {
     "data": {
      "text/plain": [
       "0.0001582"
      ]
     },
     "execution_count": 46,
     "metadata": {},
     "output_type": "execute_result"
    }
   ],
   "source": [
    "Meterial_spectrum['27.5'][0]"
   ]
  },
  {
   "cell_type": "code",
   "execution_count": 47,
   "metadata": {},
   "outputs": [
    {
     "ename": "NameError",
     "evalue": "name 'model' is not defined",
     "output_type": "error",
     "traceback": [
      "\u001b[0;31m---------------------------------------------------------------------------\u001b[0m",
      "\u001b[0;31mNameError\u001b[0m                                 Traceback (most recent call last)",
      "\u001b[0;32m<ipython-input-47-dfb46858dcb8>\u001b[0m in \u001b[0;36m<module>\u001b[0;34m\u001b[0m\n\u001b[0;32m----> 1\u001b[0;31m \u001b[0mmodel\u001b[0m\u001b[0;34m[\u001b[0m\u001b[0msounddropz\u001b[0m\u001b[0;34m,\u001b[0m\u001b[0msounddropy\u001b[0m\u001b[0;34m,\u001b[0m\u001b[0msounddropx\u001b[0m\u001b[0;34m]\u001b[0m\u001b[0;34m=\u001b[0m\u001b[0;36m100\u001b[0m\u001b[0;34m\u001b[0m\u001b[0;34m\u001b[0m\u001b[0m\n\u001b[0m\u001b[1;32m      2\u001b[0m \u001b[0;32mfor\u001b[0m \u001b[0mi\u001b[0m \u001b[0;32min\u001b[0m \u001b[0mrange\u001b[0m\u001b[0;34m(\u001b[0m\u001b[0;36m1\u001b[0m\u001b[0;34m,\u001b[0m\u001b[0mlen\u001b[0m\u001b[0;34m(\u001b[0m\u001b[0mqueue\u001b[0m\u001b[0;34m)\u001b[0m\u001b[0;34m)\u001b[0m\u001b[0;34m:\u001b[0m\u001b[0;34m\u001b[0m\u001b[0;34m\u001b[0m\u001b[0m\n\u001b[1;32m      3\u001b[0m     \u001b[0mix\u001b[0m\u001b[0;34m=\u001b[0m\u001b[0mqueue\u001b[0m\u001b[0;34m.\u001b[0m\u001b[0miloc\u001b[0m\u001b[0;34m[\u001b[0m\u001b[0mi\u001b[0m\u001b[0;34m]\u001b[0m\u001b[0;34m.\u001b[0m\u001b[0mx\u001b[0m\u001b[0;34m\u001b[0m\u001b[0;34m\u001b[0m\u001b[0m\n\u001b[1;32m      4\u001b[0m     \u001b[0miy\u001b[0m\u001b[0;34m=\u001b[0m\u001b[0mqueue\u001b[0m\u001b[0;34m.\u001b[0m\u001b[0miloc\u001b[0m\u001b[0;34m[\u001b[0m\u001b[0mi\u001b[0m\u001b[0;34m]\u001b[0m\u001b[0;34m.\u001b[0m\u001b[0my\u001b[0m\u001b[0;34m\u001b[0m\u001b[0;34m\u001b[0m\u001b[0m\n\u001b[1;32m      5\u001b[0m     \u001b[0miz\u001b[0m\u001b[0;34m=\u001b[0m\u001b[0mqueue\u001b[0m\u001b[0;34m.\u001b[0m\u001b[0miloc\u001b[0m\u001b[0;34m[\u001b[0m\u001b[0mi\u001b[0m\u001b[0;34m]\u001b[0m\u001b[0;34m.\u001b[0m\u001b[0mz\u001b[0m\u001b[0;34m\u001b[0m\u001b[0;34m\u001b[0m\u001b[0m\n",
      "\u001b[0;31mNameError\u001b[0m: name 'model' is not defined"
     ]
    }
   ],
   "source": [
    "model[sounddropz,sounddropy,sounddropx]=100\n",
    "\n",
    "co1=1\n",
    "co2=1\n",
    "co1z=1\n",
    "co2z=1\n",
    "co3z=1\n",
    "for i in range(1,len(queue)):\n",
    "    ix=queue.iloc[i].x\n",
    "    iy=queue.iloc[i].y\n",
    "    iz=queue.iloc[i].z\n",
    "    imaterial=queue.iloc[i].material\n",
    "    Abs=Absobtion[imaterial]#abs per lengthx\n",
    "    \n",
    "    val=0\n",
    "    piece=0\n",
    "    \n",
    "    if(ix-1>=0):\n",
    "        if(model[iz][iy][ix-1]>0):\n",
    "            piece=piece+co1\n",
    "            val=val+((model[iz][iy][ix-1])*co1)\n",
    "        \n",
    "    if(ix+1<model.shape[2]):\n",
    "        if(model[iz][iy][ix+1]>0):\n",
    "            piece=piece+co1\n",
    "            val=val+((model[iz][iy][ix+1])*co1)\n",
    "        \n",
    "    if(iy-1>=0):\n",
    "        if(model[iz][iy-1][ix]>0):\n",
    "            piece=piece+co1\n",
    "            val=val+((model[iz][iy-1][ix])*co1)\n",
    "        \n",
    "    if(iy+1<model.shape[1]):\n",
    "        if(model[iz][iy+1][ix]>0):\n",
    "            piece=piece+co1\n",
    "            val=val+((model[iz][iy+1][ix])*co1)\n",
    "        \n",
    "    if(iz-1>=0):\n",
    "        if(model[iz-1][iy][ix]>0):\n",
    "            piece=piece+co1z\n",
    "            val=val+((model[iz-1][iy][ix])*co1z)\n",
    "        \n",
    "    if(iz+1<model.shape[0]):\n",
    "        if(model[iz+1][iy][ix]>0):\n",
    "            piece=piece+co1z\n",
    "            val=val+((model[iz+1][iy][ix])*co1z)\n",
    "        \n",
    "    ####################################\n",
    "    \n",
    "    if(ix-1>=0 and iy-1>=0):\n",
    "        if(model[iz][iy-1][ix-1]>0):\n",
    "            piece=piece+co2\n",
    "            val=val+((model[iz][iy-1][ix-1])*co2)\n",
    "    \n",
    "    if(ix+1<model.shape[2] and iy-1>=0):\n",
    "        if (model[iz][iy-1][ix+1]>0):\n",
    "            piece=piece+co2\n",
    "            val=val+((model[iz][iy-1][ix+1])*co2)\n",
    "    \n",
    "    if(ix-1>=0 and iy+1<model.shape[1]):\n",
    "        if(model[iz][iy+1][ix-1]>0):\n",
    "            piece=piece+co2\n",
    "            val=val+((model[iz][iy+1][ix-1])*co2)\n",
    "        \n",
    "    if(ix+1<model.shape[2] and iy+1<model.shape[1]):\n",
    "        if(model[iz][iy+1][ix+1]>0):\n",
    "            piece=piece+co2\n",
    "            val=val+((model[iz][iy+1][ix+1])*co2)\n",
    "    \n",
    "    ####\n",
    "    \n",
    "    if(ix-1>=0 and iz-1>=0):\n",
    "        if(model[iz-1][iy][ix-1]>0):\n",
    "            piece=piece+co2z\n",
    "            val=val+((model[iz-1][iy][ix-1])*co2z)\n",
    "        \n",
    "    if(ix-1>=0 and iz+1<model.shape[0]):\n",
    "        if(model[iz+1][iy][ix-1]>0):\n",
    "            piece=piece+co2z\n",
    "            val=val+((model[iz+1][iy][ix-1])*co2z)\n",
    "    \n",
    "    if(ix+1<model.shape[2] and iz-1>=0):\n",
    "        if(model[iz-1][iy][ix+1]>0):\n",
    "            piece=piece+co2z\n",
    "            val=val+((model[iz-1][iy][ix+1])*co2z)\n",
    "        \n",
    "    if(ix+1<model.shape[2] and iz+1<model.shape[0]):\n",
    "        if(model[iz+1][iy][ix+1]>0):\n",
    "            piece=piece+co2z\n",
    "            val=val+((model[iz+1][iy][ix+1])*co2z)\n",
    "    \n",
    "    ####\n",
    "    \n",
    "    if(iy-1>=0 and iz-1>=0):\n",
    "        if(model[iz-1][iy-1][ix]>0):\n",
    "            piece=piece+co2z\n",
    "            val=val+((model[iz-1][iy-1][ix])*co2z)\n",
    "        \n",
    "    if(iy-1>=0 and iz+1<model.shape[0]):\n",
    "        if(model[iz+1][iy-1][ix]>0):\n",
    "            piece=piece+co2z\n",
    "            val=val+((model[iz+1][iy-1][ix])*co2z)\n",
    "    \n",
    "    if(iy+1<model.shape[1] and iz-1>=0):\n",
    "        if(model[iz-1][iy+1][ix]>0):\n",
    "            piece=piece+co2z\n",
    "            val=val+((model[iz-1][iy+1][ix])*co2z)\n",
    "        \n",
    "    if(iy+1<model.shape[1] and iz+1<model.shape[0]):\n",
    "        if(model[iz+1][iy+1][ix]>0):\n",
    "            piece=piece+co2z\n",
    "            val=val+((model[iz+1][iy+1][ix])*co2z)\n",
    "    \n",
    "    ####################################\n",
    "    \n",
    "    if(ix-1>=0 and iy-1>=0 and iz-1>=0):\n",
    "        if(model[iz-1][iy-1][ix-1]>0):\n",
    "            piece=piece+co3z\n",
    "            val=val+((model[iz-1][iy-1][ix-1])*co3z)\n",
    "        \n",
    "    if(ix+1<model.shape[2] and iy+1<model.shape[1] and iz+1<model.shape[0]):\n",
    "        if(model[iz+1][iy+1][ix+1]>0):\n",
    "            piece=piece+co3z\n",
    "            val=val+((model[iz+1][iy+1][ix+1])*co3z)\n",
    "    \n",
    "    if(ix-1>=0 and iy-1>=0 and iz+1<model.shape[0]):\n",
    "        if(model[iz+1][iy-1][ix-1]>0):\n",
    "            piece=piece+co3z\n",
    "            val=val+((model[iz+1][iy-1][ix-1])*co3z)\n",
    "        \n",
    "    if(ix-1>=0 and iy+1<model.shape[1] and iz-1>=0):\n",
    "        if(model[iz-1][iy+1][ix-1]>0):\n",
    "            piece=piece+co3z\n",
    "            val=val+((model[iz-1][iy+1][ix-1])*co3z)\n",
    "    \n",
    "    if(ix-1>=0 and iy+1<model.shape[1] and iz+1<model.shape[0]):\n",
    "        if(model[iz+1][iy+1][ix-1]>0):\n",
    "            piece=piece+co3z\n",
    "            val=val+((model[iz+1][iy+1][ix-1])*co3z)\n",
    "    \n",
    "    ## \n",
    "    \n",
    "    if(ix+1<model.shape[2] and iy-1>=0 and iz-1>=0):\n",
    "        if(model[iz-1][iy-1][ix+1]>0):\n",
    "            piece=piece+co3z\n",
    "            val=val+((model[iz-1][iy-1][ix+1])*co3z)\n",
    "    \n",
    "    if(ix+1<model.shape[2] and iy-1>=0 and iz+1<model.shape[0]):\n",
    "        if(model[iz+1][iy-1][ix+1]>0):\n",
    "            piece=piece+co3z\n",
    "            val=val+((model[iz+1][iy-1][ix+1])*co3z)\n",
    "        \n",
    "    if(ix+1<model.shape[2] and iy+1<model.shape[1] and iz-1>=0):\n",
    "        if(model[iz-1][iy+1][ix+1]>0):\n",
    "            piece=piece+co3z\n",
    "            val=val+((model[iz-1][iy+1][ix+1])*co3z)\n",
    "            \n",
    "    model[iz,iy,ix]=(val/piece)*Abs # *sqrt(3,lengthx*lengthy*lengthz)"
   ]
  },
  {
   "cell_type": "code",
   "execution_count": null,
   "metadata": {
    "scrolled": true
   },
   "outputs": [],
   "source": [
    "#q9=queue[queue['z']==3]"
   ]
  },
  {
   "cell_type": "code",
   "execution_count": null,
   "metadata": {},
   "outputs": [],
   "source": [
    "'''\n",
    "empty9 = np.zeros(shape=(100,100))\n",
    "for i in range(len(q9)):\n",
    "    cell=q9.iloc[i]\n",
    "    empty9[cell.y][cell.x]=cell.distance\n",
    "'''"
   ]
  },
  {
   "cell_type": "code",
   "execution_count": null,
   "metadata": {},
   "outputs": [],
   "source": [
    "#max(queue['distance'])"
   ]
  },
  {
   "cell_type": "code",
   "execution_count": null,
   "metadata": {
    "scrolled": false
   },
   "outputs": [],
   "source": [
    "'''\n",
    "import matplotlib.pyplot as plt\n",
    "for j in range(10):\n",
    "    q9=queue[queue['z']==j]\n",
    "    empty9 = np.zeros(shape=(100,100))\n",
    "    for i in range(len(q9)):\n",
    "        cell=q9.iloc[i]\n",
    "        empty9[cell.y][cell.x]=cell.distance\n",
    "    plt.imshow(empty9, cmap=\"RdBu\",interpolation='nearest',\n",
    "               vmin=0, vmax=127)\n",
    "    plt.show()\n",
    "'''"
   ]
  }
 ],
 "metadata": {
  "kernelspec": {
   "display_name": "Python 3",
   "language": "python",
   "name": "python3"
  },
  "language_info": {
   "codemirror_mode": {
    "name": "ipython",
    "version": 3
   },
   "file_extension": ".py",
   "mimetype": "text/x-python",
   "name": "python",
   "nbconvert_exporter": "python",
   "pygments_lexer": "ipython3",
   "version": "3.7.3"
  }
 },
 "nbformat": 4,
 "nbformat_minor": 2
}
