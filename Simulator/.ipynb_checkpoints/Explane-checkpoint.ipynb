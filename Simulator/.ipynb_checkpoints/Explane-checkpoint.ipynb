{
 "cells": [
  {
   "cell_type": "code",
   "execution_count": 1,
   "metadata": {},
   "outputs": [],
   "source": [
    "import numpy as np\n",
    "import pandas as pd\n",
    "import math\n",
    "# 27.5 55 110 220 440 880 1760 3520 7040 14080"
   ]
  },
  {
   "cell_type": "code",
   "execution_count": 2,
   "metadata": {},
   "outputs": [],
   "source": [
    "from numpy import load\n"
   ]
  },
  {
   "cell_type": "code",
   "execution_count": 18,
   "metadata": {},
   "outputs": [
    {
     "data": {
      "text/plain": [
       "5.999999999999999"
      ]
     },
     "execution_count": 18,
     "metadata": {},
     "output_type": "execute_result"
    }
   ],
   "source": [
    "math.log(1000000,10)"
   ]
  },
  {
   "cell_type": "code",
   "execution_count": 35,
   "metadata": {},
   "outputs": [
    {
     "name": "stdout",
     "output_type": "stream",
     "text": [
      "997899.0180522639\n",
      "-0.018268094524884083\n"
     ]
    }
   ],
   "source": [
    "result = load('Result/27hz.npy')\n",
    "print(result[2,57,66])\n",
    "print(math.log((result[2,57,66]/1000000),10)*20)"
   ]
  },
  {
   "cell_type": "code",
   "execution_count": 36,
   "metadata": {},
   "outputs": [
    {
     "name": "stdout",
     "output_type": "stream",
     "text": [
      "995785.2265443798\n",
      "3.624774236228097\n",
      "-0.03668642399183079\n"
     ]
    }
   ],
   "source": [
    "result = load('Result/55hz.npy')\n",
    "print(result[2,57,66])\n",
    "print(math.log((result[2,57,66]/1000000),10)*20)"
   ]
  },
  {
   "cell_type": "code",
   "execution_count": 37,
   "metadata": {},
   "outputs": [
    {
     "name": "stdout",
     "output_type": "stream",
     "text": [
      "991550.5800606996\n",
      "3.9268268952446053\n",
      "-0.07370254130719293\n"
     ]
    }
   ],
   "source": [
    "result = load('Result/110hz.npy')\n",
    "print(result[2,57,66])\n",
    "print(math.log(1000000-result[2,57,66],10))\n",
    "print(math.log((result[2,57,66]/1000000),10)*20)"
   ]
  },
  {
   "cell_type": "code",
   "execution_count": 38,
   "metadata": {},
   "outputs": [
    {
     "name": "stdout",
     "output_type": "stream",
     "text": [
      "983091.3340051395\n",
      "4.228109345390514\n",
      "-0.14812264413431797\n"
     ]
    }
   ],
   "source": [
    "result = load('Result/220hz.npy')\n",
    "print(result[2,57,66])\n",
    "print(math.log(1000000-result[2,57,66],10))\n",
    "print(math.log((result[2,57,66]/1000000),10)*20)"
   ]
  },
  {
   "cell_type": "code",
   "execution_count": 39,
   "metadata": {},
   "outputs": [
    {
     "name": "stdout",
     "output_type": "stream",
     "text": [
      "966297.9100081237\n",
      "4.527656833921618\n",
      "-0.29777919577860057\n"
     ]
    }
   ],
   "source": [
    "result = load('Result/440hz.npy')\n",
    "print(result[2,57,66])\n",
    "print(math.log(1000000-result[2,57,66],10))\n",
    "print(math.log((result[2,57,66]/1000000),10)*20)"
   ]
  },
  {
   "cell_type": "code",
   "execution_count": 40,
   "metadata": {},
   "outputs": [
    {
     "name": "stdout",
     "output_type": "stream",
     "text": [
      "933391.6898882628\n",
      "4.823528415514578\n",
      "-0.5987214003165351\n"
     ]
    }
   ],
   "source": [
    "result = load('Result/880hz.npy')\n",
    "print(result[2,57,66])\n",
    "print(math.log(1000000-result[2,57,66],10))\n",
    "print(math.log((result[2,57,66]/1000000),10)*20)"
   ]
  },
  {
   "cell_type": "code",
   "execution_count": 41,
   "metadata": {},
   "outputs": [
    {
     "name": "stdout",
     "output_type": "stream",
     "text": [
      "870614.5941441709\n",
      "5.111885292455346\n",
      "-1.2034811404674746\n"
     ]
    }
   ],
   "source": [
    "result = load('Result/1760hz.npy')\n",
    "print(result[2,57,66])\n",
    "print(math.log(1000000-result[2,57,66],10))\n",
    "print(math.log((result[2,57,66]/1000000),10)*20)"
   ]
  },
  {
   "cell_type": "code",
   "execution_count": 42,
   "metadata": {},
   "outputs": [
    {
     "name": "stdout",
     "output_type": "stream",
     "text": [
      "757146.6790813482\n",
      "5.3853440466469555\n",
      "-2.416399563370288\n"
     ]
    }
   ],
   "source": [
    "result = load('Result/3520hz.npy')\n",
    "print(result[2,57,66])\n",
    "print(math.log(1000000-result[2,57,66],10))\n",
    "print(math.log((result[2,57,66]/1000000),10)*20)"
   ]
  },
  {
   "cell_type": "code",
   "execution_count": 43,
   "metadata": {},
   "outputs": [
    {
     "name": "stdout",
     "output_type": "stream",
     "text": [
      "572942.4082698346\n",
      "5.63048644665039\n",
      "-4.837780615718656\n"
     ]
    }
   ],
   "source": [
    "result = load('Result/7040hz.npy')\n",
    "print(result[2,57,66])\n",
    "print(math.log(1000000-result[2,57,66],10))\n",
    "print(math.log((result[2,57,66]/1000000),10)*20)"
   ]
  },
  {
   "cell_type": "code",
   "execution_count": 44,
   "metadata": {},
   "outputs": [
    {
     "name": "stdout",
     "output_type": "stream",
     "text": [
      "330286.50741040794\n",
      "5.825889048672147\n",
      "-9.62218334766089\n"
     ]
    }
   ],
   "source": [
    "result = load('Result/14080hz.npy')\n",
    "print(result[2,57,66])\n",
    "print(math.log(1000000-result[2,57,66],10))\n",
    "print(math.log((result[2,57,66]/1000000),10)*20)"
   ]
  }
 ],
 "metadata": {
  "kernelspec": {
   "display_name": "Python 3",
   "language": "python",
   "name": "python3"
  },
  "language_info": {
   "codemirror_mode": {
    "name": "ipython",
    "version": 3
   },
   "file_extension": ".py",
   "mimetype": "text/x-python",
   "name": "python",
   "nbconvert_exporter": "python",
   "pygments_lexer": "ipython3",
   "version": "3.7.3"
  }
 },
 "nbformat": 4,
 "nbformat_minor": 2
}
