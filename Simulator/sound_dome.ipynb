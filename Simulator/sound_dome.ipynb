{
 "cells": [
  {
   "cell_type": "code",
   "execution_count": 1,
   "metadata": {},
   "outputs": [],
   "source": [
    "import numpy as np\n",
    "import pandas as pd\n",
    "import math"
   ]
  },
  {
   "cell_type": "code",
   "execution_count": 2,
   "metadata": {
    "scrolled": true
   },
   "outputs": [],
   "source": [
    "Meterial_spectrum=pd.read_csv('Meterial_spectrum.csv')"
   ]
  },
  {
   "cell_type": "code",
   "execution_count": 3,
   "metadata": {
    "scrolled": true
   },
   "outputs": [],
   "source": [
    "Nameid=Meterial_spectrum['Name'].to_dict()"
   ]
  },
  {
   "cell_type": "code",
   "execution_count": 4,
   "metadata": {
    "scrolled": true
   },
   "outputs": [
    {
     "data": {
      "text/plain": [
       "{'Bone (Cancellous)': 0,\n",
       " 'Bone (Cortical)': 1,\n",
       " 'Bone Marrow (Red)': 2,\n",
       " 'Bone Marrow (Yellow)': 3,\n",
       " 'Brain': 4,\n",
       " 'Brain (Grey Matter)': 5,\n",
       " 'Brain (White Matter)': 6,\n",
       " 'Eye (Aqueous Humor)': 7,\n",
       " 'Eye (Choroid)': 8,\n",
       " 'Eye (Ciliary Body)': 9,\n",
       " 'Eye (Cornea)': 10,\n",
       " 'Eye (Iris)': 11,\n",
       " 'Eye (Lens)': 12,\n",
       " 'Eye (Retina)': 13,\n",
       " 'Eye (Sclera)': 14,\n",
       " 'Eye (Vitreous Humor)': 15,\n",
       " 'Eye Lens (Cortex)': 16,\n",
       " 'Eye Lens (Nucleus)': 17,\n",
       " 'Muscles': 18,\n",
       " 'Skin': 19,\n",
       " 'Skull Cancellous': 20,\n",
       " 'Skull Cortical': 21,\n",
       " 'Tooth': 22,\n",
       " 'Air': 23,\n",
       " 'Sinus': 24,\n",
       " 'CSF': 25,\n",
       " 'Blood Vessel Wall': 26,\n",
       " 'Tongue': 27,\n",
       " 'Connective Tissue': 28,\n",
       " 'Pharynx': 29,\n",
       " 'Larynx': 30,\n",
       " 'Trachea': 31,\n",
       " 'Body of mandible': 32,\n",
       " 'Spinal cord': 33,\n",
       " 'Mylohyoid': 34,\n",
       " 'Lingual septum': 35,\n",
       " 'Mandible': 36,\n",
       " 'Hyoglossus': 37,\n",
       " 'Cricoarytenoid': 38,\n",
       " 'Oblique Arytenoid': 39,\n",
       " 'Spinal cord2': 40,\n",
       " 'Hyoid bone': 41,\n",
       " 'Carotid shealth': 42,\n",
       " 'incisire duct': 43,\n",
       " 'lip': 44,\n",
       " 'gingira': 45,\n",
       " 'Marilla': 46,\n",
       " 'Parotid  Space': 47,\n",
       " 'Cavity': 48,\n",
       " 'Tissue': 49}"
      ]
     },
     "execution_count": 4,
     "metadata": {},
     "output_type": "execute_result"
    }
   ],
   "source": [
    "res = dict((v,k) for k,v in Nameid.items())\n",
    "Nameid=0\n",
    "Nameid=res\n",
    "Nameid"
   ]
  },
  {
   "cell_type": "code",
   "execution_count": 5,
   "metadata": {},
   "outputs": [
    {
     "name": "stderr",
     "output_type": "stream",
     "text": [
      "C:\\Users\\DellNB\\Anaconda3\\lib\\site-packages\\ipykernel_launcher.py:4: DeprecationWarning: \n",
      ".ix is deprecated. Please use\n",
      ".loc for label based indexing or\n",
      ".iloc for positional indexing\n",
      "\n",
      "See the documentation here:\n",
      "http://pandas.pydata.org/pandas-docs/stable/indexing.html#ix-indexer-is-deprecated\n",
      "  after removing the cwd from sys.path.\n"
     ]
    }
   ],
   "source": [
    "Meterial_id=pd.read_csv('Meterial_id.csv')\n",
    "Meterial_id['id']='NaN'\n",
    "for i in range(len(Meterial_id)):\n",
    "    Meterial_id.ix[i, 'id']=Nameid[Meterial_id.iloc[i].Name]"
   ]
  },
  {
   "cell_type": "code",
   "execution_count": 6,
   "metadata": {
    "scrolled": true
   },
   "outputs": [
    {
     "data": {
      "text/html": [
       "<div>\n",
       "<style scoped>\n",
       "    .dataframe tbody tr th:only-of-type {\n",
       "        vertical-align: middle;\n",
       "    }\n",
       "\n",
       "    .dataframe tbody tr th {\n",
       "        vertical-align: top;\n",
       "    }\n",
       "\n",
       "    .dataframe thead th {\n",
       "        text-align: right;\n",
       "    }\n",
       "</style>\n",
       "<table border=\"1\" class=\"dataframe\">\n",
       "  <thead>\n",
       "    <tr style=\"text-align: right;\">\n",
       "      <th></th>\n",
       "      <th>Name</th>\n",
       "      <th>R</th>\n",
       "      <th>G</th>\n",
       "      <th>B</th>\n",
       "    </tr>\n",
       "    <tr>\n",
       "      <th>id</th>\n",
       "      <th></th>\n",
       "      <th></th>\n",
       "      <th></th>\n",
       "      <th></th>\n",
       "    </tr>\n",
       "  </thead>\n",
       "  <tbody>\n",
       "    <tr>\n",
       "      <th>0</th>\n",
       "      <td>Bone (Cancellous)</td>\n",
       "      <td>255</td>\n",
       "      <td>241</td>\n",
       "      <td>210</td>\n",
       "    </tr>\n",
       "    <tr>\n",
       "      <th>1</th>\n",
       "      <td>Bone (Cortical)</td>\n",
       "      <td>255</td>\n",
       "      <td>204</td>\n",
       "      <td>181</td>\n",
       "    </tr>\n",
       "    <tr>\n",
       "      <th>2</th>\n",
       "      <td>Bone Marrow (Red)</td>\n",
       "      <td>288</td>\n",
       "      <td>110</td>\n",
       "      <td>255</td>\n",
       "    </tr>\n",
       "    <tr>\n",
       "      <th>3</th>\n",
       "      <td>Bone Marrow (Yellow)</td>\n",
       "      <td>216</td>\n",
       "      <td>216</td>\n",
       "      <td>216</td>\n",
       "    </tr>\n",
       "    <tr>\n",
       "      <th>4</th>\n",
       "      <td>Brain</td>\n",
       "      <td>255</td>\n",
       "      <td>255</td>\n",
       "      <td>119</td>\n",
       "    </tr>\n",
       "    <tr>\n",
       "      <th>5</th>\n",
       "      <td>Brain (Grey Matter)</td>\n",
       "      <td>-1</td>\n",
       "      <td>-1</td>\n",
       "      <td>-1</td>\n",
       "    </tr>\n",
       "    <tr>\n",
       "      <th>6</th>\n",
       "      <td>Brain (White Matter)</td>\n",
       "      <td>178</td>\n",
       "      <td>123</td>\n",
       "      <td>119</td>\n",
       "    </tr>\n",
       "    <tr>\n",
       "      <th>7</th>\n",
       "      <td>Eye (Aqueous Humor)</td>\n",
       "      <td>-1</td>\n",
       "      <td>-1</td>\n",
       "      <td>-1</td>\n",
       "    </tr>\n",
       "    <tr>\n",
       "      <th>8</th>\n",
       "      <td>Eye (Choroid)</td>\n",
       "      <td>-1</td>\n",
       "      <td>-1</td>\n",
       "      <td>-1</td>\n",
       "    </tr>\n",
       "    <tr>\n",
       "      <th>9</th>\n",
       "      <td>Eye (Ciliary Body)</td>\n",
       "      <td>-1</td>\n",
       "      <td>-1</td>\n",
       "      <td>-1</td>\n",
       "    </tr>\n",
       "    <tr>\n",
       "      <th>10</th>\n",
       "      <td>Eye (Cornea)</td>\n",
       "      <td>219</td>\n",
       "      <td>175</td>\n",
       "      <td>168</td>\n",
       "    </tr>\n",
       "    <tr>\n",
       "      <th>11</th>\n",
       "      <td>Eye (Iris)</td>\n",
       "      <td>-1</td>\n",
       "      <td>-1</td>\n",
       "      <td>-1</td>\n",
       "    </tr>\n",
       "    <tr>\n",
       "      <th>12</th>\n",
       "      <td>Eye (Lens)</td>\n",
       "      <td>123</td>\n",
       "      <td>255</td>\n",
       "      <td>246</td>\n",
       "    </tr>\n",
       "    <tr>\n",
       "      <th>13</th>\n",
       "      <td>Eye (Retina)</td>\n",
       "      <td>-1</td>\n",
       "      <td>-1</td>\n",
       "      <td>-1</td>\n",
       "    </tr>\n",
       "    <tr>\n",
       "      <th>14</th>\n",
       "      <td>Eye (Sclera)</td>\n",
       "      <td>-1</td>\n",
       "      <td>-1</td>\n",
       "      <td>-1</td>\n",
       "    </tr>\n",
       "    <tr>\n",
       "      <th>15</th>\n",
       "      <td>Eye (Vitreous Humor)</td>\n",
       "      <td>-1</td>\n",
       "      <td>-1</td>\n",
       "      <td>-1</td>\n",
       "    </tr>\n",
       "    <tr>\n",
       "      <th>16</th>\n",
       "      <td>Eye Lens (Cortex)</td>\n",
       "      <td>-1</td>\n",
       "      <td>-1</td>\n",
       "      <td>-1</td>\n",
       "    </tr>\n",
       "    <tr>\n",
       "      <th>17</th>\n",
       "      <td>Eye Lens (Nucleus)</td>\n",
       "      <td>-1</td>\n",
       "      <td>-1</td>\n",
       "      <td>-1</td>\n",
       "    </tr>\n",
       "    <tr>\n",
       "      <th>18</th>\n",
       "      <td>Muscles</td>\n",
       "      <td>176</td>\n",
       "      <td>39</td>\n",
       "      <td>0</td>\n",
       "    </tr>\n",
       "    <tr>\n",
       "      <th>19</th>\n",
       "      <td>Skin</td>\n",
       "      <td>255</td>\n",
       "      <td>101</td>\n",
       "      <td>77</td>\n",
       "    </tr>\n",
       "    <tr>\n",
       "      <th>20</th>\n",
       "      <td>Skull Cancellous</td>\n",
       "      <td>-1</td>\n",
       "      <td>-1</td>\n",
       "      <td>-1</td>\n",
       "    </tr>\n",
       "    <tr>\n",
       "      <th>21</th>\n",
       "      <td>Skull Cortical</td>\n",
       "      <td>-1</td>\n",
       "      <td>-1</td>\n",
       "      <td>-1</td>\n",
       "    </tr>\n",
       "    <tr>\n",
       "      <th>22</th>\n",
       "      <td>Tooth</td>\n",
       "      <td>53</td>\n",
       "      <td>96</td>\n",
       "      <td>43</td>\n",
       "    </tr>\n",
       "    <tr>\n",
       "      <th>23</th>\n",
       "      <td>Air</td>\n",
       "      <td>103</td>\n",
       "      <td>222</td>\n",
       "      <td>115</td>\n",
       "    </tr>\n",
       "    <tr>\n",
       "      <th>24</th>\n",
       "      <td>Sinus</td>\n",
       "      <td>186</td>\n",
       "      <td>239</td>\n",
       "      <td>255</td>\n",
       "    </tr>\n",
       "    <tr>\n",
       "      <th>25</th>\n",
       "      <td>CSF</td>\n",
       "      <td>-1</td>\n",
       "      <td>-1</td>\n",
       "      <td>-1</td>\n",
       "    </tr>\n",
       "    <tr>\n",
       "      <th>26</th>\n",
       "      <td>Blood Vessel Wall</td>\n",
       "      <td>255</td>\n",
       "      <td>0</td>\n",
       "      <td>0</td>\n",
       "    </tr>\n",
       "    <tr>\n",
       "      <th>27</th>\n",
       "      <td>Tongue</td>\n",
       "      <td>207</td>\n",
       "      <td>170</td>\n",
       "      <td>87</td>\n",
       "    </tr>\n",
       "    <tr>\n",
       "      <th>28</th>\n",
       "      <td>Connective Tissue</td>\n",
       "      <td>-1</td>\n",
       "      <td>-1</td>\n",
       "      <td>-1</td>\n",
       "    </tr>\n",
       "    <tr>\n",
       "      <th>29</th>\n",
       "      <td>Pharynx</td>\n",
       "      <td>174</td>\n",
       "      <td>153</td>\n",
       "      <td>97</td>\n",
       "    </tr>\n",
       "    <tr>\n",
       "      <th>30</th>\n",
       "      <td>Larynx</td>\n",
       "      <td>207</td>\n",
       "      <td>178</td>\n",
       "      <td>148</td>\n",
       "    </tr>\n",
       "    <tr>\n",
       "      <th>31</th>\n",
       "      <td>Trachea</td>\n",
       "      <td>-1</td>\n",
       "      <td>-1</td>\n",
       "      <td>-1</td>\n",
       "    </tr>\n",
       "    <tr>\n",
       "      <th>32</th>\n",
       "      <td>Body of mandible</td>\n",
       "      <td>208</td>\n",
       "      <td>220</td>\n",
       "      <td>227</td>\n",
       "    </tr>\n",
       "    <tr>\n",
       "      <th>33</th>\n",
       "      <td>Spinal cord</td>\n",
       "      <td>97</td>\n",
       "      <td>174</td>\n",
       "      <td>169</td>\n",
       "    </tr>\n",
       "    <tr>\n",
       "      <th>34</th>\n",
       "      <td>Mylohyoid</td>\n",
       "      <td>255</td>\n",
       "      <td>56</td>\n",
       "      <td>0</td>\n",
       "    </tr>\n",
       "    <tr>\n",
       "      <th>35</th>\n",
       "      <td>Lingual septum</td>\n",
       "      <td>150</td>\n",
       "      <td>150</td>\n",
       "      <td>150</td>\n",
       "    </tr>\n",
       "    <tr>\n",
       "      <th>36</th>\n",
       "      <td>Mandible</td>\n",
       "      <td>208</td>\n",
       "      <td>220</td>\n",
       "      <td>227</td>\n",
       "    </tr>\n",
       "    <tr>\n",
       "      <th>37</th>\n",
       "      <td>Hyoglossus</td>\n",
       "      <td>186</td>\n",
       "      <td>94</td>\n",
       "      <td>45</td>\n",
       "    </tr>\n",
       "    <tr>\n",
       "      <th>38</th>\n",
       "      <td>Cricoarytenoid</td>\n",
       "      <td>255</td>\n",
       "      <td>213</td>\n",
       "      <td>0</td>\n",
       "    </tr>\n",
       "    <tr>\n",
       "      <th>39</th>\n",
       "      <td>Oblique Arytenoid</td>\n",
       "      <td>127</td>\n",
       "      <td>60</td>\n",
       "      <td>60</td>\n",
       "    </tr>\n",
       "    <tr>\n",
       "      <th>40</th>\n",
       "      <td>Spinal cord2</td>\n",
       "      <td>174</td>\n",
       "      <td>148</td>\n",
       "      <td>145</td>\n",
       "    </tr>\n",
       "    <tr>\n",
       "      <th>41</th>\n",
       "      <td>Hyoid bone</td>\n",
       "      <td>148</td>\n",
       "      <td>197</td>\n",
       "      <td>192</td>\n",
       "    </tr>\n",
       "    <tr>\n",
       "      <th>42</th>\n",
       "      <td>Carotid shealth</td>\n",
       "      <td>213</td>\n",
       "      <td>195</td>\n",
       "      <td>65</td>\n",
       "    </tr>\n",
       "    <tr>\n",
       "      <th>43</th>\n",
       "      <td>incisire duct</td>\n",
       "      <td>11</td>\n",
       "      <td>206</td>\n",
       "      <td>205</td>\n",
       "    </tr>\n",
       "    <tr>\n",
       "      <th>44</th>\n",
       "      <td>lip</td>\n",
       "      <td>97</td>\n",
       "      <td>58</td>\n",
       "      <td>104</td>\n",
       "    </tr>\n",
       "    <tr>\n",
       "      <th>45</th>\n",
       "      <td>gingira</td>\n",
       "      <td>186</td>\n",
       "      <td>4</td>\n",
       "      <td>91</td>\n",
       "    </tr>\n",
       "    <tr>\n",
       "      <th>46</th>\n",
       "      <td>Marilla</td>\n",
       "      <td>208</td>\n",
       "      <td>191</td>\n",
       "      <td>211</td>\n",
       "    </tr>\n",
       "    <tr>\n",
       "      <th>47</th>\n",
       "      <td>Parotid  Space</td>\n",
       "      <td>0</td>\n",
       "      <td>255</td>\n",
       "      <td>26</td>\n",
       "    </tr>\n",
       "    <tr>\n",
       "      <th>48</th>\n",
       "      <td>Cavity</td>\n",
       "      <td>220</td>\n",
       "      <td>156</td>\n",
       "      <td>158</td>\n",
       "    </tr>\n",
       "    <tr>\n",
       "      <th>49</th>\n",
       "      <td>Tissue</td>\n",
       "      <td>207</td>\n",
       "      <td>56</td>\n",
       "      <td>204</td>\n",
       "    </tr>\n",
       "  </tbody>\n",
       "</table>\n",
       "</div>"
      ],
      "text/plain": [
       "                    Name    R    G    B\n",
       "id                                     \n",
       "0      Bone (Cancellous)  255  241  210\n",
       "1        Bone (Cortical)  255  204  181\n",
       "2      Bone Marrow (Red)  288  110  255\n",
       "3   Bone Marrow (Yellow)  216  216  216\n",
       "4                  Brain  255  255  119\n",
       "5    Brain (Grey Matter)   -1   -1   -1\n",
       "6   Brain (White Matter)  178  123  119\n",
       "7    Eye (Aqueous Humor)   -1   -1   -1\n",
       "8          Eye (Choroid)   -1   -1   -1\n",
       "9     Eye (Ciliary Body)   -1   -1   -1\n",
       "10          Eye (Cornea)  219  175  168\n",
       "11            Eye (Iris)   -1   -1   -1\n",
       "12            Eye (Lens)  123  255  246\n",
       "13          Eye (Retina)   -1   -1   -1\n",
       "14          Eye (Sclera)   -1   -1   -1\n",
       "15  Eye (Vitreous Humor)   -1   -1   -1\n",
       "16     Eye Lens (Cortex)   -1   -1   -1\n",
       "17    Eye Lens (Nucleus)   -1   -1   -1\n",
       "18               Muscles  176   39    0\n",
       "19                  Skin  255  101   77\n",
       "20      Skull Cancellous   -1   -1   -1\n",
       "21        Skull Cortical   -1   -1   -1\n",
       "22                 Tooth   53   96   43\n",
       "23                   Air  103  222  115\n",
       "24                 Sinus  186  239  255\n",
       "25                   CSF   -1   -1   -1\n",
       "26     Blood Vessel Wall  255    0    0\n",
       "27                Tongue  207  170   87\n",
       "28     Connective Tissue   -1   -1   -1\n",
       "29               Pharynx  174  153   97\n",
       "30                Larynx  207  178  148\n",
       "31               Trachea   -1   -1   -1\n",
       "32      Body of mandible  208  220  227\n",
       "33           Spinal cord   97  174  169\n",
       "34             Mylohyoid  255   56    0\n",
       "35        Lingual septum  150  150  150\n",
       "36              Mandible  208  220  227\n",
       "37            Hyoglossus  186   94   45\n",
       "38        Cricoarytenoid  255  213    0\n",
       "39     Oblique Arytenoid  127   60   60\n",
       "40          Spinal cord2  174  148  145\n",
       "41            Hyoid bone  148  197  192\n",
       "42       Carotid shealth  213  195   65\n",
       "43         incisire duct   11  206  205\n",
       "44                   lip   97   58  104\n",
       "45               gingira  186    4   91\n",
       "46               Marilla  208  191  211\n",
       "47        Parotid  Space    0  255   26\n",
       "48                Cavity  220  156  158\n",
       "49                Tissue  207   56  204"
      ]
     },
     "execution_count": 6,
     "metadata": {},
     "output_type": "execute_result"
    }
   ],
   "source": [
    "Meterial_id=Meterial_id.set_index('id')\n",
    "Meterial_id"
   ]
  },
  {
   "cell_type": "code",
   "execution_count": 7,
   "metadata": {},
   "outputs": [
    {
     "data": {
      "text/plain": [
       "id\n",
       "0     False\n",
       "1     False\n",
       "2     False\n",
       "3     False\n",
       "4     False\n",
       "5     False\n",
       "6     False\n",
       "7     False\n",
       "8     False\n",
       "9     False\n",
       "10    False\n",
       "11    False\n",
       "12    False\n",
       "13    False\n",
       "14    False\n",
       "15    False\n",
       "16    False\n",
       "17    False\n",
       "18    False\n",
       "19    False\n",
       "20    False\n",
       "21    False\n",
       "22    False\n",
       "23    False\n",
       "24    False\n",
       "25    False\n",
       "26    False\n",
       "27    False\n",
       "28    False\n",
       "29    False\n",
       "30    False\n",
       "31    False\n",
       "32    False\n",
       "33    False\n",
       "34    False\n",
       "35    False\n",
       "36    False\n",
       "37    False\n",
       "38    False\n",
       "39    False\n",
       "40    False\n",
       "41    False\n",
       "42    False\n",
       "43    False\n",
       "44     True\n",
       "45    False\n",
       "46    False\n",
       "47    False\n",
       "48    False\n",
       "49    False\n",
       "dtype: bool"
      ]
     },
     "execution_count": 7,
     "metadata": {},
     "output_type": "execute_result"
    }
   ],
   "source": [
    "(Meterial_id['R']==97) & (Meterial_id['G']==58) & (Meterial_id['B']==104)"
   ]
  },
  {
   "cell_type": "code",
   "execution_count": 8,
   "metadata": {
    "scrolled": true
   },
   "outputs": [],
   "source": [
    "#Meterial_id[(Meterial_id['R']==0) & (Meterial_id['G']==0) & (Meterial_id['B']==0)].index[0]"
   ]
  },
  {
   "cell_type": "code",
   "execution_count": 9,
   "metadata": {},
   "outputs": [],
   "source": [
    "dictforid={}\n",
    "def getid(r=0,g=0,b=0):\n",
    "    if(r==0 and g==0 and b==0):\n",
    "        return -1\n",
    "    if (len(Meterial_id[(Meterial_id['R']==r) & (Meterial_id['G']==g) & (Meterial_id['B']==b)])==0):\n",
    "        #print(\"No record\",r,g,b)\n",
    "        \n",
    "        dictforid={}\n",
    "        for i in range(len(Meterial_id)):\n",
    "            if(Meterial_id.iloc[i].R==-1 and Meterial_id.iloc[i].G==-1 and Meterial_id.iloc[i].B==-1 ):\n",
    "                pass\n",
    "            else:\n",
    "                temp=abs(Meterial_id.iloc[i].R-r)+abs(Meterial_id.iloc[i].G-g)+abs(Meterial_id.iloc[i].B-b)\n",
    "                #print(temp)\n",
    "                if temp<50:\n",
    "                    dictforid[i]=temp\n",
    "        dictforid[-1]=abs(r)+abs(g)+abs(b)\n",
    "        return min(dictforid, key=dictforid.get)\n",
    "        return -2\n",
    "    else:\n",
    "        return Meterial_id[(Meterial_id['R']==r) & (Meterial_id['G']==g) & (Meterial_id['B']==b)].index[0]"
   ]
  },
  {
   "cell_type": "code",
   "execution_count": 10,
   "metadata": {},
   "outputs": [
    {
     "data": {
      "text/plain": [
       "1"
      ]
     },
     "execution_count": 10,
     "metadata": {},
     "output_type": "execute_result"
    }
   ],
   "source": [
    "getid(255,200,210)"
   ]
  },
  {
   "cell_type": "code",
   "execution_count": 11,
   "metadata": {},
   "outputs": [],
   "source": [
    "from skimage import io\n",
    "photo=[]\n",
    "for i in range(1,31):\n",
    "    img = io.imread(\"Sample/CT\"+str(i)+\".png\")\n",
    "    photo.append(img)"
   ]
  },
  {
   "cell_type": "code",
   "execution_count": 12,
   "metadata": {},
   "outputs": [
    {
     "data": {
      "text/plain": [
       "Array([  0, 255], dtype=uint8)"
      ]
     },
     "execution_count": 12,
     "metadata": {},
     "output_type": "execute_result"
    }
   ],
   "source": [
    "np.unique(photo[0][:,:,3])"
   ]
  },
  {
   "cell_type": "code",
   "execution_count": 17,
   "metadata": {
    "scrolled": false
   },
   "outputs": [
    {
     "data": {
      "text/html": [
       "<div>\n",
       "<style scoped>\n",
       "    .dataframe tbody tr th:only-of-type {\n",
       "        vertical-align: middle;\n",
       "    }\n",
       "\n",
       "    .dataframe tbody tr th {\n",
       "        vertical-align: top;\n",
       "    }\n",
       "\n",
       "    .dataframe thead th {\n",
       "        text-align: right;\n",
       "    }\n",
       "</style>\n",
       "<table border=\"1\" class=\"dataframe\">\n",
       "  <thead>\n",
       "    <tr style=\"text-align: right;\">\n",
       "      <th></th>\n",
       "      <th>x</th>\n",
       "      <th>y</th>\n",
       "      <th>z</th>\n",
       "      <th>distancepow2</th>\n",
       "      <th>distance</th>\n",
       "      <th>material</th>\n",
       "    </tr>\n",
       "  </thead>\n",
       "  <tbody>\n",
       "  </tbody>\n",
       "</table>\n",
       "</div>"
      ],
      "text/plain": [
       "Empty DataFrame\n",
       "Columns: [x, y, z, distancepow2, distance, material]\n",
       "Index: []"
      ]
     },
     "execution_count": 17,
     "metadata": {},
     "output_type": "execute_result"
    }
   ],
   "source": [
    "queue=pd.DataFrame(columns=['x','y','z','distancepow2','distance','material'])\n",
    "#queue=queue.append({'x':0,'y':0,'z':0,'distancepow2':0,'distance':0}, ignore_index=True)\n",
    "queue"
   ]
  },
  {
   "cell_type": "code",
   "execution_count": 14,
   "metadata": {},
   "outputs": [],
   "source": [
    "#queue=pd.read_csv('queue_wo_dis.csv')"
   ]
  },
  {
   "cell_type": "code",
   "execution_count": 18,
   "metadata": {},
   "outputs": [],
   "source": [
    "done=0"
   ]
  },
  {
   "cell_type": "code",
   "execution_count": 20,
   "metadata": {},
   "outputs": [
    {
     "name": "stdout",
     "output_type": "stream",
     "text": [
      "0\n"
     ]
    },
    {
     "data": {
      "application/vnd.jupyter.widget-view+json": {
       "model_id": "def8bfd765b4454eaf89034e43cafc8b",
       "version_major": 2,
       "version_minor": 0
      },
      "text/plain": [
       "HBox(children=(IntProgress(value=0, max=334), HTML(value='')))"
      ]
     },
     "metadata": {},
     "output_type": "display_data"
    },
    {
     "name": "stderr",
     "output_type": "stream",
     "text": [
      "C:\\Users\\DellNB\\Anaconda3\\lib\\site-packages\\ipykernel_launcher.py:17: RuntimeWarning: overflow encountered in ubyte_scalars\n"
     ]
    },
    {
     "name": "stdout",
     "output_type": "stream",
     "text": [
      "2\n"
     ]
    },
    {
     "data": {
      "application/vnd.jupyter.widget-view+json": {
       "model_id": "bad70e71d4d3489b84053093acfb9f80",
       "version_major": 2,
       "version_minor": 0
      },
      "text/plain": [
       "HBox(children=(IntProgress(value=0, max=334), HTML(value='')))"
      ]
     },
     "metadata": {},
     "output_type": "display_data"
    },
    {
     "name": "stdout",
     "output_type": "stream",
     "text": [
      "4\n"
     ]
    },
    {
     "data": {
      "application/vnd.jupyter.widget-view+json": {
       "model_id": "e4e124a2484f467590a95df76b616ddc",
       "version_major": 2,
       "version_minor": 0
      },
      "text/plain": [
       "HBox(children=(IntProgress(value=0, max=334), HTML(value='')))"
      ]
     },
     "metadata": {},
     "output_type": "display_data"
    },
    {
     "name": "stdout",
     "output_type": "stream",
     "text": [
      "6\n"
     ]
    },
    {
     "data": {
      "application/vnd.jupyter.widget-view+json": {
       "model_id": "af96c28c771c42b6814bfb4804faf938",
       "version_major": 2,
       "version_minor": 0
      },
      "text/plain": [
       "HBox(children=(IntProgress(value=0, max=334), HTML(value='')))"
      ]
     },
     "metadata": {},
     "output_type": "display_data"
    },
    {
     "name": "stdout",
     "output_type": "stream",
     "text": [
      "8\n"
     ]
    },
    {
     "data": {
      "application/vnd.jupyter.widget-view+json": {
       "model_id": "c2016d5e415a434bbfe201595c11f06c",
       "version_major": 2,
       "version_minor": 0
      },
      "text/plain": [
       "HBox(children=(IntProgress(value=0, max=334), HTML(value='')))"
      ]
     },
     "metadata": {},
     "output_type": "display_data"
    },
    {
     "name": "stdout",
     "output_type": "stream",
     "text": [
      "10\n"
     ]
    },
    {
     "data": {
      "application/vnd.jupyter.widget-view+json": {
       "model_id": "40daf249369d4d5daeb44ff0b58bee66",
       "version_major": 2,
       "version_minor": 0
      },
      "text/plain": [
       "HBox(children=(IntProgress(value=0, max=334), HTML(value='')))"
      ]
     },
     "metadata": {},
     "output_type": "display_data"
    },
    {
     "name": "stdout",
     "output_type": "stream",
     "text": [
      "12\n"
     ]
    },
    {
     "data": {
      "application/vnd.jupyter.widget-view+json": {
       "model_id": "fca8e3e158ee4038a913788f2cb4413b",
       "version_major": 2,
       "version_minor": 0
      },
      "text/plain": [
       "HBox(children=(IntProgress(value=0, max=334), HTML(value='')))"
      ]
     },
     "metadata": {},
     "output_type": "display_data"
    },
    {
     "name": "stdout",
     "output_type": "stream",
     "text": [
      "14\n"
     ]
    },
    {
     "data": {
      "application/vnd.jupyter.widget-view+json": {
       "model_id": "c00594873f8244d789db0059be70cd0a",
       "version_major": 2,
       "version_minor": 0
      },
      "text/plain": [
       "HBox(children=(IntProgress(value=0, max=334), HTML(value='')))"
      ]
     },
     "metadata": {},
     "output_type": "display_data"
    },
    {
     "name": "stdout",
     "output_type": "stream",
     "text": [
      "16\n"
     ]
    },
    {
     "data": {
      "application/vnd.jupyter.widget-view+json": {
       "model_id": "8cee60fefb5145e5bcf3c24e0c77b768",
       "version_major": 2,
       "version_minor": 0
      },
      "text/plain": [
       "HBox(children=(IntProgress(value=0, max=334), HTML(value='')))"
      ]
     },
     "metadata": {},
     "output_type": "display_data"
    },
    {
     "name": "stdout",
     "output_type": "stream",
     "text": [
      "18\n"
     ]
    },
    {
     "data": {
      "application/vnd.jupyter.widget-view+json": {
       "model_id": "96f635377c294d87b39918571284ce89",
       "version_major": 2,
       "version_minor": 0
      },
      "text/plain": [
       "HBox(children=(IntProgress(value=0, max=334), HTML(value='')))"
      ]
     },
     "metadata": {},
     "output_type": "display_data"
    },
    {
     "name": "stdout",
     "output_type": "stream",
     "text": [
      "20\n"
     ]
    },
    {
     "data": {
      "application/vnd.jupyter.widget-view+json": {
       "model_id": "d47fcb4e7d5c4eeaa1ef9577f7ee7555",
       "version_major": 2,
       "version_minor": 0
      },
      "text/plain": [
       "HBox(children=(IntProgress(value=0, max=334), HTML(value='')))"
      ]
     },
     "metadata": {},
     "output_type": "display_data"
    },
    {
     "name": "stdout",
     "output_type": "stream",
     "text": [
      "22\n"
     ]
    },
    {
     "data": {
      "application/vnd.jupyter.widget-view+json": {
       "model_id": "0368b1a8bf89412c8f41afc97a38670a",
       "version_major": 2,
       "version_minor": 0
      },
      "text/plain": [
       "HBox(children=(IntProgress(value=0, max=334), HTML(value='')))"
      ]
     },
     "metadata": {},
     "output_type": "display_data"
    },
    {
     "name": "stdout",
     "output_type": "stream",
     "text": [
      "24\n"
     ]
    },
    {
     "data": {
      "application/vnd.jupyter.widget-view+json": {
       "model_id": "433b6f5b07d94b03ba8d994b4d3c074f",
       "version_major": 2,
       "version_minor": 0
      },
      "text/plain": [
       "HBox(children=(IntProgress(value=0, max=334), HTML(value='')))"
      ]
     },
     "metadata": {},
     "output_type": "display_data"
    },
    {
     "name": "stdout",
     "output_type": "stream",
     "text": [
      "26\n"
     ]
    },
    {
     "data": {
      "application/vnd.jupyter.widget-view+json": {
       "model_id": "dc4a9c8b32864d66930c037fbc315750",
       "version_major": 2,
       "version_minor": 0
      },
      "text/plain": [
       "HBox(children=(IntProgress(value=0, max=334), HTML(value='')))"
      ]
     },
     "metadata": {},
     "output_type": "display_data"
    },
    {
     "name": "stdout",
     "output_type": "stream",
     "text": [
      "28\n"
     ]
    },
    {
     "data": {
      "application/vnd.jupyter.widget-view+json": {
       "model_id": "0789f4605d7f4c348b177da3d8c09c6a",
       "version_major": 2,
       "version_minor": 0
      },
      "text/plain": [
       "HBox(children=(IntProgress(value=0, max=334), HTML(value='')))"
      ]
     },
     "metadata": {},
     "output_type": "display_data"
    }
   ],
   "source": [
    "from tqdm import tqdm_notebook as tqdm\n",
    "#z y x\n",
    "model = np.zeros(shape=(len(photo),photo[0].shape[0],photo[0].shape[1]))\n",
    "#sz=done//(photo[0].shape[0]*photo[0].shape[1])\n",
    "#sy=(done%(photo[0].shape[0]*photo[0].shape[1]))//photo[0].shape[1]\n",
    "#sx=(done%(photo[0].shape[0]*photo[0].shape[1]))%photo[0].shape[1]\n",
    "lz=2\n",
    "ly=5\n",
    "lx=5\n",
    "for iz in range(0,len(photo),lz):\n",
    "    #if(iz==0):\n",
    "    #    iz=sz\n",
    "    print(iz)\n",
    "    #if iz%2==1:\n",
    "    #    done=done+(photo[0].shape[0]*photo[0].shape[1])\n",
    "    #    pass\n",
    "    for iy in tqdm(range(0,photo[0].shape[0],ly)):\n",
    "        #if(iy==0 and iz==sz):\n",
    "          #  iy=sy\n",
    "        for ix in range(0,photo[0].shape[1],lx):\n",
    "            #if(ix==0 and iy==sy and iz==sz):\n",
    "             #   ix=sx\n",
    "            #if(iy>600 and ix%300==0):\n",
    "                #print(\"\\n--->\",ix,iy,iz)\n",
    "                    \n",
    "            if(photo[iz][iy][ix][3]>0):\n",
    "                queue=queue.append({'x':ix,'y':iy,'z':iz,'distancepow2':0,'distance':0,\"material\":getid(photo[iz][iy][ix][0],photo[iz][iy][ix][1],photo[iz][iy][ix][2])}, ignore_index=True)\n",
    "            done=done+1"
   ]
  },
  {
   "cell_type": "code",
   "execution_count": 21,
   "metadata": {},
   "outputs": [
    {
     "name": "stdout",
     "output_type": "stream",
     "text": [
      "2229450\n"
     ]
    },
    {
     "data": {
      "text/html": [
       "<div>\n",
       "<style scoped>\n",
       "    .dataframe tbody tr th:only-of-type {\n",
       "        vertical-align: middle;\n",
       "    }\n",
       "\n",
       "    .dataframe tbody tr th {\n",
       "        vertical-align: top;\n",
       "    }\n",
       "\n",
       "    .dataframe thead th {\n",
       "        text-align: right;\n",
       "    }\n",
       "</style>\n",
       "<table border=\"1\" class=\"dataframe\">\n",
       "  <thead>\n",
       "    <tr style=\"text-align: right;\">\n",
       "      <th></th>\n",
       "      <th>x</th>\n",
       "      <th>y</th>\n",
       "      <th>z</th>\n",
       "      <th>distancepow2</th>\n",
       "      <th>distance</th>\n",
       "      <th>material</th>\n",
       "    </tr>\n",
       "  </thead>\n",
       "  <tbody>\n",
       "    <tr>\n",
       "      <th>0</th>\n",
       "      <td>1180</td>\n",
       "      <td>635</td>\n",
       "      <td>0</td>\n",
       "      <td>0</td>\n",
       "      <td>0</td>\n",
       "      <td>19</td>\n",
       "    </tr>\n",
       "    <tr>\n",
       "      <th>1</th>\n",
       "      <td>1185</td>\n",
       "      <td>635</td>\n",
       "      <td>0</td>\n",
       "      <td>0</td>\n",
       "      <td>0</td>\n",
       "      <td>19</td>\n",
       "    </tr>\n",
       "    <tr>\n",
       "      <th>2</th>\n",
       "      <td>1190</td>\n",
       "      <td>635</td>\n",
       "      <td>0</td>\n",
       "      <td>0</td>\n",
       "      <td>0</td>\n",
       "      <td>19</td>\n",
       "    </tr>\n",
       "    <tr>\n",
       "      <th>3</th>\n",
       "      <td>1195</td>\n",
       "      <td>635</td>\n",
       "      <td>0</td>\n",
       "      <td>0</td>\n",
       "      <td>0</td>\n",
       "      <td>19</td>\n",
       "    </tr>\n",
       "    <tr>\n",
       "      <th>4</th>\n",
       "      <td>1200</td>\n",
       "      <td>635</td>\n",
       "      <td>0</td>\n",
       "      <td>0</td>\n",
       "      <td>0</td>\n",
       "      <td>19</td>\n",
       "    </tr>\n",
       "    <tr>\n",
       "      <th>5</th>\n",
       "      <td>1205</td>\n",
       "      <td>635</td>\n",
       "      <td>0</td>\n",
       "      <td>0</td>\n",
       "      <td>0</td>\n",
       "      <td>19</td>\n",
       "    </tr>\n",
       "    <tr>\n",
       "      <th>6</th>\n",
       "      <td>1210</td>\n",
       "      <td>635</td>\n",
       "      <td>0</td>\n",
       "      <td>0</td>\n",
       "      <td>0</td>\n",
       "      <td>19</td>\n",
       "    </tr>\n",
       "    <tr>\n",
       "      <th>7</th>\n",
       "      <td>1215</td>\n",
       "      <td>635</td>\n",
       "      <td>0</td>\n",
       "      <td>0</td>\n",
       "      <td>0</td>\n",
       "      <td>19</td>\n",
       "    </tr>\n",
       "    <tr>\n",
       "      <th>8</th>\n",
       "      <td>1155</td>\n",
       "      <td>640</td>\n",
       "      <td>0</td>\n",
       "      <td>0</td>\n",
       "      <td>0</td>\n",
       "      <td>19</td>\n",
       "    </tr>\n",
       "    <tr>\n",
       "      <th>9</th>\n",
       "      <td>1160</td>\n",
       "      <td>640</td>\n",
       "      <td>0</td>\n",
       "      <td>0</td>\n",
       "      <td>0</td>\n",
       "      <td>19</td>\n",
       "    </tr>\n",
       "    <tr>\n",
       "      <th>10</th>\n",
       "      <td>1165</td>\n",
       "      <td>640</td>\n",
       "      <td>0</td>\n",
       "      <td>0</td>\n",
       "      <td>0</td>\n",
       "      <td>19</td>\n",
       "    </tr>\n",
       "    <tr>\n",
       "      <th>11</th>\n",
       "      <td>1170</td>\n",
       "      <td>640</td>\n",
       "      <td>0</td>\n",
       "      <td>0</td>\n",
       "      <td>0</td>\n",
       "      <td>19</td>\n",
       "    </tr>\n",
       "    <tr>\n",
       "      <th>12</th>\n",
       "      <td>1175</td>\n",
       "      <td>640</td>\n",
       "      <td>0</td>\n",
       "      <td>0</td>\n",
       "      <td>0</td>\n",
       "      <td>19</td>\n",
       "    </tr>\n",
       "    <tr>\n",
       "      <th>13</th>\n",
       "      <td>1180</td>\n",
       "      <td>640</td>\n",
       "      <td>0</td>\n",
       "      <td>0</td>\n",
       "      <td>0</td>\n",
       "      <td>19</td>\n",
       "    </tr>\n",
       "    <tr>\n",
       "      <th>14</th>\n",
       "      <td>1185</td>\n",
       "      <td>640</td>\n",
       "      <td>0</td>\n",
       "      <td>0</td>\n",
       "      <td>0</td>\n",
       "      <td>19</td>\n",
       "    </tr>\n",
       "    <tr>\n",
       "      <th>15</th>\n",
       "      <td>1190</td>\n",
       "      <td>640</td>\n",
       "      <td>0</td>\n",
       "      <td>0</td>\n",
       "      <td>0</td>\n",
       "      <td>19</td>\n",
       "    </tr>\n",
       "    <tr>\n",
       "      <th>16</th>\n",
       "      <td>1195</td>\n",
       "      <td>640</td>\n",
       "      <td>0</td>\n",
       "      <td>0</td>\n",
       "      <td>0</td>\n",
       "      <td>19</td>\n",
       "    </tr>\n",
       "    <tr>\n",
       "      <th>17</th>\n",
       "      <td>1200</td>\n",
       "      <td>640</td>\n",
       "      <td>0</td>\n",
       "      <td>0</td>\n",
       "      <td>0</td>\n",
       "      <td>19</td>\n",
       "    </tr>\n",
       "    <tr>\n",
       "      <th>18</th>\n",
       "      <td>1205</td>\n",
       "      <td>640</td>\n",
       "      <td>0</td>\n",
       "      <td>0</td>\n",
       "      <td>0</td>\n",
       "      <td>19</td>\n",
       "    </tr>\n",
       "    <tr>\n",
       "      <th>19</th>\n",
       "      <td>1210</td>\n",
       "      <td>640</td>\n",
       "      <td>0</td>\n",
       "      <td>0</td>\n",
       "      <td>0</td>\n",
       "      <td>19</td>\n",
       "    </tr>\n",
       "    <tr>\n",
       "      <th>20</th>\n",
       "      <td>1215</td>\n",
       "      <td>640</td>\n",
       "      <td>0</td>\n",
       "      <td>0</td>\n",
       "      <td>0</td>\n",
       "      <td>19</td>\n",
       "    </tr>\n",
       "    <tr>\n",
       "      <th>21</th>\n",
       "      <td>1220</td>\n",
       "      <td>640</td>\n",
       "      <td>0</td>\n",
       "      <td>0</td>\n",
       "      <td>0</td>\n",
       "      <td>19</td>\n",
       "    </tr>\n",
       "    <tr>\n",
       "      <th>22</th>\n",
       "      <td>1225</td>\n",
       "      <td>640</td>\n",
       "      <td>0</td>\n",
       "      <td>0</td>\n",
       "      <td>0</td>\n",
       "      <td>19</td>\n",
       "    </tr>\n",
       "    <tr>\n",
       "      <th>23</th>\n",
       "      <td>1140</td>\n",
       "      <td>645</td>\n",
       "      <td>0</td>\n",
       "      <td>0</td>\n",
       "      <td>0</td>\n",
       "      <td>19</td>\n",
       "    </tr>\n",
       "    <tr>\n",
       "      <th>24</th>\n",
       "      <td>1145</td>\n",
       "      <td>645</td>\n",
       "      <td>0</td>\n",
       "      <td>0</td>\n",
       "      <td>0</td>\n",
       "      <td>19</td>\n",
       "    </tr>\n",
       "    <tr>\n",
       "      <th>25</th>\n",
       "      <td>1150</td>\n",
       "      <td>645</td>\n",
       "      <td>0</td>\n",
       "      <td>0</td>\n",
       "      <td>0</td>\n",
       "      <td>19</td>\n",
       "    </tr>\n",
       "    <tr>\n",
       "      <th>26</th>\n",
       "      <td>1155</td>\n",
       "      <td>645</td>\n",
       "      <td>0</td>\n",
       "      <td>0</td>\n",
       "      <td>0</td>\n",
       "      <td>19</td>\n",
       "    </tr>\n",
       "    <tr>\n",
       "      <th>27</th>\n",
       "      <td>1160</td>\n",
       "      <td>645</td>\n",
       "      <td>0</td>\n",
       "      <td>0</td>\n",
       "      <td>0</td>\n",
       "      <td>19</td>\n",
       "    </tr>\n",
       "    <tr>\n",
       "      <th>28</th>\n",
       "      <td>1165</td>\n",
       "      <td>645</td>\n",
       "      <td>0</td>\n",
       "      <td>0</td>\n",
       "      <td>0</td>\n",
       "      <td>19</td>\n",
       "    </tr>\n",
       "    <tr>\n",
       "      <th>29</th>\n",
       "      <td>1170</td>\n",
       "      <td>645</td>\n",
       "      <td>0</td>\n",
       "      <td>0</td>\n",
       "      <td>0</td>\n",
       "      <td>19</td>\n",
       "    </tr>\n",
       "    <tr>\n",
       "      <th>...</th>\n",
       "      <td>...</td>\n",
       "      <td>...</td>\n",
       "      <td>...</td>\n",
       "      <td>...</td>\n",
       "      <td>...</td>\n",
       "      <td>...</td>\n",
       "    </tr>\n",
       "    <tr>\n",
       "      <th>400724</th>\n",
       "      <td>1170</td>\n",
       "      <td>1485</td>\n",
       "      <td>28</td>\n",
       "      <td>0</td>\n",
       "      <td>0</td>\n",
       "      <td>19</td>\n",
       "    </tr>\n",
       "    <tr>\n",
       "      <th>400725</th>\n",
       "      <td>1175</td>\n",
       "      <td>1485</td>\n",
       "      <td>28</td>\n",
       "      <td>0</td>\n",
       "      <td>0</td>\n",
       "      <td>19</td>\n",
       "    </tr>\n",
       "    <tr>\n",
       "      <th>400726</th>\n",
       "      <td>1180</td>\n",
       "      <td>1485</td>\n",
       "      <td>28</td>\n",
       "      <td>0</td>\n",
       "      <td>0</td>\n",
       "      <td>19</td>\n",
       "    </tr>\n",
       "    <tr>\n",
       "      <th>400727</th>\n",
       "      <td>1185</td>\n",
       "      <td>1485</td>\n",
       "      <td>28</td>\n",
       "      <td>0</td>\n",
       "      <td>0</td>\n",
       "      <td>19</td>\n",
       "    </tr>\n",
       "    <tr>\n",
       "      <th>400728</th>\n",
       "      <td>1190</td>\n",
       "      <td>1485</td>\n",
       "      <td>28</td>\n",
       "      <td>0</td>\n",
       "      <td>0</td>\n",
       "      <td>19</td>\n",
       "    </tr>\n",
       "    <tr>\n",
       "      <th>400729</th>\n",
       "      <td>1195</td>\n",
       "      <td>1485</td>\n",
       "      <td>28</td>\n",
       "      <td>0</td>\n",
       "      <td>0</td>\n",
       "      <td>19</td>\n",
       "    </tr>\n",
       "    <tr>\n",
       "      <th>400730</th>\n",
       "      <td>1200</td>\n",
       "      <td>1485</td>\n",
       "      <td>28</td>\n",
       "      <td>0</td>\n",
       "      <td>0</td>\n",
       "      <td>19</td>\n",
       "    </tr>\n",
       "    <tr>\n",
       "      <th>400731</th>\n",
       "      <td>1205</td>\n",
       "      <td>1485</td>\n",
       "      <td>28</td>\n",
       "      <td>0</td>\n",
       "      <td>0</td>\n",
       "      <td>19</td>\n",
       "    </tr>\n",
       "    <tr>\n",
       "      <th>400732</th>\n",
       "      <td>1210</td>\n",
       "      <td>1485</td>\n",
       "      <td>28</td>\n",
       "      <td>0</td>\n",
       "      <td>0</td>\n",
       "      <td>19</td>\n",
       "    </tr>\n",
       "    <tr>\n",
       "      <th>400733</th>\n",
       "      <td>1215</td>\n",
       "      <td>1485</td>\n",
       "      <td>28</td>\n",
       "      <td>0</td>\n",
       "      <td>0</td>\n",
       "      <td>19</td>\n",
       "    </tr>\n",
       "    <tr>\n",
       "      <th>400734</th>\n",
       "      <td>1220</td>\n",
       "      <td>1485</td>\n",
       "      <td>28</td>\n",
       "      <td>0</td>\n",
       "      <td>0</td>\n",
       "      <td>19</td>\n",
       "    </tr>\n",
       "    <tr>\n",
       "      <th>400735</th>\n",
       "      <td>1225</td>\n",
       "      <td>1485</td>\n",
       "      <td>28</td>\n",
       "      <td>0</td>\n",
       "      <td>0</td>\n",
       "      <td>19</td>\n",
       "    </tr>\n",
       "    <tr>\n",
       "      <th>400736</th>\n",
       "      <td>1230</td>\n",
       "      <td>1485</td>\n",
       "      <td>28</td>\n",
       "      <td>0</td>\n",
       "      <td>0</td>\n",
       "      <td>19</td>\n",
       "    </tr>\n",
       "    <tr>\n",
       "      <th>400737</th>\n",
       "      <td>1235</td>\n",
       "      <td>1485</td>\n",
       "      <td>28</td>\n",
       "      <td>0</td>\n",
       "      <td>0</td>\n",
       "      <td>19</td>\n",
       "    </tr>\n",
       "    <tr>\n",
       "      <th>400738</th>\n",
       "      <td>1240</td>\n",
       "      <td>1485</td>\n",
       "      <td>28</td>\n",
       "      <td>0</td>\n",
       "      <td>0</td>\n",
       "      <td>19</td>\n",
       "    </tr>\n",
       "    <tr>\n",
       "      <th>400739</th>\n",
       "      <td>1245</td>\n",
       "      <td>1485</td>\n",
       "      <td>28</td>\n",
       "      <td>0</td>\n",
       "      <td>0</td>\n",
       "      <td>19</td>\n",
       "    </tr>\n",
       "    <tr>\n",
       "      <th>400740</th>\n",
       "      <td>1250</td>\n",
       "      <td>1485</td>\n",
       "      <td>28</td>\n",
       "      <td>0</td>\n",
       "      <td>0</td>\n",
       "      <td>19</td>\n",
       "    </tr>\n",
       "    <tr>\n",
       "      <th>400741</th>\n",
       "      <td>1255</td>\n",
       "      <td>1485</td>\n",
       "      <td>28</td>\n",
       "      <td>0</td>\n",
       "      <td>0</td>\n",
       "      <td>19</td>\n",
       "    </tr>\n",
       "    <tr>\n",
       "      <th>400742</th>\n",
       "      <td>1260</td>\n",
       "      <td>1485</td>\n",
       "      <td>28</td>\n",
       "      <td>0</td>\n",
       "      <td>0</td>\n",
       "      <td>19</td>\n",
       "    </tr>\n",
       "    <tr>\n",
       "      <th>400743</th>\n",
       "      <td>1265</td>\n",
       "      <td>1485</td>\n",
       "      <td>28</td>\n",
       "      <td>0</td>\n",
       "      <td>0</td>\n",
       "      <td>19</td>\n",
       "    </tr>\n",
       "    <tr>\n",
       "      <th>400744</th>\n",
       "      <td>1270</td>\n",
       "      <td>1485</td>\n",
       "      <td>28</td>\n",
       "      <td>0</td>\n",
       "      <td>0</td>\n",
       "      <td>19</td>\n",
       "    </tr>\n",
       "    <tr>\n",
       "      <th>400745</th>\n",
       "      <td>1275</td>\n",
       "      <td>1485</td>\n",
       "      <td>28</td>\n",
       "      <td>0</td>\n",
       "      <td>0</td>\n",
       "      <td>19</td>\n",
       "    </tr>\n",
       "    <tr>\n",
       "      <th>400746</th>\n",
       "      <td>1280</td>\n",
       "      <td>1485</td>\n",
       "      <td>28</td>\n",
       "      <td>0</td>\n",
       "      <td>0</td>\n",
       "      <td>19</td>\n",
       "    </tr>\n",
       "    <tr>\n",
       "      <th>400747</th>\n",
       "      <td>1285</td>\n",
       "      <td>1485</td>\n",
       "      <td>28</td>\n",
       "      <td>0</td>\n",
       "      <td>0</td>\n",
       "      <td>19</td>\n",
       "    </tr>\n",
       "    <tr>\n",
       "      <th>400748</th>\n",
       "      <td>1290</td>\n",
       "      <td>1485</td>\n",
       "      <td>28</td>\n",
       "      <td>0</td>\n",
       "      <td>0</td>\n",
       "      <td>19</td>\n",
       "    </tr>\n",
       "    <tr>\n",
       "      <th>400749</th>\n",
       "      <td>1230</td>\n",
       "      <td>1490</td>\n",
       "      <td>28</td>\n",
       "      <td>0</td>\n",
       "      <td>0</td>\n",
       "      <td>19</td>\n",
       "    </tr>\n",
       "    <tr>\n",
       "      <th>400750</th>\n",
       "      <td>1235</td>\n",
       "      <td>1490</td>\n",
       "      <td>28</td>\n",
       "      <td>0</td>\n",
       "      <td>0</td>\n",
       "      <td>19</td>\n",
       "    </tr>\n",
       "    <tr>\n",
       "      <th>400751</th>\n",
       "      <td>1240</td>\n",
       "      <td>1490</td>\n",
       "      <td>28</td>\n",
       "      <td>0</td>\n",
       "      <td>0</td>\n",
       "      <td>19</td>\n",
       "    </tr>\n",
       "    <tr>\n",
       "      <th>400752</th>\n",
       "      <td>1245</td>\n",
       "      <td>1490</td>\n",
       "      <td>28</td>\n",
       "      <td>0</td>\n",
       "      <td>0</td>\n",
       "      <td>19</td>\n",
       "    </tr>\n",
       "    <tr>\n",
       "      <th>400753</th>\n",
       "      <td>1250</td>\n",
       "      <td>1490</td>\n",
       "      <td>28</td>\n",
       "      <td>0</td>\n",
       "      <td>0</td>\n",
       "      <td>19</td>\n",
       "    </tr>\n",
       "  </tbody>\n",
       "</table>\n",
       "<p>400754 rows × 6 columns</p>\n",
       "</div>"
      ],
      "text/plain": [
       "           x     y   z distancepow2 distance material\n",
       "0       1180   635   0            0        0       19\n",
       "1       1185   635   0            0        0       19\n",
       "2       1190   635   0            0        0       19\n",
       "3       1195   635   0            0        0       19\n",
       "4       1200   635   0            0        0       19\n",
       "5       1205   635   0            0        0       19\n",
       "6       1210   635   0            0        0       19\n",
       "7       1215   635   0            0        0       19\n",
       "8       1155   640   0            0        0       19\n",
       "9       1160   640   0            0        0       19\n",
       "10      1165   640   0            0        0       19\n",
       "11      1170   640   0            0        0       19\n",
       "12      1175   640   0            0        0       19\n",
       "13      1180   640   0            0        0       19\n",
       "14      1185   640   0            0        0       19\n",
       "15      1190   640   0            0        0       19\n",
       "16      1195   640   0            0        0       19\n",
       "17      1200   640   0            0        0       19\n",
       "18      1205   640   0            0        0       19\n",
       "19      1210   640   0            0        0       19\n",
       "20      1215   640   0            0        0       19\n",
       "21      1220   640   0            0        0       19\n",
       "22      1225   640   0            0        0       19\n",
       "23      1140   645   0            0        0       19\n",
       "24      1145   645   0            0        0       19\n",
       "25      1150   645   0            0        0       19\n",
       "26      1155   645   0            0        0       19\n",
       "27      1160   645   0            0        0       19\n",
       "28      1165   645   0            0        0       19\n",
       "29      1170   645   0            0        0       19\n",
       "...      ...   ...  ..          ...      ...      ...\n",
       "400724  1170  1485  28            0        0       19\n",
       "400725  1175  1485  28            0        0       19\n",
       "400726  1180  1485  28            0        0       19\n",
       "400727  1185  1485  28            0        0       19\n",
       "400728  1190  1485  28            0        0       19\n",
       "400729  1195  1485  28            0        0       19\n",
       "400730  1200  1485  28            0        0       19\n",
       "400731  1205  1485  28            0        0       19\n",
       "400732  1210  1485  28            0        0       19\n",
       "400733  1215  1485  28            0        0       19\n",
       "400734  1220  1485  28            0        0       19\n",
       "400735  1225  1485  28            0        0       19\n",
       "400736  1230  1485  28            0        0       19\n",
       "400737  1235  1485  28            0        0       19\n",
       "400738  1240  1485  28            0        0       19\n",
       "400739  1245  1485  28            0        0       19\n",
       "400740  1250  1485  28            0        0       19\n",
       "400741  1255  1485  28            0        0       19\n",
       "400742  1260  1485  28            0        0       19\n",
       "400743  1265  1485  28            0        0       19\n",
       "400744  1270  1485  28            0        0       19\n",
       "400745  1275  1485  28            0        0       19\n",
       "400746  1280  1485  28            0        0       19\n",
       "400747  1285  1485  28            0        0       19\n",
       "400748  1290  1485  28            0        0       19\n",
       "400749  1230  1490  28            0        0       19\n",
       "400750  1235  1490  28            0        0       19\n",
       "400751  1240  1490  28            0        0       19\n",
       "400752  1245  1490  28            0        0       19\n",
       "400753  1250  1490  28            0        0       19\n",
       "\n",
       "[400754 rows x 6 columns]"
      ]
     },
     "execution_count": 21,
     "metadata": {},
     "output_type": "execute_result"
    }
   ],
   "source": [
    "lz=2\n",
    "ly=5\n",
    "lx=5\n",
    "print(done)\n",
    "queue"
   ]
  },
  {
   "cell_type": "code",
   "execution_count": 22,
   "metadata": {
    "scrolled": true
   },
   "outputs": [
    {
     "name": "stdout",
     "output_type": "stream",
     "text": [
      "0\n",
      "60529\n",
      "340225\n"
     ]
    }
   ],
   "source": [
    "print(np.count_nonzero(queue.material==-2))\n",
    "print(np.count_nonzero(queue.material==-1))\n",
    "print(np.count_nonzero(queue.material>=0))\n",
    "queue.to_csv(\"queue_wo_dishalf.csv\")"
   ]
  },
  {
   "cell_type": "code",
   "execution_count": 23,
   "metadata": {
    "scrolled": true
   },
   "outputs": [
    {
     "data": {
      "text/html": [
       "<div>\n",
       "<style scoped>\n",
       "    .dataframe tbody tr th:only-of-type {\n",
       "        vertical-align: middle;\n",
       "    }\n",
       "\n",
       "    .dataframe tbody tr th {\n",
       "        vertical-align: top;\n",
       "    }\n",
       "\n",
       "    .dataframe thead th {\n",
       "        text-align: right;\n",
       "    }\n",
       "</style>\n",
       "<table border=\"1\" class=\"dataframe\">\n",
       "  <thead>\n",
       "    <tr style=\"text-align: right;\">\n",
       "      <th></th>\n",
       "      <th>x</th>\n",
       "      <th>y</th>\n",
       "      <th>z</th>\n",
       "      <th>distancepow2</th>\n",
       "      <th>distance</th>\n",
       "      <th>material</th>\n",
       "    </tr>\n",
       "  </thead>\n",
       "  <tbody>\n",
       "    <tr>\n",
       "      <th>0</th>\n",
       "      <td>1180</td>\n",
       "      <td>635</td>\n",
       "      <td>0</td>\n",
       "      <td>0</td>\n",
       "      <td>0</td>\n",
       "      <td>19</td>\n",
       "    </tr>\n",
       "    <tr>\n",
       "      <th>1</th>\n",
       "      <td>1185</td>\n",
       "      <td>635</td>\n",
       "      <td>0</td>\n",
       "      <td>0</td>\n",
       "      <td>0</td>\n",
       "      <td>19</td>\n",
       "    </tr>\n",
       "    <tr>\n",
       "      <th>2</th>\n",
       "      <td>1190</td>\n",
       "      <td>635</td>\n",
       "      <td>0</td>\n",
       "      <td>0</td>\n",
       "      <td>0</td>\n",
       "      <td>19</td>\n",
       "    </tr>\n",
       "    <tr>\n",
       "      <th>3</th>\n",
       "      <td>1195</td>\n",
       "      <td>635</td>\n",
       "      <td>0</td>\n",
       "      <td>0</td>\n",
       "      <td>0</td>\n",
       "      <td>19</td>\n",
       "    </tr>\n",
       "    <tr>\n",
       "      <th>4</th>\n",
       "      <td>1200</td>\n",
       "      <td>635</td>\n",
       "      <td>0</td>\n",
       "      <td>0</td>\n",
       "      <td>0</td>\n",
       "      <td>19</td>\n",
       "    </tr>\n",
       "  </tbody>\n",
       "</table>\n",
       "</div>"
      ],
      "text/plain": [
       "      x    y  z  distancepow2  distance  material\n",
       "0  1180  635  0             0         0        19\n",
       "1  1185  635  0             0         0        19\n",
       "2  1190  635  0             0         0        19\n",
       "3  1195  635  0             0         0        19\n",
       "4  1200  635  0             0         0        19"
      ]
     },
     "execution_count": 23,
     "metadata": {},
     "output_type": "execute_result"
    }
   ],
   "source": [
    "queue=pd.read_csv('queue_wo_dishalf.csv')\n",
    "queue=queue.drop(['Unnamed: 0'], axis=1)\n",
    "queue.head()"
   ]
  },
  {
   "cell_type": "code",
   "execution_count": 24,
   "metadata": {},
   "outputs": [
    {
     "data": {
      "text/plain": [
       "400754"
      ]
     },
     "execution_count": 24,
     "metadata": {},
     "output_type": "execute_result"
    }
   ],
   "source": [
    "len(queue)"
   ]
  },
  {
   "cell_type": "code",
   "execution_count": 25,
   "metadata": {},
   "outputs": [],
   "source": [
    "sounddropx=1200\n",
    "sounddropy=770\n",
    "sounddropz=0\n",
    "lengthx=17/photo[0].shape[1]*lx\n",
    "lengthy=17/photo[0].shape[0]*ly\n",
    "lengthz=20/len(photo)*lz\n",
    "queue['distancepow2']=((queue['x']-sounddropx)*lengthx)**2+((queue['y']-sounddropy)*lengthy)**2+((queue['z']-sounddropz)*lengthz)**2\n",
    "queue['distance']=np.sqrt(list(queue['distancepow2']))"
   ]
  },
  {
   "cell_type": "code",
   "execution_count": 26,
   "metadata": {},
   "outputs": [
    {
     "data": {
      "text/plain": [
       "728.5714285714286"
      ]
     },
     "execution_count": 26,
     "metadata": {},
     "output_type": "execute_result"
    }
   ],
   "source": [
    "3*17/7*100"
   ]
  },
  {
   "cell_type": "code",
   "execution_count": 27,
   "metadata": {},
   "outputs": [],
   "source": [
    "queue = queue.sort_values('distancepow2')\n",
    "queue=queue.reset_index()"
   ]
  },
  {
   "cell_type": "code",
   "execution_count": 28,
   "metadata": {},
   "outputs": [
    {
     "data": {
      "text/html": [
       "<div>\n",
       "<style scoped>\n",
       "    .dataframe tbody tr th:only-of-type {\n",
       "        vertical-align: middle;\n",
       "    }\n",
       "\n",
       "    .dataframe tbody tr th {\n",
       "        vertical-align: top;\n",
       "    }\n",
       "\n",
       "    .dataframe thead th {\n",
       "        text-align: right;\n",
       "    }\n",
       "</style>\n",
       "<table border=\"1\" class=\"dataframe\">\n",
       "  <thead>\n",
       "    <tr style=\"text-align: right;\">\n",
       "      <th></th>\n",
       "      <th>index</th>\n",
       "      <th>x</th>\n",
       "      <th>y</th>\n",
       "      <th>z</th>\n",
       "      <th>distancepow2</th>\n",
       "      <th>distance</th>\n",
       "      <th>material</th>\n",
       "    </tr>\n",
       "  </thead>\n",
       "  <tbody>\n",
       "    <tr>\n",
       "      <th>0</th>\n",
       "      <td>1941</td>\n",
       "      <td>1200</td>\n",
       "      <td>770</td>\n",
       "      <td>0</td>\n",
       "      <td>0.000000</td>\n",
       "      <td>0.000000</td>\n",
       "      <td>48</td>\n",
       "    </tr>\n",
       "    <tr>\n",
       "      <th>1</th>\n",
       "      <td>1942</td>\n",
       "      <td>1205</td>\n",
       "      <td>770</td>\n",
       "      <td>0</td>\n",
       "      <td>0.036518</td>\n",
       "      <td>0.191097</td>\n",
       "      <td>48</td>\n",
       "    </tr>\n",
       "    <tr>\n",
       "      <th>2</th>\n",
       "      <td>1940</td>\n",
       "      <td>1195</td>\n",
       "      <td>770</td>\n",
       "      <td>0</td>\n",
       "      <td>0.036518</td>\n",
       "      <td>0.191097</td>\n",
       "      <td>48</td>\n",
       "    </tr>\n",
       "    <tr>\n",
       "      <th>3</th>\n",
       "      <td>2057</td>\n",
       "      <td>1200</td>\n",
       "      <td>775</td>\n",
       "      <td>0</td>\n",
       "      <td>0.064921</td>\n",
       "      <td>0.254796</td>\n",
       "      <td>48</td>\n",
       "    </tr>\n",
       "    <tr>\n",
       "      <th>4</th>\n",
       "      <td>1829</td>\n",
       "      <td>1200</td>\n",
       "      <td>765</td>\n",
       "      <td>0</td>\n",
       "      <td>0.064921</td>\n",
       "      <td>0.254796</td>\n",
       "      <td>48</td>\n",
       "    </tr>\n",
       "    <tr>\n",
       "      <th>5</th>\n",
       "      <td>2058</td>\n",
       "      <td>1205</td>\n",
       "      <td>775</td>\n",
       "      <td>0</td>\n",
       "      <td>0.101439</td>\n",
       "      <td>0.318495</td>\n",
       "      <td>48</td>\n",
       "    </tr>\n",
       "    <tr>\n",
       "      <th>6</th>\n",
       "      <td>2056</td>\n",
       "      <td>1195</td>\n",
       "      <td>775</td>\n",
       "      <td>0</td>\n",
       "      <td>0.101439</td>\n",
       "      <td>0.318495</td>\n",
       "      <td>48</td>\n",
       "    </tr>\n",
       "    <tr>\n",
       "      <th>7</th>\n",
       "      <td>1830</td>\n",
       "      <td>1205</td>\n",
       "      <td>765</td>\n",
       "      <td>0</td>\n",
       "      <td>0.101439</td>\n",
       "      <td>0.318495</td>\n",
       "      <td>48</td>\n",
       "    </tr>\n",
       "    <tr>\n",
       "      <th>8</th>\n",
       "      <td>1828</td>\n",
       "      <td>1195</td>\n",
       "      <td>765</td>\n",
       "      <td>0</td>\n",
       "      <td>0.101439</td>\n",
       "      <td>0.318495</td>\n",
       "      <td>48</td>\n",
       "    </tr>\n",
       "    <tr>\n",
       "      <th>9</th>\n",
       "      <td>1943</td>\n",
       "      <td>1210</td>\n",
       "      <td>770</td>\n",
       "      <td>0</td>\n",
       "      <td>0.146072</td>\n",
       "      <td>0.382194</td>\n",
       "      <td>48</td>\n",
       "    </tr>\n",
       "    <tr>\n",
       "      <th>10</th>\n",
       "      <td>1939</td>\n",
       "      <td>1190</td>\n",
       "      <td>770</td>\n",
       "      <td>0</td>\n",
       "      <td>0.146072</td>\n",
       "      <td>0.382194</td>\n",
       "      <td>48</td>\n",
       "    </tr>\n",
       "    <tr>\n",
       "      <th>11</th>\n",
       "      <td>2055</td>\n",
       "      <td>1190</td>\n",
       "      <td>775</td>\n",
       "      <td>0</td>\n",
       "      <td>0.210994</td>\n",
       "      <td>0.459340</td>\n",
       "      <td>48</td>\n",
       "    </tr>\n",
       "    <tr>\n",
       "      <th>12</th>\n",
       "      <td>2059</td>\n",
       "      <td>1210</td>\n",
       "      <td>775</td>\n",
       "      <td>0</td>\n",
       "      <td>0.210994</td>\n",
       "      <td>0.459340</td>\n",
       "      <td>48</td>\n",
       "    </tr>\n",
       "    <tr>\n",
       "      <th>13</th>\n",
       "      <td>1831</td>\n",
       "      <td>1210</td>\n",
       "      <td>765</td>\n",
       "      <td>0</td>\n",
       "      <td>0.210994</td>\n",
       "      <td>0.459340</td>\n",
       "      <td>48</td>\n",
       "    </tr>\n",
       "    <tr>\n",
       "      <th>14</th>\n",
       "      <td>1827</td>\n",
       "      <td>1190</td>\n",
       "      <td>765</td>\n",
       "      <td>0</td>\n",
       "      <td>0.210994</td>\n",
       "      <td>0.459340</td>\n",
       "      <td>48</td>\n",
       "    </tr>\n",
       "    <tr>\n",
       "      <th>15</th>\n",
       "      <td>1718</td>\n",
       "      <td>1200</td>\n",
       "      <td>760</td>\n",
       "      <td>0</td>\n",
       "      <td>0.259684</td>\n",
       "      <td>0.509592</td>\n",
       "      <td>48</td>\n",
       "    </tr>\n",
       "    <tr>\n",
       "      <th>16</th>\n",
       "      <td>2174</td>\n",
       "      <td>1200</td>\n",
       "      <td>780</td>\n",
       "      <td>0</td>\n",
       "      <td>0.259684</td>\n",
       "      <td>0.509592</td>\n",
       "      <td>48</td>\n",
       "    </tr>\n",
       "    <tr>\n",
       "      <th>17</th>\n",
       "      <td>1717</td>\n",
       "      <td>1195</td>\n",
       "      <td>760</td>\n",
       "      <td>0</td>\n",
       "      <td>0.296202</td>\n",
       "      <td>0.544245</td>\n",
       "      <td>48</td>\n",
       "    </tr>\n",
       "    <tr>\n",
       "      <th>18</th>\n",
       "      <td>2173</td>\n",
       "      <td>1195</td>\n",
       "      <td>780</td>\n",
       "      <td>0</td>\n",
       "      <td>0.296202</td>\n",
       "      <td>0.544245</td>\n",
       "      <td>48</td>\n",
       "    </tr>\n",
       "    <tr>\n",
       "      <th>19</th>\n",
       "      <td>2175</td>\n",
       "      <td>1205</td>\n",
       "      <td>780</td>\n",
       "      <td>0</td>\n",
       "      <td>0.296202</td>\n",
       "      <td>0.544245</td>\n",
       "      <td>48</td>\n",
       "    </tr>\n",
       "  </tbody>\n",
       "</table>\n",
       "</div>"
      ],
      "text/plain": [
       "    index     x    y  z  distancepow2  distance  material\n",
       "0    1941  1200  770  0      0.000000  0.000000        48\n",
       "1    1942  1205  770  0      0.036518  0.191097        48\n",
       "2    1940  1195  770  0      0.036518  0.191097        48\n",
       "3    2057  1200  775  0      0.064921  0.254796        48\n",
       "4    1829  1200  765  0      0.064921  0.254796        48\n",
       "5    2058  1205  775  0      0.101439  0.318495        48\n",
       "6    2056  1195  775  0      0.101439  0.318495        48\n",
       "7    1830  1205  765  0      0.101439  0.318495        48\n",
       "8    1828  1195  765  0      0.101439  0.318495        48\n",
       "9    1943  1210  770  0      0.146072  0.382194        48\n",
       "10   1939  1190  770  0      0.146072  0.382194        48\n",
       "11   2055  1190  775  0      0.210994  0.459340        48\n",
       "12   2059  1210  775  0      0.210994  0.459340        48\n",
       "13   1831  1210  765  0      0.210994  0.459340        48\n",
       "14   1827  1190  765  0      0.210994  0.459340        48\n",
       "15   1718  1200  760  0      0.259684  0.509592        48\n",
       "16   2174  1200  780  0      0.259684  0.509592        48\n",
       "17   1717  1195  760  0      0.296202  0.544245        48\n",
       "18   2173  1195  780  0      0.296202  0.544245        48\n",
       "19   2175  1205  780  0      0.296202  0.544245        48"
      ]
     },
     "execution_count": 28,
     "metadata": {},
     "output_type": "execute_result"
    }
   ],
   "source": [
    "queue.head(20)"
   ]
  },
  {
   "cell_type": "code",
   "execution_count": 29,
   "metadata": {},
   "outputs": [],
   "source": [
    "# 27.5 55 110 220 440 880 1760 3520 7040 14080\n",
    "Absobtion=Meterial_spectrum['14080']"
   ]
  },
  {
   "cell_type": "code",
   "execution_count": 30,
   "metadata": {},
   "outputs": [
    {
     "data": {
      "text/plain": [
       "0.282111665"
      ]
     },
     "execution_count": 30,
     "metadata": {},
     "output_type": "execute_result"
    }
   ],
   "source": [
    "# 27.5 55 110 220 440 880 1760 3520 7040 14080\n",
    "Meterial_spectrum['14080'][0]"
   ]
  },
  {
   "cell_type": "code",
   "execution_count": 31,
   "metadata": {
    "scrolled": true
   },
   "outputs": [
    {
     "data": {
      "text/plain": [
       "18"
      ]
     },
     "execution_count": 31,
     "metadata": {},
     "output_type": "execute_result"
    }
   ],
   "source": [
    "int(queue.iloc[1856].material)"
   ]
  },
  {
   "cell_type": "code",
   "execution_count": 34,
   "metadata": {},
   "outputs": [
    {
     "data": {
      "text/plain": [
       "0.0"
      ]
     },
     "execution_count": 34,
     "metadata": {},
     "output_type": "execute_result"
    }
   ],
   "source": [
    "model = np.zeros(shape=(len(photo),photo[0].shape[0],photo[0].shape[1]))\n",
    "model.sum()"
   ]
  },
  {
   "cell_type": "code",
   "execution_count": 35,
   "metadata": {},
   "outputs": [
    {
     "data": {
      "application/vnd.jupyter.widget-view+json": {
       "model_id": "7a1bf4e49c4d42f1be1bd51ed9f9d92a",
       "version_major": 2,
       "version_minor": 0
      },
      "text/plain": [
       "HBox(children=(IntProgress(value=0, max=400753), HTML(value='')))"
      ]
     },
     "metadata": {},
     "output_type": "display_data"
    }
   ],
   "source": [
    "model = np.zeros(shape=(len(photo)//lz,photo[0].shape[0]//ly,photo[0].shape[1]//lx))\n",
    "model[sounddropz//lz,sounddropy//ly,sounddropx//lx]=1000000\n",
    "\n",
    "co1=lengthx\n",
    "co2=np.sqrt(2)*lengthx\n",
    "co1z=lengthz\n",
    "co2z=np.sqrt((lengthx**2)+(lengthz**2))\n",
    "co3z=np.sqrt((2*(lengthx**2))+(lengthz**2))\n",
    "allmultiple=co1*co2*co1z*co2z*co3z\n",
    "co1=allmultiple/co1\n",
    "co2=allmultiple/co2\n",
    "co1z=allmultiple/co1z\n",
    "co2z=allmultiple/co2z\n",
    "co3z=allmultiple/co3z\n",
    "\n",
    "evgle=((lengthx*lengthy*lengthz*6/math.pi)**(1/3))/100\n",
    "for i in tqdm(range(1,len(queue))):\n",
    "    ix=int(queue.iloc[i].x)//lx\n",
    "    iy=int(queue.iloc[i].y)//ly\n",
    "    iz=int(queue.iloc[i].z)//lz\n",
    "    imaterial=int(queue.iloc[i].material)\n",
    "    if(imaterial>=0):\n",
    "        \n",
    "        Abs=Absobtion[imaterial]#abs per lengthx\n",
    "\n",
    "        val=0\n",
    "        piece=0\n",
    "\n",
    "        if(ix-1>=0):\n",
    "            if(model[iz][iy][ix-1]>0):\n",
    "                piece=piece+co1\n",
    "                val=val+((model[iz][iy][ix-1])*co1)\n",
    "\n",
    "        if(ix+1<model.shape[2]):\n",
    "            if(model[iz][iy][ix+1]>0):\n",
    "                piece=piece+co1\n",
    "                val=val+((model[iz][iy][ix+1])*co1)\n",
    "\n",
    "        if(iy-1>=0):\n",
    "            if(model[iz][iy-1][ix]>0):\n",
    "                piece=piece+co1\n",
    "                val=val+((model[iz][iy-1][ix])*co1)\n",
    "\n",
    "        if(iy+1<model.shape[1]):\n",
    "            if(model[iz][iy+1][ix]>0):\n",
    "                piece=piece+co1\n",
    "                val=val+((model[iz][iy+1][ix])*co1)\n",
    "\n",
    "        if(iz-1>=0):\n",
    "            if(model[iz-1][iy][ix]>0):\n",
    "                piece=piece+co1z\n",
    "                val=val+((model[iz-1][iy][ix])*co1z)\n",
    "\n",
    "        if(iz+1<model.shape[0]):\n",
    "            if(model[iz+1][iy][ix]>0):\n",
    "                piece=piece+co1z\n",
    "                val=val+((model[iz+1][iy][ix])*co1z)\n",
    "\n",
    "        ####################################\n",
    "\n",
    "        if(ix-1>=0 and iy-1>=0):\n",
    "            if(model[iz][iy-1][ix-1]>0):\n",
    "                piece=piece+co2\n",
    "                val=val+((model[iz][iy-1][ix-1])*co2)\n",
    "\n",
    "        if(ix+1<model.shape[2] and iy-1>=0):\n",
    "            if (model[iz][iy-1][ix+1]>0):\n",
    "                piece=piece+co2\n",
    "                val=val+((model[iz][iy-1][ix+1])*co2)\n",
    "\n",
    "        if(ix-1>=0 and iy+1<model.shape[1]):\n",
    "            if(model[iz][iy+1][ix-1]>0):\n",
    "                piece=piece+co2\n",
    "                val=val+((model[iz][iy+1][ix-1])*co2)\n",
    "\n",
    "        if(ix+1<model.shape[2] and iy+1<model.shape[1]):\n",
    "            if(model[iz][iy+1][ix+1]>0):\n",
    "                piece=piece+co2\n",
    "                val=val+((model[iz][iy+1][ix+1])*co2)\n",
    "\n",
    "        ####\n",
    "\n",
    "        if(ix-1>=0 and iz-1>=0):\n",
    "            if(model[iz-1][iy][ix-1]>0):\n",
    "                piece=piece+co2z\n",
    "                val=val+((model[iz-1][iy][ix-1])*co2z)\n",
    "\n",
    "        if(ix-1>=0 and iz+1<model.shape[0]):\n",
    "            if(model[iz+1][iy][ix-1]>0):\n",
    "                piece=piece+co2z\n",
    "                val=val+((model[iz+1][iy][ix-1])*co2z)\n",
    "\n",
    "        if(ix+1<model.shape[2] and iz-1>=0):\n",
    "            if(model[iz-1][iy][ix+1]>0):\n",
    "                piece=piece+co2z\n",
    "                val=val+((model[iz-1][iy][ix+1])*co2z)\n",
    "\n",
    "        if(ix+1<model.shape[2] and iz+1<model.shape[0]):\n",
    "            if(model[iz+1][iy][ix+1]>0):\n",
    "                piece=piece+co2z\n",
    "                val=val+((model[iz+1][iy][ix+1])*co2z)\n",
    "\n",
    "        ####\n",
    "\n",
    "        if(iy-1>=0 and iz-1>=0):\n",
    "            if(model[iz-1][iy-1][ix]>0):\n",
    "                piece=piece+co2z\n",
    "                val=val+((model[iz-1][iy-1][ix])*co2z)\n",
    "\n",
    "        if(iy-1>=0 and iz+1<model.shape[0]):\n",
    "            if(model[iz+1][iy-1][ix]>0):\n",
    "                piece=piece+co2z\n",
    "                val=val+((model[iz+1][iy-1][ix])*co2z)\n",
    "\n",
    "        if(iy+1<model.shape[1] and iz-1>=0):\n",
    "            if(model[iz-1][iy+1][ix]>0):\n",
    "                piece=piece+co2z\n",
    "                val=val+((model[iz-1][iy+1][ix])*co2z)\n",
    "\n",
    "        if(iy+1<model.shape[1] and iz+1<model.shape[0]):\n",
    "            if(model[iz+1][iy+1][ix]>0):\n",
    "                piece=piece+co2z\n",
    "                val=val+((model[iz+1][iy+1][ix])*co2z)\n",
    "\n",
    "        ####################################\n",
    "\n",
    "        if(ix-1>=0 and iy-1>=0 and iz-1>=0):\n",
    "            if(model[iz-1][iy-1][ix-1]>0):\n",
    "                piece=piece+co3z\n",
    "                val=val+((model[iz-1][iy-1][ix-1])*co3z)\n",
    "\n",
    "        if(ix+1<model.shape[2] and iy+1<model.shape[1] and iz+1<model.shape[0]):\n",
    "            if(model[iz+1][iy+1][ix+1]>0):\n",
    "                piece=piece+co3z\n",
    "                val=val+((model[iz+1][iy+1][ix+1])*co3z)\n",
    "\n",
    "        if(ix-1>=0 and iy-1>=0 and iz+1<model.shape[0]):\n",
    "            if(model[iz+1][iy-1][ix-1]>0):\n",
    "                piece=piece+co3z\n",
    "                val=val+((model[iz+1][iy-1][ix-1])*co3z)\n",
    "\n",
    "        if(ix-1>=0 and iy+1<model.shape[1] and iz-1>=0):\n",
    "            if(model[iz-1][iy+1][ix-1]>0):\n",
    "                piece=piece+co3z\n",
    "                val=val+((model[iz-1][iy+1][ix-1])*co3z)\n",
    "\n",
    "        if(ix-1>=0 and iy+1<model.shape[1] and iz+1<model.shape[0]):\n",
    "            if(model[iz+1][iy+1][ix-1]>0):\n",
    "                piece=piece+co3z\n",
    "                val=val+((model[iz+1][iy+1][ix-1])*co3z)\n",
    "\n",
    "        ## \n",
    "\n",
    "        if(ix+1<model.shape[2] and iy-1>=0 and iz-1>=0):\n",
    "            if(model[iz-1][iy-1][ix+1]>0):\n",
    "                piece=piece+co3z\n",
    "                val=val+((model[iz-1][iy-1][ix+1])*co3z)\n",
    "\n",
    "        if(ix+1<model.shape[2] and iy-1>=0 and iz+1<model.shape[0]):\n",
    "            if(model[iz+1][iy-1][ix+1]>0):\n",
    "                piece=piece+co3z\n",
    "                val=val+((model[iz+1][iy-1][ix+1])*co3z)\n",
    "\n",
    "        if(ix+1<model.shape[2] and iy+1<model.shape[1] and iz-1>=0):\n",
    "            if(model[iz-1][iy+1][ix+1]>0):\n",
    "                piece=piece+co3z\n",
    "                val=val+((model[iz-1][iy+1][ix+1])*co3z)\n",
    "        if piece>0:\n",
    "            model[iz,iy,ix]=(val/piece)/(10**(Abs*8.69*evgle))"
   ]
  },
  {
   "cell_type": "code",
   "execution_count": null,
   "metadata": {
    "scrolled": true
   },
   "outputs": [],
   "source": [
    "#q9=queue[queue['z']==3]"
   ]
  },
  {
   "cell_type": "code",
   "execution_count": null,
   "metadata": {},
   "outputs": [],
   "source": [
    "'''\n",
    "empty9 = np.zeros(shape=(100,100))\n",
    "for i in range(len(q9)):\n",
    "    cell=q9.iloc[i]\n",
    "    empty9[cell.y][cell.x]=cell.distance\n",
    "'''"
   ]
  },
  {
   "cell_type": "code",
   "execution_count": 108,
   "metadata": {},
   "outputs": [],
   "source": [
    "from numpy import asarray\n",
    "from numpy import save\n",
    "#save('14080hz.npy', model)\n",
    "'''\n",
    "from numpy import load\n",
    "# load array\n",
    "'''\n",
    "from numpy import load\n",
    "model = load('110hz.npy')"
   ]
  },
  {
   "cell_type": "code",
   "execution_count": 38,
   "metadata": {
    "scrolled": true
   },
   "outputs": [
    {
     "data": {
      "text/plain": [
       "53429.3584309556"
      ]
     },
     "execution_count": 38,
     "metadata": {},
     "output_type": "execute_result"
    }
   ],
   "source": [
    "model[model!=0].min()"
   ]
  },
  {
   "cell_type": "code",
   "execution_count": 40,
   "metadata": {
    "scrolled": false
   },
   "outputs": [
    {
     "data": {
      "image/png": "[encoded data removed]",
      "text/plain": [
       "<Figure size 432x288 with 1 Axes>"
      ]
     },
     "metadata": {
      "needs_background": "light"
     },
     "output_type": "display_data"
    },
    {
     "data": {
      "image/png": "[encoded data removed]",
      "text/plain": [
       "<Figure size 432x288 with 1 Axes>"
      ]
     },
     "metadata": {
      "needs_background": "light"
     },
     "output_type": "display_data"
    },
    {
     "data": {
      "image/png": "[encoded data removed]",
      "text/plain": [
       "<Figure size 432x288 with 1 Axes>"
      ]
     },
     "metadata": {
      "needs_background": "light"
     },
     "output_type": "display_data"
    },
    {
     "data": {
      "image/png": "[encoded data removed]",
      "text/plain": [
       "<Figure size 432x288 with 1 Axes>"
      ]
     },
     "metadata": {
      "needs_background": "light"
     },
     "output_type": "display_data"
    },
    {
     "data": {
      "image/png": "[encoded data removed]",
      "text/plain": [
       "<Figure size 432x288 with 1 Axes>"
      ]
     },
     "metadata": {
      "needs_background": "light"
     },
     "output_type": "display_data"
    },
    {
     "data": {
      "image/png": "[encoded data removed]",
      "text/plain": [
       "<Figure size 432x288 with 1 Axes>"
      ]
     },
     "metadata": {
      "needs_background": "light"
     },
     "output_type": "display_data"
    },
    {
     "data": {
      "image/png": "[encoded data removed]",
      "text/plain": [
       "<Figure size 432x288 with 1 Axes>"
      ]
     },
     "metadata": {
      "needs_background": "light"
     },
     "output_type": "display_data"
    },
    {
     "data": {
      "image/png": "[encoded data removed]",
      "text/plain": [
       "<Figure size 432x288 with 1 Axes>"
      ]
     },
     "metadata": {
      "needs_background": "light"
     },
     "output_type": "display_data"
    },
    {
     "data": {
      "image/png": "[encoded data removed]",
      "text/plain": [
       "<Figure size 432x288 with 1 Axes>"
      ]
     },
     "metadata": {
      "needs_background": "light"
     },
     "output_type": "display_data"
    },
    {
     "data": {
      "image/png": "[encoded data removed]",
      "text/plain": [
       "<Figure size 432x288 with 1 Axes>"
      ]
     },
     "metadata": {
      "needs_background": "light"
     },
     "output_type": "display_data"
    },
    {
     "data": {
      "image/png": "[encoded data removed]",
      "text/plain": [
       "<Figure size 432x288 with 1 Axes>"
      ]
     },
     "metadata": {
      "needs_background": "light"
     },
     "output_type": "display_data"
    },
    {
     "data": {
      "image/png": "[encoded data removed]",
      "text/plain": [
       "<Figure size 432x288 with 1 Axes>"
      ]
     },
     "metadata": {
      "needs_background": "light"
     },
     "output_type": "display_data"
    },
    {
     "data": {
      "image/png": "[encoded data removed]",
      "text/plain": [
       "<Figure size 432x288 with 1 Axes>"
      ]
     },
     "metadata": {
      "needs_background": "light"
     },
     "output_type": "display_data"
    },
    {
     "data": {
      "image/png": "[encoded data removed]",
      "text/plain": [
       "<Figure size 432x288 with 1 Axes>"
      ]
     },
     "metadata": {
      "needs_background": "light"
     },
     "output_type": "display_data"
    },
    {
     "data": {
      "image/png": "[encoded data removed]",
      "text/plain": [
       "<Figure size 432x288 with 1 Axes>"
      ]
     },
     "metadata": {
      "needs_background": "light"
     },
     "output_type": "display_data"
    }
   ],
   "source": [
    "\n",
    "import matplotlib.pyplot as plt\n",
    "\n",
    "for i in range(len(model)):\n",
    "        #cell=q9.iloc[i]\n",
    "        #empty9[cell.y][cell.x]=cell.distance\n",
    "    plt.imshow(model[i], cmap=\"RdBu\",interpolation='nearest',\n",
    "               vmin=53429, vmax=1000000)\n",
    "    plt.savefig(\"14080hz_\"+str(i)+'.png')\n",
    "    plt.show()\n"
   ]
  }
 ],
 "metadata": {
  "kernelspec": {
   "display_name": "Python 3",
   "language": "python",
   "name": "python3"
  },
  "language_info": {
   "codemirror_mode": {
    "name": "ipython",
    "version": 3
   },
   "file_extension": ".py",
   "mimetype": "text/x-python",
   "name": "python",
   "nbconvert_exporter": "python",
   "pygments_lexer": "ipython3",
   "version": "3.7.3"
  }
 },
 "nbformat": 4,
 "nbformat_minor": 2
}
