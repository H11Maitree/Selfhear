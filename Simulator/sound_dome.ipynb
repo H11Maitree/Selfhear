{
 "cells": [
  {
   "cell_type": "code",
   "execution_count": 34,
   "metadata": {},
   "outputs": [],
   "source": [
    "import numpy as np\n",
    "import pandas as pd\n",
    "import math"
   ]
  },
  {
   "cell_type": "code",
   "execution_count": 35,
   "metadata": {
    "scrolled": true
   },
   "outputs": [],
   "source": [
    "Meterial_spectrum=pd.read_csv('Meterial_spectrum.csv')"
   ]
  },
  {
   "cell_type": "code",
   "execution_count": 36,
   "metadata": {
    "scrolled": true
   },
   "outputs": [],
   "source": [
    "Nameid=Meterial_spectrum['Name'].to_dict()"
   ]
  },
  {
   "cell_type": "code",
   "execution_count": 37,
   "metadata": {
    "scrolled": true
   },
   "outputs": [
    {
     "data": {
      "text/plain": [
       "{'Bone (Cancellous)': 0,\n",
       " 'Bone (Cortical)': 1,\n",
       " 'Bone Marrow (Red)': 2,\n",
       " 'Bone Marrow (Yellow)': 3,\n",
       " 'Brain': 4,\n",
       " 'Brain (Grey Matter)': 5,\n",
       " 'Brain (White Matter)': 6,\n",
       " 'Eye (Aqueous Humor)': 7,\n",
       " 'Eye (Choroid)': 8,\n",
       " 'Eye (Ciliary Body)': 9,\n",
       " 'Eye (Cornea)': 10,\n",
       " 'Eye (Iris)': 11,\n",
       " 'Eye (Lens)': 12,\n",
       " 'Eye (Retina)': 13,\n",
       " 'Eye (Sclera)': 14,\n",
       " 'Eye (Vitreous Humor)': 15,\n",
       " 'Eye Lens (Cortex)': 16,\n",
       " 'Eye Lens (Nucleus)': 17,\n",
       " 'Muscles': 18,\n",
       " 'Skin': 19,\n",
       " 'Skull Cancellous': 20,\n",
       " 'Skull Cortical': 21,\n",
       " 'Tooth': 22,\n",
       " 'Air': 23,\n",
       " 'Sinus': 24,\n",
       " 'CSF': 25,\n",
       " 'Blood Vessel Wall': 26,\n",
       " 'Tongue': 27,\n",
       " 'Connective Tissue': 28,\n",
       " 'Pharynx': 29,\n",
       " 'Larynx': 30,\n",
       " 'Trachea': 31,\n",
       " 'Body of mandible': 32,\n",
       " 'Spinal cord': 33,\n",
       " 'Mylohyoid': 34,\n",
       " 'Lingual septum': 35,\n",
       " 'Mandible': 36,\n",
       " 'Hyoglossus': 37,\n",
       " 'Cricoarytenoid': 38,\n",
       " 'Oblique Arytenoid': 39,\n",
       " 'Spinal cord2': 40,\n",
       " 'Hyoid bone': 41,\n",
       " 'Carotid shealth': 42,\n",
       " 'incisire duct': 43,\n",
       " 'lip': 44,\n",
       " 'gingira': 45,\n",
       " 'Marilla': 46,\n",
       " 'Parotid  Space': 47,\n",
       " 'Cavity': 48,\n",
       " 'Tissue': 49}"
      ]
     },
     "execution_count": 37,
     "metadata": {},
     "output_type": "execute_result"
    }
   ],
   "source": [
    "res = dict((v,k) for k,v in Nameid.items())\n",
    "Nameid=0\n",
    "Nameid=res\n",
    "Nameid"
   ]
  },
  {
   "cell_type": "code",
   "execution_count": 38,
   "metadata": {},
   "outputs": [
    {
     "name": "stderr",
     "output_type": "stream",
     "text": [
      "/Users/mattjunk/anaconda3/lib/python3.7/site-packages/ipykernel_launcher.py:4: DeprecationWarning: \n",
      ".ix is deprecated. Please use\n",
      ".loc for label based indexing or\n",
      ".iloc for positional indexing\n",
      "\n",
      "See the documentation here:\n",
      "http://pandas.pydata.org/pandas-docs/stable/indexing.html#ix-indexer-is-deprecated\n",
      "  after removing the cwd from sys.path.\n"
     ]
    }
   ],
   "source": [
    "Meterial_id=pd.read_csv('Meterial_id.csv')\n",
    "Meterial_id['id']='NaN'\n",
    "for i in range(len(Meterial_id)):\n",
    "    Meterial_id.ix[i, 'id']=Nameid[Meterial_id.iloc[i].Name]"
   ]
  },
  {
   "cell_type": "code",
   "execution_count": 39,
   "metadata": {
    "scrolled": true
   },
   "outputs": [
    {
     "data": {
      "text/html": [
       "<div>\n",
       "<style scoped>\n",
       "    .dataframe tbody tr th:only-of-type {\n",
       "        vertical-align: middle;\n",
       "    }\n",
       "\n",
       "    .dataframe tbody tr th {\n",
       "        vertical-align: top;\n",
       "    }\n",
       "\n",
       "    .dataframe thead th {\n",
       "        text-align: right;\n",
       "    }\n",
       "</style>\n",
       "<table border=\"1\" class=\"dataframe\">\n",
       "  <thead>\n",
       "    <tr style=\"text-align: right;\">\n",
       "      <th></th>\n",
       "      <th>Name</th>\n",
       "      <th>R</th>\n",
       "      <th>G</th>\n",
       "      <th>B</th>\n",
       "    </tr>\n",
       "    <tr>\n",
       "      <th>id</th>\n",
       "      <th></th>\n",
       "      <th></th>\n",
       "      <th></th>\n",
       "      <th></th>\n",
       "    </tr>\n",
       "  </thead>\n",
       "  <tbody>\n",
       "    <tr>\n",
       "      <th>0</th>\n",
       "      <td>Bone (Cancellous)</td>\n",
       "      <td>255</td>\n",
       "      <td>241</td>\n",
       "      <td>210</td>\n",
       "    </tr>\n",
       "    <tr>\n",
       "      <th>1</th>\n",
       "      <td>Bone (Cortical)</td>\n",
       "      <td>255</td>\n",
       "      <td>204</td>\n",
       "      <td>181</td>\n",
       "    </tr>\n",
       "    <tr>\n",
       "      <th>2</th>\n",
       "      <td>Bone Marrow (Red)</td>\n",
       "      <td>288</td>\n",
       "      <td>110</td>\n",
       "      <td>255</td>\n",
       "    </tr>\n",
       "    <tr>\n",
       "      <th>3</th>\n",
       "      <td>Bone Marrow (Yellow)</td>\n",
       "      <td>216</td>\n",
       "      <td>216</td>\n",
       "      <td>216</td>\n",
       "    </tr>\n",
       "    <tr>\n",
       "      <th>4</th>\n",
       "      <td>Brain</td>\n",
       "      <td>255</td>\n",
       "      <td>255</td>\n",
       "      <td>119</td>\n",
       "    </tr>\n",
       "    <tr>\n",
       "      <th>5</th>\n",
       "      <td>Brain (Grey Matter)</td>\n",
       "      <td>-1</td>\n",
       "      <td>-1</td>\n",
       "      <td>-1</td>\n",
       "    </tr>\n",
       "    <tr>\n",
       "      <th>6</th>\n",
       "      <td>Brain (White Matter)</td>\n",
       "      <td>178</td>\n",
       "      <td>123</td>\n",
       "      <td>119</td>\n",
       "    </tr>\n",
       "    <tr>\n",
       "      <th>7</th>\n",
       "      <td>Eye (Aqueous Humor)</td>\n",
       "      <td>-1</td>\n",
       "      <td>-1</td>\n",
       "      <td>-1</td>\n",
       "    </tr>\n",
       "    <tr>\n",
       "      <th>8</th>\n",
       "      <td>Eye (Choroid)</td>\n",
       "      <td>-1</td>\n",
       "      <td>-1</td>\n",
       "      <td>-1</td>\n",
       "    </tr>\n",
       "    <tr>\n",
       "      <th>9</th>\n",
       "      <td>Eye (Ciliary Body)</td>\n",
       "      <td>-1</td>\n",
       "      <td>-1</td>\n",
       "      <td>-1</td>\n",
       "    </tr>\n",
       "    <tr>\n",
       "      <th>10</th>\n",
       "      <td>Eye (Cornea)</td>\n",
       "      <td>219</td>\n",
       "      <td>175</td>\n",
       "      <td>168</td>\n",
       "    </tr>\n",
       "    <tr>\n",
       "      <th>11</th>\n",
       "      <td>Eye (Iris)</td>\n",
       "      <td>-1</td>\n",
       "      <td>-1</td>\n",
       "      <td>-1</td>\n",
       "    </tr>\n",
       "    <tr>\n",
       "      <th>12</th>\n",
       "      <td>Eye (Lens)</td>\n",
       "      <td>123</td>\n",
       "      <td>255</td>\n",
       "      <td>246</td>\n",
       "    </tr>\n",
       "    <tr>\n",
       "      <th>13</th>\n",
       "      <td>Eye (Retina)</td>\n",
       "      <td>-1</td>\n",
       "      <td>-1</td>\n",
       "      <td>-1</td>\n",
       "    </tr>\n",
       "    <tr>\n",
       "      <th>14</th>\n",
       "      <td>Eye (Sclera)</td>\n",
       "      <td>-1</td>\n",
       "      <td>-1</td>\n",
       "      <td>-1</td>\n",
       "    </tr>\n",
       "    <tr>\n",
       "      <th>15</th>\n",
       "      <td>Eye (Vitreous Humor)</td>\n",
       "      <td>-1</td>\n",
       "      <td>-1</td>\n",
       "      <td>-1</td>\n",
       "    </tr>\n",
       "    <tr>\n",
       "      <th>16</th>\n",
       "      <td>Eye Lens (Cortex)</td>\n",
       "      <td>-1</td>\n",
       "      <td>-1</td>\n",
       "      <td>-1</td>\n",
       "    </tr>\n",
       "    <tr>\n",
       "      <th>17</th>\n",
       "      <td>Eye Lens (Nucleus)</td>\n",
       "      <td>-1</td>\n",
       "      <td>-1</td>\n",
       "      <td>-1</td>\n",
       "    </tr>\n",
       "    <tr>\n",
       "      <th>18</th>\n",
       "      <td>Muscles</td>\n",
       "      <td>176</td>\n",
       "      <td>39</td>\n",
       "      <td>0</td>\n",
       "    </tr>\n",
       "    <tr>\n",
       "      <th>19</th>\n",
       "      <td>Skin</td>\n",
       "      <td>255</td>\n",
       "      <td>101</td>\n",
       "      <td>77</td>\n",
       "    </tr>\n",
       "    <tr>\n",
       "      <th>20</th>\n",
       "      <td>Skull Cancellous</td>\n",
       "      <td>-1</td>\n",
       "      <td>-1</td>\n",
       "      <td>-1</td>\n",
       "    </tr>\n",
       "    <tr>\n",
       "      <th>21</th>\n",
       "      <td>Skull Cortical</td>\n",
       "      <td>-1</td>\n",
       "      <td>-1</td>\n",
       "      <td>-1</td>\n",
       "    </tr>\n",
       "    <tr>\n",
       "      <th>22</th>\n",
       "      <td>Tooth</td>\n",
       "      <td>53</td>\n",
       "      <td>96</td>\n",
       "      <td>43</td>\n",
       "    </tr>\n",
       "    <tr>\n",
       "      <th>23</th>\n",
       "      <td>Air</td>\n",
       "      <td>103</td>\n",
       "      <td>222</td>\n",
       "      <td>115</td>\n",
       "    </tr>\n",
       "    <tr>\n",
       "      <th>24</th>\n",
       "      <td>Sinus</td>\n",
       "      <td>186</td>\n",
       "      <td>239</td>\n",
       "      <td>255</td>\n",
       "    </tr>\n",
       "    <tr>\n",
       "      <th>25</th>\n",
       "      <td>CSF</td>\n",
       "      <td>-1</td>\n",
       "      <td>-1</td>\n",
       "      <td>-1</td>\n",
       "    </tr>\n",
       "    <tr>\n",
       "      <th>26</th>\n",
       "      <td>Blood Vessel Wall</td>\n",
       "      <td>255</td>\n",
       "      <td>0</td>\n",
       "      <td>0</td>\n",
       "    </tr>\n",
       "    <tr>\n",
       "      <th>27</th>\n",
       "      <td>Tongue</td>\n",
       "      <td>207</td>\n",
       "      <td>170</td>\n",
       "      <td>87</td>\n",
       "    </tr>\n",
       "    <tr>\n",
       "      <th>28</th>\n",
       "      <td>Connective Tissue</td>\n",
       "      <td>-1</td>\n",
       "      <td>-1</td>\n",
       "      <td>-1</td>\n",
       "    </tr>\n",
       "    <tr>\n",
       "      <th>29</th>\n",
       "      <td>Pharynx</td>\n",
       "      <td>174</td>\n",
       "      <td>153</td>\n",
       "      <td>97</td>\n",
       "    </tr>\n",
       "    <tr>\n",
       "      <th>30</th>\n",
       "      <td>Larynx</td>\n",
       "      <td>207</td>\n",
       "      <td>178</td>\n",
       "      <td>148</td>\n",
       "    </tr>\n",
       "    <tr>\n",
       "      <th>31</th>\n",
       "      <td>Trachea</td>\n",
       "      <td>-1</td>\n",
       "      <td>-1</td>\n",
       "      <td>-1</td>\n",
       "    </tr>\n",
       "    <tr>\n",
       "      <th>32</th>\n",
       "      <td>Body of mandible</td>\n",
       "      <td>208</td>\n",
       "      <td>220</td>\n",
       "      <td>227</td>\n",
       "    </tr>\n",
       "    <tr>\n",
       "      <th>33</th>\n",
       "      <td>Spinal cord</td>\n",
       "      <td>97</td>\n",
       "      <td>174</td>\n",
       "      <td>169</td>\n",
       "    </tr>\n",
       "    <tr>\n",
       "      <th>34</th>\n",
       "      <td>Mylohyoid</td>\n",
       "      <td>255</td>\n",
       "      <td>56</td>\n",
       "      <td>0</td>\n",
       "    </tr>\n",
       "    <tr>\n",
       "      <th>35</th>\n",
       "      <td>Lingual septum</td>\n",
       "      <td>150</td>\n",
       "      <td>150</td>\n",
       "      <td>150</td>\n",
       "    </tr>\n",
       "    <tr>\n",
       "      <th>36</th>\n",
       "      <td>Mandible</td>\n",
       "      <td>208</td>\n",
       "      <td>220</td>\n",
       "      <td>227</td>\n",
       "    </tr>\n",
       "    <tr>\n",
       "      <th>37</th>\n",
       "      <td>Hyoglossus</td>\n",
       "      <td>186</td>\n",
       "      <td>94</td>\n",
       "      <td>45</td>\n",
       "    </tr>\n",
       "    <tr>\n",
       "      <th>38</th>\n",
       "      <td>Cricoarytenoid</td>\n",
       "      <td>255</td>\n",
       "      <td>213</td>\n",
       "      <td>0</td>\n",
       "    </tr>\n",
       "    <tr>\n",
       "      <th>39</th>\n",
       "      <td>Oblique Arytenoid</td>\n",
       "      <td>127</td>\n",
       "      <td>60</td>\n",
       "      <td>60</td>\n",
       "    </tr>\n",
       "    <tr>\n",
       "      <th>40</th>\n",
       "      <td>Spinal cord2</td>\n",
       "      <td>174</td>\n",
       "      <td>148</td>\n",
       "      <td>145</td>\n",
       "    </tr>\n",
       "    <tr>\n",
       "      <th>41</th>\n",
       "      <td>Hyoid bone</td>\n",
       "      <td>148</td>\n",
       "      <td>197</td>\n",
       "      <td>192</td>\n",
       "    </tr>\n",
       "    <tr>\n",
       "      <th>42</th>\n",
       "      <td>Carotid shealth</td>\n",
       "      <td>213</td>\n",
       "      <td>195</td>\n",
       "      <td>65</td>\n",
       "    </tr>\n",
       "    <tr>\n",
       "      <th>43</th>\n",
       "      <td>incisire duct</td>\n",
       "      <td>11</td>\n",
       "      <td>206</td>\n",
       "      <td>205</td>\n",
       "    </tr>\n",
       "    <tr>\n",
       "      <th>44</th>\n",
       "      <td>lip</td>\n",
       "      <td>97</td>\n",
       "      <td>58</td>\n",
       "      <td>104</td>\n",
       "    </tr>\n",
       "    <tr>\n",
       "      <th>45</th>\n",
       "      <td>gingira</td>\n",
       "      <td>186</td>\n",
       "      <td>4</td>\n",
       "      <td>91</td>\n",
       "    </tr>\n",
       "    <tr>\n",
       "      <th>46</th>\n",
       "      <td>Marilla</td>\n",
       "      <td>208</td>\n",
       "      <td>191</td>\n",
       "      <td>211</td>\n",
       "    </tr>\n",
       "    <tr>\n",
       "      <th>47</th>\n",
       "      <td>Parotid  Space</td>\n",
       "      <td>0</td>\n",
       "      <td>255</td>\n",
       "      <td>26</td>\n",
       "    </tr>\n",
       "    <tr>\n",
       "      <th>48</th>\n",
       "      <td>Cavity</td>\n",
       "      <td>220</td>\n",
       "      <td>156</td>\n",
       "      <td>158</td>\n",
       "    </tr>\n",
       "    <tr>\n",
       "      <th>49</th>\n",
       "      <td>Tissue</td>\n",
       "      <td>207</td>\n",
       "      <td>56</td>\n",
       "      <td>204</td>\n",
       "    </tr>\n",
       "  </tbody>\n",
       "</table>\n",
       "</div>"
      ],
      "text/plain": [
       "                    Name    R    G    B\n",
       "id                                     \n",
       "0      Bone (Cancellous)  255  241  210\n",
       "1        Bone (Cortical)  255  204  181\n",
       "2      Bone Marrow (Red)  288  110  255\n",
       "3   Bone Marrow (Yellow)  216  216  216\n",
       "4                  Brain  255  255  119\n",
       "5    Brain (Grey Matter)   -1   -1   -1\n",
       "6   Brain (White Matter)  178  123  119\n",
       "7    Eye (Aqueous Humor)   -1   -1   -1\n",
       "8          Eye (Choroid)   -1   -1   -1\n",
       "9     Eye (Ciliary Body)   -1   -1   -1\n",
       "10          Eye (Cornea)  219  175  168\n",
       "11            Eye (Iris)   -1   -1   -1\n",
       "12            Eye (Lens)  123  255  246\n",
       "13          Eye (Retina)   -1   -1   -1\n",
       "14          Eye (Sclera)   -1   -1   -1\n",
       "15  Eye (Vitreous Humor)   -1   -1   -1\n",
       "16     Eye Lens (Cortex)   -1   -1   -1\n",
       "17    Eye Lens (Nucleus)   -1   -1   -1\n",
       "18               Muscles  176   39    0\n",
       "19                  Skin  255  101   77\n",
       "20      Skull Cancellous   -1   -1   -1\n",
       "21        Skull Cortical   -1   -1   -1\n",
       "22                 Tooth   53   96   43\n",
       "23                   Air  103  222  115\n",
       "24                 Sinus  186  239  255\n",
       "25                   CSF   -1   -1   -1\n",
       "26     Blood Vessel Wall  255    0    0\n",
       "27                Tongue  207  170   87\n",
       "28     Connective Tissue   -1   -1   -1\n",
       "29               Pharynx  174  153   97\n",
       "30                Larynx  207  178  148\n",
       "31               Trachea   -1   -1   -1\n",
       "32      Body of mandible  208  220  227\n",
       "33           Spinal cord   97  174  169\n",
       "34             Mylohyoid  255   56    0\n",
       "35        Lingual septum  150  150  150\n",
       "36              Mandible  208  220  227\n",
       "37            Hyoglossus  186   94   45\n",
       "38        Cricoarytenoid  255  213    0\n",
       "39     Oblique Arytenoid  127   60   60\n",
       "40          Spinal cord2  174  148  145\n",
       "41            Hyoid bone  148  197  192\n",
       "42       Carotid shealth  213  195   65\n",
       "43         incisire duct   11  206  205\n",
       "44                   lip   97   58  104\n",
       "45               gingira  186    4   91\n",
       "46               Marilla  208  191  211\n",
       "47        Parotid  Space    0  255   26\n",
       "48                Cavity  220  156  158\n",
       "49                Tissue  207   56  204"
      ]
     },
     "execution_count": 39,
     "metadata": {},
     "output_type": "execute_result"
    }
   ],
   "source": [
    "Meterial_id=Meterial_id.set_index('id')\n",
    "Meterial_id"
   ]
  },
  {
   "cell_type": "code",
   "execution_count": 40,
   "metadata": {},
   "outputs": [
    {
     "data": {
      "text/plain": [
       "id\n",
       "0     False\n",
       "1     False\n",
       "2     False\n",
       "3     False\n",
       "4     False\n",
       "5     False\n",
       "6     False\n",
       "7     False\n",
       "8     False\n",
       "9     False\n",
       "10    False\n",
       "11    False\n",
       "12    False\n",
       "13    False\n",
       "14    False\n",
       "15    False\n",
       "16    False\n",
       "17    False\n",
       "18    False\n",
       "19    False\n",
       "20    False\n",
       "21    False\n",
       "22    False\n",
       "23    False\n",
       "24    False\n",
       "25    False\n",
       "26    False\n",
       "27    False\n",
       "28    False\n",
       "29    False\n",
       "30    False\n",
       "31    False\n",
       "32    False\n",
       "33    False\n",
       "34    False\n",
       "35    False\n",
       "36    False\n",
       "37    False\n",
       "38    False\n",
       "39    False\n",
       "40    False\n",
       "41    False\n",
       "42    False\n",
       "43    False\n",
       "44     True\n",
       "45    False\n",
       "46    False\n",
       "47    False\n",
       "48    False\n",
       "49    False\n",
       "dtype: bool"
      ]
     },
     "execution_count": 40,
     "metadata": {},
     "output_type": "execute_result"
    }
   ],
   "source": [
    "(Meterial_id['R']==97) & (Meterial_id['G']==58) & (Meterial_id['B']==104)"
   ]
  },
  {
   "cell_type": "code",
   "execution_count": 41,
   "metadata": {
    "scrolled": true
   },
   "outputs": [],
   "source": [
    "#Meterial_id[(Meterial_id['R']==0) & (Meterial_id['G']==0) & (Meterial_id['B']==0)].index[0]"
   ]
  },
  {
   "cell_type": "code",
   "execution_count": 53,
   "metadata": {},
   "outputs": [],
   "source": [
    "dictforid={}\n",
    "def getid(r=0,g=0,b=0):\n",
    "    if(r==0 and g==0 and b==0):\n",
    "        return -1\n",
    "    if (len(Meterial_id[(Meterial_id['R']==r) & (Meterial_id['G']==g) & (Meterial_id['B']==b)])==0):\n",
    "        #print(\"No record\",r,g,b)\n",
    "        \n",
    "        dictforid={}\n",
    "        for i in range(len(Meterial_id)):\n",
    "            if(Meterial_id.iloc[i].R==-1 and Meterial_id.iloc[i].G==-1 and Meterial_id.iloc[i].B==-1 ):\n",
    "                pass\n",
    "            else:\n",
    "                dictforid[i]=abs(Meterial_id.iloc[i].R-r)+abs(Meterial_id.iloc[i].G-g)+abs(Meterial_id.iloc[i].B-b)\n",
    "        dictforid[-1]=abs(r)+abs(g)+abs(b)\n",
    "        return min(dictforid, key=dictforid.get)\n",
    "        return -2\n",
    "    else:\n",
    "        return Meterial_id[(Meterial_id['R']==r) & (Meterial_id['G']==g) & (Meterial_id['B']==b)].index[0]"
   ]
  },
  {
   "cell_type": "code",
   "execution_count": 54,
   "metadata": {},
   "outputs": [
    {
     "data": {
      "text/plain": [
       "33"
      ]
     },
     "execution_count": 54,
     "metadata": {},
     "output_type": "execute_result"
    }
   ],
   "source": [
    "getid(26,150,120)"
   ]
  },
  {
   "cell_type": "code",
   "execution_count": 55,
   "metadata": {},
   "outputs": [],
   "source": [
    "from skimage import io\n",
    "photo=[]\n",
    "for i in range(1,31):\n",
    "    img = io.imread(\"Sample/CT\"+str(i)+\".png\")\n",
    "    photo.append(img)"
   ]
  },
  {
   "cell_type": "code",
   "execution_count": 56,
   "metadata": {},
   "outputs": [
    {
     "data": {
      "text/plain": [
       "Array([  0, 255], dtype=uint8)"
      ]
     },
     "execution_count": 56,
     "metadata": {},
     "output_type": "execute_result"
    }
   ],
   "source": [
    "np.unique(photo[0][:,:,3])"
   ]
  },
  {
   "cell_type": "code",
   "execution_count": 57,
   "metadata": {
    "scrolled": false
   },
   "outputs": [
    {
     "data": {
      "text/html": [
       "<div>\n",
       "<style scoped>\n",
       "    .dataframe tbody tr th:only-of-type {\n",
       "        vertical-align: middle;\n",
       "    }\n",
       "\n",
       "    .dataframe tbody tr th {\n",
       "        vertical-align: top;\n",
       "    }\n",
       "\n",
       "    .dataframe thead th {\n",
       "        text-align: right;\n",
       "    }\n",
       "</style>\n",
       "<table border=\"1\" class=\"dataframe\">\n",
       "  <thead>\n",
       "    <tr style=\"text-align: right;\">\n",
       "      <th></th>\n",
       "      <th>x</th>\n",
       "      <th>y</th>\n",
       "      <th>z</th>\n",
       "      <th>distancepow2</th>\n",
       "      <th>distance</th>\n",
       "      <th>material</th>\n",
       "    </tr>\n",
       "  </thead>\n",
       "  <tbody>\n",
       "  </tbody>\n",
       "</table>\n",
       "</div>"
      ],
      "text/plain": [
       "Empty DataFrame\n",
       "Columns: [x, y, z, distancepow2, distance, material]\n",
       "Index: []"
      ]
     },
     "execution_count": 57,
     "metadata": {},
     "output_type": "execute_result"
    }
   ],
   "source": [
    "queue=pd.DataFrame(columns=['x','y','z','distancepow2','distance','material'])\n",
    "#queue=queue.append({'x':0,'y':0,'z':0,'distancepow2':0,'distance':0}, ignore_index=True)\n",
    "queue"
   ]
  },
  {
   "cell_type": "code",
   "execution_count": 51,
   "metadata": {},
   "outputs": [
    {
     "name": "stdout",
     "output_type": "stream",
     "text": [
      "0\n",
      "y 0,y 10,y 20,y 30,y 40,y 50,y 60,y 70,y 80,y 90,y 100,y 110,y 120,y 130,y 140,y 150,y 160,y 170,y 180,y 190,y 200,y 210,y 220,y 230,y 240,y 250,y 260,y 270,y 280,y 290,y 300,y 310,y 320,y 330,y 340,y 350,y 360,y 370,y 380,y 390,y 400,y 410,y 420,y 430,y 440,y 450,y 460,y 470,y 480,y 490,y 500,y 510,y 520,y 530,y 540,y 550,y 560,y 570,y 580,y 590,y 600,y 610,y 620,y 630,y 640,y 650,y 660,y 670,y 680,y 690,y 700,y 710,"
     ]
    },
    {
     "ename": "KeyboardInterrupt",
     "evalue": "",
     "output_type": "error",
     "traceback": [
      "\u001b[0;31m---------------------------------------------------------------------------\u001b[0m",
      "\u001b[0;31mKeyboardInterrupt\u001b[0m                         Traceback (most recent call last)",
      "\u001b[0;32m<ipython-input-51-4cb2bdcfc8dd>\u001b[0m in \u001b[0;36m<module>\u001b[0;34m\u001b[0m\n\u001b[1;32m      9\u001b[0m             \u001b[0;31m#print(ix,iy,iz)\u001b[0m\u001b[0;34m\u001b[0m\u001b[0;34m\u001b[0m\u001b[0;34m\u001b[0m\u001b[0m\n\u001b[1;32m     10\u001b[0m             \u001b[0;32mif\u001b[0m\u001b[0;34m(\u001b[0m\u001b[0mphoto\u001b[0m\u001b[0;34m[\u001b[0m\u001b[0miz\u001b[0m\u001b[0;34m]\u001b[0m\u001b[0;34m[\u001b[0m\u001b[0miy\u001b[0m\u001b[0;34m]\u001b[0m\u001b[0;34m[\u001b[0m\u001b[0mix\u001b[0m\u001b[0;34m]\u001b[0m\u001b[0;34m[\u001b[0m\u001b[0;36m3\u001b[0m\u001b[0;34m]\u001b[0m\u001b[0;34m>\u001b[0m\u001b[0;36m0\u001b[0m\u001b[0;34m)\u001b[0m\u001b[0;34m:\u001b[0m\u001b[0;34m\u001b[0m\u001b[0;34m\u001b[0m\u001b[0m\n\u001b[0;32m---> 11\u001b[0;31m                 \u001b[0mqueue\u001b[0m\u001b[0;34m=\u001b[0m\u001b[0mqueue\u001b[0m\u001b[0;34m.\u001b[0m\u001b[0mappend\u001b[0m\u001b[0;34m(\u001b[0m\u001b[0;34m{\u001b[0m\u001b[0;34m'x'\u001b[0m\u001b[0;34m:\u001b[0m\u001b[0mix\u001b[0m\u001b[0;34m,\u001b[0m\u001b[0;34m'y'\u001b[0m\u001b[0;34m:\u001b[0m\u001b[0miy\u001b[0m\u001b[0;34m,\u001b[0m\u001b[0;34m'z'\u001b[0m\u001b[0;34m:\u001b[0m\u001b[0miz\u001b[0m\u001b[0;34m,\u001b[0m\u001b[0;34m'distancepow2'\u001b[0m\u001b[0;34m:\u001b[0m\u001b[0;36m0\u001b[0m\u001b[0;34m,\u001b[0m\u001b[0;34m'distance'\u001b[0m\u001b[0;34m:\u001b[0m\u001b[0;36m0\u001b[0m\u001b[0;34m,\u001b[0m\u001b[0;34m\"material\"\u001b[0m\u001b[0;34m:\u001b[0m\u001b[0mgetid\u001b[0m\u001b[0;34m(\u001b[0m\u001b[0mphoto\u001b[0m\u001b[0;34m[\u001b[0m\u001b[0miz\u001b[0m\u001b[0;34m]\u001b[0m\u001b[0;34m[\u001b[0m\u001b[0miy\u001b[0m\u001b[0;34m]\u001b[0m\u001b[0;34m[\u001b[0m\u001b[0mix\u001b[0m\u001b[0;34m]\u001b[0m\u001b[0;34m[\u001b[0m\u001b[0;36m0\u001b[0m\u001b[0;34m]\u001b[0m\u001b[0;34m,\u001b[0m\u001b[0mphoto\u001b[0m\u001b[0;34m[\u001b[0m\u001b[0miz\u001b[0m\u001b[0;34m]\u001b[0m\u001b[0;34m[\u001b[0m\u001b[0miy\u001b[0m\u001b[0;34m]\u001b[0m\u001b[0;34m[\u001b[0m\u001b[0mix\u001b[0m\u001b[0;34m]\u001b[0m\u001b[0;34m[\u001b[0m\u001b[0;36m1\u001b[0m\u001b[0;34m]\u001b[0m\u001b[0;34m,\u001b[0m\u001b[0mphoto\u001b[0m\u001b[0;34m[\u001b[0m\u001b[0miz\u001b[0m\u001b[0;34m]\u001b[0m\u001b[0;34m[\u001b[0m\u001b[0miy\u001b[0m\u001b[0;34m]\u001b[0m\u001b[0;34m[\u001b[0m\u001b[0mix\u001b[0m\u001b[0;34m]\u001b[0m\u001b[0;34m[\u001b[0m\u001b[0;36m2\u001b[0m\u001b[0;34m]\u001b[0m\u001b[0;34m)\u001b[0m\u001b[0;34m}\u001b[0m\u001b[0;34m,\u001b[0m \u001b[0mignore_index\u001b[0m\u001b[0;34m=\u001b[0m\u001b[0;32mTrue\u001b[0m\u001b[0;34m)\u001b[0m\u001b[0;34m\u001b[0m\u001b[0;34m\u001b[0m\u001b[0m\n\u001b[0m",
      "\u001b[0;32m<ipython-input-42-a7dce4cc4590>\u001b[0m in \u001b[0;36mgetid\u001b[0;34m(r, g, b)\u001b[0m\n\u001b[1;32m     16\u001b[0m         \u001b[0;32mreturn\u001b[0m \u001b[0;34m-\u001b[0m\u001b[0;36m2\u001b[0m\u001b[0;34m\u001b[0m\u001b[0;34m\u001b[0m\u001b[0m\n\u001b[1;32m     17\u001b[0m     \u001b[0;32melse\u001b[0m\u001b[0;34m:\u001b[0m\u001b[0;34m\u001b[0m\u001b[0;34m\u001b[0m\u001b[0m\n\u001b[0;32m---> 18\u001b[0;31m         \u001b[0;32mreturn\u001b[0m \u001b[0mMeterial_id\u001b[0m\u001b[0;34m[\u001b[0m\u001b[0;34m(\u001b[0m\u001b[0mMeterial_id\u001b[0m\u001b[0;34m[\u001b[0m\u001b[0;34m'R'\u001b[0m\u001b[0;34m]\u001b[0m\u001b[0;34m==\u001b[0m\u001b[0mr\u001b[0m\u001b[0;34m)\u001b[0m \u001b[0;34m&\u001b[0m \u001b[0;34m(\u001b[0m\u001b[0mMeterial_id\u001b[0m\u001b[0;34m[\u001b[0m\u001b[0;34m'G'\u001b[0m\u001b[0;34m]\u001b[0m\u001b[0;34m==\u001b[0m\u001b[0mg\u001b[0m\u001b[0;34m)\u001b[0m \u001b[0;34m&\u001b[0m \u001b[0;34m(\u001b[0m\u001b[0mMeterial_id\u001b[0m\u001b[0;34m[\u001b[0m\u001b[0;34m'B'\u001b[0m\u001b[0;34m]\u001b[0m\u001b[0;34m==\u001b[0m\u001b[0mb\u001b[0m\u001b[0;34m)\u001b[0m\u001b[0;34m]\u001b[0m\u001b[0;34m.\u001b[0m\u001b[0mindex\u001b[0m\u001b[0;34m[\u001b[0m\u001b[0;36m0\u001b[0m\u001b[0;34m]\u001b[0m\u001b[0;34m\u001b[0m\u001b[0;34m\u001b[0m\u001b[0m\n\u001b[0m",
      "\u001b[0;32m~/anaconda3/lib/python3.7/site-packages/pandas/core/ops.py\u001b[0m in \u001b[0;36mwrapper\u001b[0;34m(self, other, axis)\u001b[0m\n\u001b[1;32m   1677\u001b[0m                              \"Series objects\")\n\u001b[1;32m   1678\u001b[0m \u001b[0;34m\u001b[0m\u001b[0m\n\u001b[0;32m-> 1679\u001b[0;31m         \u001b[0;32melif\u001b[0m \u001b[0mis_categorical_dtype\u001b[0m\u001b[0;34m(\u001b[0m\u001b[0mself\u001b[0m\u001b[0;34m)\u001b[0m\u001b[0;34m:\u001b[0m\u001b[0;34m\u001b[0m\u001b[0;34m\u001b[0m\u001b[0m\n\u001b[0m\u001b[1;32m   1680\u001b[0m             \u001b[0;31m# Dispatch to Categorical implementation; pd.CategoricalIndex\u001b[0m\u001b[0;34m\u001b[0m\u001b[0;34m\u001b[0m\u001b[0;34m\u001b[0m\u001b[0m\n\u001b[1;32m   1681\u001b[0m             \u001b[0;31m# behavior is non-canonical GH#19513\u001b[0m\u001b[0;34m\u001b[0m\u001b[0;34m\u001b[0m\u001b[0;34m\u001b[0m\u001b[0m\n",
      "\u001b[0;32m~/anaconda3/lib/python3.7/site-packages/pandas/core/dtypes/common.py\u001b[0m in \u001b[0;36mis_categorical_dtype\u001b[0;34m(arr_or_dtype)\u001b[0m\n\u001b[1;32m    600\u001b[0m     \u001b[0;32mif\u001b[0m \u001b[0marr_or_dtype\u001b[0m \u001b[0;32mis\u001b[0m \u001b[0;32mNone\u001b[0m\u001b[0;34m:\u001b[0m\u001b[0;34m\u001b[0m\u001b[0;34m\u001b[0m\u001b[0m\n\u001b[1;32m    601\u001b[0m         \u001b[0;32mreturn\u001b[0m \u001b[0;32mFalse\u001b[0m\u001b[0;34m\u001b[0m\u001b[0;34m\u001b[0m\u001b[0m\n\u001b[0;32m--> 602\u001b[0;31m     \u001b[0;32mreturn\u001b[0m \u001b[0mCategoricalDtype\u001b[0m\u001b[0;34m.\u001b[0m\u001b[0mis_dtype\u001b[0m\u001b[0;34m(\u001b[0m\u001b[0marr_or_dtype\u001b[0m\u001b[0;34m)\u001b[0m\u001b[0;34m\u001b[0m\u001b[0;34m\u001b[0m\u001b[0m\n\u001b[0m\u001b[1;32m    603\u001b[0m \u001b[0;34m\u001b[0m\u001b[0m\n\u001b[1;32m    604\u001b[0m \u001b[0;34m\u001b[0m\u001b[0m\n",
      "\u001b[0;32m~/anaconda3/lib/python3.7/site-packages/pandas/core/dtypes/base.py\u001b[0m in \u001b[0;36mis_dtype\u001b[0;34m(cls, dtype)\u001b[0m\n\u001b[1;32m     99\u001b[0m \u001b[0;34m\u001b[0m\u001b[0m\n\u001b[1;32m    100\u001b[0m         if isinstance(dtype, (ABCSeries, ABCIndexClass,\n\u001b[0;32m--> 101\u001b[0;31m                               ABCDataFrame, np.dtype)):\n\u001b[0m\u001b[1;32m    102\u001b[0m             \u001b[0;31m# https://github.com/pandas-dev/pandas/issues/22960\u001b[0m\u001b[0;34m\u001b[0m\u001b[0;34m\u001b[0m\u001b[0;34m\u001b[0m\u001b[0m\n\u001b[1;32m    103\u001b[0m             \u001b[0;31m# avoid passing data to `construct_from_string`. This could\u001b[0m\u001b[0;34m\u001b[0m\u001b[0;34m\u001b[0m\u001b[0;34m\u001b[0m\u001b[0m\n",
      "\u001b[0;32m~/anaconda3/lib/python3.7/site-packages/pandas/core/dtypes/generic.py\u001b[0m in \u001b[0;36m_check\u001b[0;34m(cls, inst)\u001b[0m\n\u001b[1;32m      5\u001b[0m \u001b[0;31m# objects\u001b[0m\u001b[0;34m\u001b[0m\u001b[0;34m\u001b[0m\u001b[0;34m\u001b[0m\u001b[0m\n\u001b[1;32m      6\u001b[0m \u001b[0;32mdef\u001b[0m \u001b[0mcreate_pandas_abc_type\u001b[0m\u001b[0;34m(\u001b[0m\u001b[0mname\u001b[0m\u001b[0;34m,\u001b[0m \u001b[0mattr\u001b[0m\u001b[0;34m,\u001b[0m \u001b[0mcomp\u001b[0m\u001b[0;34m)\u001b[0m\u001b[0;34m:\u001b[0m\u001b[0;34m\u001b[0m\u001b[0;34m\u001b[0m\u001b[0m\n\u001b[0;32m----> 7\u001b[0;31m     \u001b[0;34m@\u001b[0m\u001b[0mclassmethod\u001b[0m\u001b[0;34m\u001b[0m\u001b[0;34m\u001b[0m\u001b[0m\n\u001b[0m\u001b[1;32m      8\u001b[0m     \u001b[0;32mdef\u001b[0m \u001b[0m_check\u001b[0m\u001b[0;34m(\u001b[0m\u001b[0mcls\u001b[0m\u001b[0;34m,\u001b[0m \u001b[0minst\u001b[0m\u001b[0;34m)\u001b[0m\u001b[0;34m:\u001b[0m\u001b[0;34m\u001b[0m\u001b[0;34m\u001b[0m\u001b[0m\n\u001b[1;32m      9\u001b[0m         \u001b[0;32mreturn\u001b[0m \u001b[0mgetattr\u001b[0m\u001b[0;34m(\u001b[0m\u001b[0minst\u001b[0m\u001b[0;34m,\u001b[0m \u001b[0mattr\u001b[0m\u001b[0;34m,\u001b[0m \u001b[0;34m'_typ'\u001b[0m\u001b[0;34m)\u001b[0m \u001b[0;32min\u001b[0m \u001b[0mcomp\u001b[0m\u001b[0;34m\u001b[0m\u001b[0;34m\u001b[0m\u001b[0m\n",
      "\u001b[0;31mKeyboardInterrupt\u001b[0m: "
     ]
    }
   ],
   "source": [
    "#z y x\n",
    "model = np.zeros(shape=(len(photo),photo[0].shape[0],photo[0].shape[1]))\n",
    "for iz in range(len(photo)):\n",
    "    print(iz)\n",
    "    for iy in range(photo[0].shape[0]):\n",
    "        if (iy%30==0):\n",
    "            print('y',iy,end=',')\n",
    "        for ix in range(photo[0].shape[1]):\n",
    "            #print(ix,iy,iz)\n",
    "            if(photo[iz][iy][ix][3]>0):\n",
    "                queue=queue.append({'x':ix,'y':iy,'z':iz,'distancepow2':0,'distance':0,\"material\":getid(photo[iz][iy][ix][0],photo[iz][iy][ix][1],photo[iz][iy][ix][2])}, ignore_index=True)"
   ]
  },
  {
   "cell_type": "code",
   "execution_count": 52,
   "metadata": {
    "scrolled": true
   },
   "outputs": [
    {
     "name": "stdout",
     "output_type": "stream",
     "text": [
      "0\n",
      "0\n",
      "19955\n"
     ]
    }
   ],
   "source": [
    "print(np.count_nonzero(queue.material==-2))\n",
    "print(np.count_nonzero(queue.material==-1))\n",
    "print(np.count_nonzero(queue.material>=0))\n",
    "queue.to_csv(\"queue_wo_dis.csv\")"
   ]
  },
  {
   "cell_type": "code",
   "execution_count": 17,
   "metadata": {
    "scrolled": true
   },
   "outputs": [
    {
     "data": {
      "text/html": [
       "<div>\n",
       "<style scoped>\n",
       "    .dataframe tbody tr th:only-of-type {\n",
       "        vertical-align: middle;\n",
       "    }\n",
       "\n",
       "    .dataframe tbody tr th {\n",
       "        vertical-align: top;\n",
       "    }\n",
       "\n",
       "    .dataframe thead th {\n",
       "        text-align: right;\n",
       "    }\n",
       "</style>\n",
       "<table border=\"1\" class=\"dataframe\">\n",
       "  <thead>\n",
       "    <tr style=\"text-align: right;\">\n",
       "      <th></th>\n",
       "      <th>x</th>\n",
       "      <th>y</th>\n",
       "      <th>z</th>\n",
       "      <th>distancepow2</th>\n",
       "      <th>distance</th>\n",
       "      <th>material</th>\n",
       "    </tr>\n",
       "  </thead>\n",
       "  <tbody>\n",
       "    <tr>\n",
       "      <th>0</th>\n",
       "      <td>0</td>\n",
       "      <td>0</td>\n",
       "      <td>0</td>\n",
       "      <td>0</td>\n",
       "      <td>0</td>\n",
       "      <td>-1</td>\n",
       "    </tr>\n",
       "    <tr>\n",
       "      <th>1</th>\n",
       "      <td>1</td>\n",
       "      <td>0</td>\n",
       "      <td>0</td>\n",
       "      <td>0</td>\n",
       "      <td>0</td>\n",
       "      <td>-1</td>\n",
       "    </tr>\n",
       "    <tr>\n",
       "      <th>2</th>\n",
       "      <td>2</td>\n",
       "      <td>0</td>\n",
       "      <td>0</td>\n",
       "      <td>0</td>\n",
       "      <td>0</td>\n",
       "      <td>-1</td>\n",
       "    </tr>\n",
       "    <tr>\n",
       "      <th>3</th>\n",
       "      <td>3</td>\n",
       "      <td>0</td>\n",
       "      <td>0</td>\n",
       "      <td>0</td>\n",
       "      <td>0</td>\n",
       "      <td>-1</td>\n",
       "    </tr>\n",
       "    <tr>\n",
       "      <th>4</th>\n",
       "      <td>4</td>\n",
       "      <td>0</td>\n",
       "      <td>0</td>\n",
       "      <td>0</td>\n",
       "      <td>0</td>\n",
       "      <td>-1</td>\n",
       "    </tr>\n",
       "  </tbody>\n",
       "</table>\n",
       "</div>"
      ],
      "text/plain": [
       "   x  y  z  distancepow2  distance  material\n",
       "0  0  0  0             0         0        -1\n",
       "1  1  0  0             0         0        -1\n",
       "2  2  0  0             0         0        -1\n",
       "3  3  0  0             0         0        -1\n",
       "4  4  0  0             0         0        -1"
      ]
     },
     "execution_count": 17,
     "metadata": {},
     "output_type": "execute_result"
    }
   ],
   "source": [
    "queue=pd.read_csv('queue_wo_dis.csv')\n",
    "queue=queue.drop(['Unnamed: 0'], axis=1)\n",
    "queue.head()"
   ]
  },
  {
   "cell_type": "code",
   "execution_count": 18,
   "metadata": {},
   "outputs": [
    {
     "data": {
      "text/plain": [
       "100000"
      ]
     },
     "execution_count": 18,
     "metadata": {},
     "output_type": "execute_result"
    }
   ],
   "source": [
    "len(queue)"
   ]
  },
  {
   "cell_type": "code",
   "execution_count": 19,
   "metadata": {},
   "outputs": [],
   "source": [
    "sounddropx=50\n",
    "sounddropy=40\n",
    "sounddropz=0\n",
    "lengthx=17/100\n",
    "lengthy=17/100\n",
    "lengthz=20/10\n",
    "queue['distancepow2']=((queue['x']-sounddropx)*lengthx)**2+((queue['y']-sounddropy)*lengthy)**2+((queue['z']-sounddropz)*lengthz)**2\n",
    "queue['distance']=np.sqrt(list(queue['distancepow2']))"
   ]
  },
  {
   "cell_type": "code",
   "execution_count": 20,
   "metadata": {},
   "outputs": [
    {
     "data": {
      "text/plain": [
       "728.5714285714286"
      ]
     },
     "execution_count": 20,
     "metadata": {},
     "output_type": "execute_result"
    }
   ],
   "source": [
    "3*17/7*100"
   ]
  },
  {
   "cell_type": "code",
   "execution_count": 21,
   "metadata": {},
   "outputs": [],
   "source": [
    "queue = queue.sort_values('distancepow2')\n",
    "queue=queue.reset_index()"
   ]
  },
  {
   "cell_type": "code",
   "execution_count": 22,
   "metadata": {},
   "outputs": [
    {
     "data": {
      "text/html": [
       "<div>\n",
       "<style scoped>\n",
       "    .dataframe tbody tr th:only-of-type {\n",
       "        vertical-align: middle;\n",
       "    }\n",
       "\n",
       "    .dataframe tbody tr th {\n",
       "        vertical-align: top;\n",
       "    }\n",
       "\n",
       "    .dataframe thead th {\n",
       "        text-align: right;\n",
       "    }\n",
       "</style>\n",
       "<table border=\"1\" class=\"dataframe\">\n",
       "  <thead>\n",
       "    <tr style=\"text-align: right;\">\n",
       "      <th></th>\n",
       "      <th>index</th>\n",
       "      <th>x</th>\n",
       "      <th>y</th>\n",
       "      <th>z</th>\n",
       "      <th>distancepow2</th>\n",
       "      <th>distance</th>\n",
       "      <th>material</th>\n",
       "    </tr>\n",
       "  </thead>\n",
       "  <tbody>\n",
       "    <tr>\n",
       "      <th>0</th>\n",
       "      <td>4050</td>\n",
       "      <td>50</td>\n",
       "      <td>40</td>\n",
       "      <td>0</td>\n",
       "      <td>0.0000</td>\n",
       "      <td>0.000000</td>\n",
       "      <td>23</td>\n",
       "    </tr>\n",
       "    <tr>\n",
       "      <th>1</th>\n",
       "      <td>4049</td>\n",
       "      <td>49</td>\n",
       "      <td>40</td>\n",
       "      <td>0</td>\n",
       "      <td>0.0289</td>\n",
       "      <td>0.170000</td>\n",
       "      <td>23</td>\n",
       "    </tr>\n",
       "    <tr>\n",
       "      <th>2</th>\n",
       "      <td>4150</td>\n",
       "      <td>50</td>\n",
       "      <td>41</td>\n",
       "      <td>0</td>\n",
       "      <td>0.0289</td>\n",
       "      <td>0.170000</td>\n",
       "      <td>28</td>\n",
       "    </tr>\n",
       "    <tr>\n",
       "      <th>3</th>\n",
       "      <td>4051</td>\n",
       "      <td>51</td>\n",
       "      <td>40</td>\n",
       "      <td>0</td>\n",
       "      <td>0.0289</td>\n",
       "      <td>0.170000</td>\n",
       "      <td>23</td>\n",
       "    </tr>\n",
       "    <tr>\n",
       "      <th>4</th>\n",
       "      <td>3950</td>\n",
       "      <td>50</td>\n",
       "      <td>39</td>\n",
       "      <td>0</td>\n",
       "      <td>0.0289</td>\n",
       "      <td>0.170000</td>\n",
       "      <td>23</td>\n",
       "    </tr>\n",
       "    <tr>\n",
       "      <th>5</th>\n",
       "      <td>3951</td>\n",
       "      <td>51</td>\n",
       "      <td>39</td>\n",
       "      <td>0</td>\n",
       "      <td>0.0578</td>\n",
       "      <td>0.240416</td>\n",
       "      <td>23</td>\n",
       "    </tr>\n",
       "    <tr>\n",
       "      <th>6</th>\n",
       "      <td>3949</td>\n",
       "      <td>49</td>\n",
       "      <td>39</td>\n",
       "      <td>0</td>\n",
       "      <td>0.0578</td>\n",
       "      <td>0.240416</td>\n",
       "      <td>23</td>\n",
       "    </tr>\n",
       "    <tr>\n",
       "      <th>7</th>\n",
       "      <td>4149</td>\n",
       "      <td>49</td>\n",
       "      <td>41</td>\n",
       "      <td>0</td>\n",
       "      <td>0.0578</td>\n",
       "      <td>0.240416</td>\n",
       "      <td>28</td>\n",
       "    </tr>\n",
       "    <tr>\n",
       "      <th>8</th>\n",
       "      <td>4151</td>\n",
       "      <td>51</td>\n",
       "      <td>41</td>\n",
       "      <td>0</td>\n",
       "      <td>0.0578</td>\n",
       "      <td>0.240416</td>\n",
       "      <td>28</td>\n",
       "    </tr>\n",
       "    <tr>\n",
       "      <th>9</th>\n",
       "      <td>4250</td>\n",
       "      <td>50</td>\n",
       "      <td>42</td>\n",
       "      <td>0</td>\n",
       "      <td>0.1156</td>\n",
       "      <td>0.340000</td>\n",
       "      <td>28</td>\n",
       "    </tr>\n",
       "    <tr>\n",
       "      <th>10</th>\n",
       "      <td>4052</td>\n",
       "      <td>52</td>\n",
       "      <td>40</td>\n",
       "      <td>0</td>\n",
       "      <td>0.1156</td>\n",
       "      <td>0.340000</td>\n",
       "      <td>23</td>\n",
       "    </tr>\n",
       "    <tr>\n",
       "      <th>11</th>\n",
       "      <td>4048</td>\n",
       "      <td>48</td>\n",
       "      <td>40</td>\n",
       "      <td>0</td>\n",
       "      <td>0.1156</td>\n",
       "      <td>0.340000</td>\n",
       "      <td>23</td>\n",
       "    </tr>\n",
       "    <tr>\n",
       "      <th>12</th>\n",
       "      <td>3850</td>\n",
       "      <td>50</td>\n",
       "      <td>38</td>\n",
       "      <td>0</td>\n",
       "      <td>0.1156</td>\n",
       "      <td>0.340000</td>\n",
       "      <td>27</td>\n",
       "    </tr>\n",
       "    <tr>\n",
       "      <th>13</th>\n",
       "      <td>3948</td>\n",
       "      <td>48</td>\n",
       "      <td>39</td>\n",
       "      <td>0</td>\n",
       "      <td>0.1445</td>\n",
       "      <td>0.380132</td>\n",
       "      <td>23</td>\n",
       "    </tr>\n",
       "    <tr>\n",
       "      <th>14</th>\n",
       "      <td>4148</td>\n",
       "      <td>48</td>\n",
       "      <td>41</td>\n",
       "      <td>0</td>\n",
       "      <td>0.1445</td>\n",
       "      <td>0.380132</td>\n",
       "      <td>28</td>\n",
       "    </tr>\n",
       "    <tr>\n",
       "      <th>15</th>\n",
       "      <td>4251</td>\n",
       "      <td>51</td>\n",
       "      <td>42</td>\n",
       "      <td>0</td>\n",
       "      <td>0.1445</td>\n",
       "      <td>0.380132</td>\n",
       "      <td>28</td>\n",
       "    </tr>\n",
       "    <tr>\n",
       "      <th>16</th>\n",
       "      <td>4249</td>\n",
       "      <td>49</td>\n",
       "      <td>42</td>\n",
       "      <td>0</td>\n",
       "      <td>0.1445</td>\n",
       "      <td>0.380132</td>\n",
       "      <td>28</td>\n",
       "    </tr>\n",
       "    <tr>\n",
       "      <th>17</th>\n",
       "      <td>3851</td>\n",
       "      <td>51</td>\n",
       "      <td>38</td>\n",
       "      <td>0</td>\n",
       "      <td>0.1445</td>\n",
       "      <td>0.380132</td>\n",
       "      <td>27</td>\n",
       "    </tr>\n",
       "    <tr>\n",
       "      <th>18</th>\n",
       "      <td>3849</td>\n",
       "      <td>49</td>\n",
       "      <td>38</td>\n",
       "      <td>0</td>\n",
       "      <td>0.1445</td>\n",
       "      <td>0.380132</td>\n",
       "      <td>27</td>\n",
       "    </tr>\n",
       "    <tr>\n",
       "      <th>19</th>\n",
       "      <td>4152</td>\n",
       "      <td>52</td>\n",
       "      <td>41</td>\n",
       "      <td>0</td>\n",
       "      <td>0.1445</td>\n",
       "      <td>0.380132</td>\n",
       "      <td>28</td>\n",
       "    </tr>\n",
       "  </tbody>\n",
       "</table>\n",
       "</div>"
      ],
      "text/plain": [
       "    index   x   y  z  distancepow2  distance  material\n",
       "0    4050  50  40  0        0.0000  0.000000        23\n",
       "1    4049  49  40  0        0.0289  0.170000        23\n",
       "2    4150  50  41  0        0.0289  0.170000        28\n",
       "3    4051  51  40  0        0.0289  0.170000        23\n",
       "4    3950  50  39  0        0.0289  0.170000        23\n",
       "5    3951  51  39  0        0.0578  0.240416        23\n",
       "6    3949  49  39  0        0.0578  0.240416        23\n",
       "7    4149  49  41  0        0.0578  0.240416        28\n",
       "8    4151  51  41  0        0.0578  0.240416        28\n",
       "9    4250  50  42  0        0.1156  0.340000        28\n",
       "10   4052  52  40  0        0.1156  0.340000        23\n",
       "11   4048  48  40  0        0.1156  0.340000        23\n",
       "12   3850  50  38  0        0.1156  0.340000        27\n",
       "13   3948  48  39  0        0.1445  0.380132        23\n",
       "14   4148  48  41  0        0.1445  0.380132        28\n",
       "15   4251  51  42  0        0.1445  0.380132        28\n",
       "16   4249  49  42  0        0.1445  0.380132        28\n",
       "17   3851  51  38  0        0.1445  0.380132        27\n",
       "18   3849  49  38  0        0.1445  0.380132        27\n",
       "19   4152  52  41  0        0.1445  0.380132        28"
      ]
     },
     "execution_count": 22,
     "metadata": {},
     "output_type": "execute_result"
    }
   ],
   "source": [
    "queue.head(20)"
   ]
  },
  {
   "cell_type": "code",
   "execution_count": 100,
   "metadata": {},
   "outputs": [],
   "source": [
    "# 27.5 55 110 220 440 880 1760 3520 7040 14080\n",
    "Absobtion=Meterial_spectrum['14080']"
   ]
  },
  {
   "cell_type": "code",
   "execution_count": 101,
   "metadata": {},
   "outputs": [
    {
     "data": {
      "text/plain": [
       "0.282111665"
      ]
     },
     "execution_count": 101,
     "metadata": {},
     "output_type": "execute_result"
    }
   ],
   "source": [
    "# 27.5 55 110 220 440 880 1760 3520 7040 14080\n",
    "Meterial_spectrum['14080'][0]"
   ]
  },
  {
   "cell_type": "code",
   "execution_count": 60,
   "metadata": {
    "scrolled": true
   },
   "outputs": [
    {
     "data": {
      "text/plain": [
       "1"
      ]
     },
     "execution_count": 60,
     "metadata": {},
     "output_type": "execute_result"
    }
   ],
   "source": [
    "int(queue.iloc[1856].material)"
   ]
  },
  {
   "cell_type": "code",
   "execution_count": 102,
   "metadata": {},
   "outputs": [
    {
     "data": {
      "text/plain": [
       "0.0"
      ]
     },
     "execution_count": 102,
     "metadata": {},
     "output_type": "execute_result"
    }
   ],
   "source": [
    "model = np.zeros(shape=(len(photo),photo[0].shape[0],photo[0].shape[1]))\n",
    "model.sum()"
   ]
  },
  {
   "cell_type": "code",
   "execution_count": 103,
   "metadata": {},
   "outputs": [
    {
     "name": "stdout",
     "output_type": "stream",
     "text": [
      "2000\n",
      "4000\n",
      "6000\n",
      "8000\n",
      "10000\n",
      "12000\n",
      "14000\n",
      "16000\n",
      "18000\n",
      "20000\n",
      "22000\n",
      "24000\n",
      "26000\n",
      "28000\n",
      "30000\n",
      "32000\n",
      "34000\n",
      "36000\n",
      "38000\n",
      "40000\n",
      "42000\n",
      "44000\n",
      "46000\n",
      "48000\n",
      "50000\n",
      "52000\n",
      "54000\n",
      "56000\n",
      "58000\n",
      "60000\n",
      "62000\n",
      "64000\n",
      "66000\n",
      "68000\n",
      "70000\n",
      "72000\n",
      "74000\n",
      "76000\n",
      "78000\n",
      "80000\n",
      "82000\n",
      "84000\n",
      "86000\n",
      "88000\n",
      "90000\n",
      "92000\n",
      "94000\n",
      "96000\n",
      "98000\n"
     ]
    }
   ],
   "source": [
    "model = np.zeros(shape=(len(photo),photo[0].shape[0],photo[0].shape[1]))\n",
    "model[sounddropz,sounddropy,sounddropx]=1000000\n",
    "\n",
    "co1=lengthx\n",
    "co2=np.sqrt(2)*lengthx\n",
    "co1z=lengthz\n",
    "co2z=np.sqrt((lengthx**2)+(lengthz**2))\n",
    "co3z=np.sqrt((2*(lengthx**2))+(lengthz**2))\n",
    "allmultiple=co1*co2*co1z*co2z*co3z\n",
    "co1=allmultiple/co1\n",
    "co2=allmultiple/co2\n",
    "co1z=allmultiple/co1z\n",
    "co2z=allmultiple/co2z\n",
    "co3z=allmultiple/co3z\n",
    "\n",
    "evgle=((lengthx*lengthy*lengthz*6/math.pi)**(1/3))/100\n",
    "for i in range(1,len(queue)):\n",
    "    if(i%2000==0):\n",
    "        print(i)\n",
    "    ix=int(queue.iloc[i].x)\n",
    "    iy=int(queue.iloc[i].y)\n",
    "    iz=int(queue.iloc[i].z)\n",
    "    imaterial=int(queue.iloc[i].material)\n",
    "    if(imaterial>=0):\n",
    "        \n",
    "        Abs=Absobtion[imaterial]#abs per lengthx\n",
    "\n",
    "        val=0\n",
    "        piece=0\n",
    "\n",
    "        if(ix-1>=0):\n",
    "            if(model[iz][iy][ix-1]>0):\n",
    "                piece=piece+co1\n",
    "                val=val+((model[iz][iy][ix-1])*co1)\n",
    "\n",
    "        if(ix+1<model.shape[2]):\n",
    "            if(model[iz][iy][ix+1]>0):\n",
    "                piece=piece+co1\n",
    "                val=val+((model[iz][iy][ix+1])*co1)\n",
    "\n",
    "        if(iy-1>=0):\n",
    "            if(model[iz][iy-1][ix]>0):\n",
    "                piece=piece+co1\n",
    "                val=val+((model[iz][iy-1][ix])*co1)\n",
    "\n",
    "        if(iy+1<model.shape[1]):\n",
    "            if(model[iz][iy+1][ix]>0):\n",
    "                piece=piece+co1\n",
    "                val=val+((model[iz][iy+1][ix])*co1)\n",
    "\n",
    "        if(iz-1>=0):\n",
    "            if(model[iz-1][iy][ix]>0):\n",
    "                piece=piece+co1z\n",
    "                val=val+((model[iz-1][iy][ix])*co1z)\n",
    "\n",
    "        if(iz+1<model.shape[0]):\n",
    "            if(model[iz+1][iy][ix]>0):\n",
    "                piece=piece+co1z\n",
    "                val=val+((model[iz+1][iy][ix])*co1z)\n",
    "\n",
    "        ####################################\n",
    "\n",
    "        if(ix-1>=0 and iy-1>=0):\n",
    "            if(model[iz][iy-1][ix-1]>0):\n",
    "                piece=piece+co2\n",
    "                val=val+((model[iz][iy-1][ix-1])*co2)\n",
    "\n",
    "        if(ix+1<model.shape[2] and iy-1>=0):\n",
    "            if (model[iz][iy-1][ix+1]>0):\n",
    "                piece=piece+co2\n",
    "                val=val+((model[iz][iy-1][ix+1])*co2)\n",
    "\n",
    "        if(ix-1>=0 and iy+1<model.shape[1]):\n",
    "            if(model[iz][iy+1][ix-1]>0):\n",
    "                piece=piece+co2\n",
    "                val=val+((model[iz][iy+1][ix-1])*co2)\n",
    "\n",
    "        if(ix+1<model.shape[2] and iy+1<model.shape[1]):\n",
    "            if(model[iz][iy+1][ix+1]>0):\n",
    "                piece=piece+co2\n",
    "                val=val+((model[iz][iy+1][ix+1])*co2)\n",
    "\n",
    "        ####\n",
    "\n",
    "        if(ix-1>=0 and iz-1>=0):\n",
    "            if(model[iz-1][iy][ix-1]>0):\n",
    "                piece=piece+co2z\n",
    "                val=val+((model[iz-1][iy][ix-1])*co2z)\n",
    "\n",
    "        if(ix-1>=0 and iz+1<model.shape[0]):\n",
    "            if(model[iz+1][iy][ix-1]>0):\n",
    "                piece=piece+co2z\n",
    "                val=val+((model[iz+1][iy][ix-1])*co2z)\n",
    "\n",
    "        if(ix+1<model.shape[2] and iz-1>=0):\n",
    "            if(model[iz-1][iy][ix+1]>0):\n",
    "                piece=piece+co2z\n",
    "                val=val+((model[iz-1][iy][ix+1])*co2z)\n",
    "\n",
    "        if(ix+1<model.shape[2] and iz+1<model.shape[0]):\n",
    "            if(model[iz+1][iy][ix+1]>0):\n",
    "                piece=piece+co2z\n",
    "                val=val+((model[iz+1][iy][ix+1])*co2z)\n",
    "\n",
    "        ####\n",
    "\n",
    "        if(iy-1>=0 and iz-1>=0):\n",
    "            if(model[iz-1][iy-1][ix]>0):\n",
    "                piece=piece+co2z\n",
    "                val=val+((model[iz-1][iy-1][ix])*co2z)\n",
    "\n",
    "        if(iy-1>=0 and iz+1<model.shape[0]):\n",
    "            if(model[iz+1][iy-1][ix]>0):\n",
    "                piece=piece+co2z\n",
    "                val=val+((model[iz+1][iy-1][ix])*co2z)\n",
    "\n",
    "        if(iy+1<model.shape[1] and iz-1>=0):\n",
    "            if(model[iz-1][iy+1][ix]>0):\n",
    "                piece=piece+co2z\n",
    "                val=val+((model[iz-1][iy+1][ix])*co2z)\n",
    "\n",
    "        if(iy+1<model.shape[1] and iz+1<model.shape[0]):\n",
    "            if(model[iz+1][iy+1][ix]>0):\n",
    "                piece=piece+co2z\n",
    "                val=val+((model[iz+1][iy+1][ix])*co2z)\n",
    "\n",
    "        ####################################\n",
    "\n",
    "        if(ix-1>=0 and iy-1>=0 and iz-1>=0):\n",
    "            if(model[iz-1][iy-1][ix-1]>0):\n",
    "                piece=piece+co3z\n",
    "                val=val+((model[iz-1][iy-1][ix-1])*co3z)\n",
    "\n",
    "        if(ix+1<model.shape[2] and iy+1<model.shape[1] and iz+1<model.shape[0]):\n",
    "            if(model[iz+1][iy+1][ix+1]>0):\n",
    "                piece=piece+co3z\n",
    "                val=val+((model[iz+1][iy+1][ix+1])*co3z)\n",
    "\n",
    "        if(ix-1>=0 and iy-1>=0 and iz+1<model.shape[0]):\n",
    "            if(model[iz+1][iy-1][ix-1]>0):\n",
    "                piece=piece+co3z\n",
    "                val=val+((model[iz+1][iy-1][ix-1])*co3z)\n",
    "\n",
    "        if(ix-1>=0 and iy+1<model.shape[1] and iz-1>=0):\n",
    "            if(model[iz-1][iy+1][ix-1]>0):\n",
    "                piece=piece+co3z\n",
    "                val=val+((model[iz-1][iy+1][ix-1])*co3z)\n",
    "\n",
    "        if(ix-1>=0 and iy+1<model.shape[1] and iz+1<model.shape[0]):\n",
    "            if(model[iz+1][iy+1][ix-1]>0):\n",
    "                piece=piece+co3z\n",
    "                val=val+((model[iz+1][iy+1][ix-1])*co3z)\n",
    "\n",
    "        ## \n",
    "\n",
    "        if(ix+1<model.shape[2] and iy-1>=0 and iz-1>=0):\n",
    "            if(model[iz-1][iy-1][ix+1]>0):\n",
    "                piece=piece+co3z\n",
    "                val=val+((model[iz-1][iy-1][ix+1])*co3z)\n",
    "\n",
    "        if(ix+1<model.shape[2] and iy-1>=0 and iz+1<model.shape[0]):\n",
    "            if(model[iz+1][iy-1][ix+1]>0):\n",
    "                piece=piece+co3z\n",
    "                val=val+((model[iz+1][iy-1][ix+1])*co3z)\n",
    "\n",
    "        if(ix+1<model.shape[2] and iy+1<model.shape[1] and iz-1>=0):\n",
    "            if(model[iz-1][iy+1][ix+1]>0):\n",
    "                piece=piece+co3z\n",
    "                val=val+((model[iz-1][iy+1][ix+1])*co3z)\n",
    "\n",
    "        model[iz,iy,ix]=(val/piece)/(10**(Abs*8.69*evgle))"
   ]
  },
  {
   "cell_type": "code",
   "execution_count": null,
   "metadata": {
    "scrolled": true
   },
   "outputs": [],
   "source": [
    "#q9=queue[queue['z']==3]"
   ]
  },
  {
   "cell_type": "code",
   "execution_count": null,
   "metadata": {},
   "outputs": [],
   "source": [
    "'''\n",
    "empty9 = np.zeros(shape=(100,100))\n",
    "for i in range(len(q9)):\n",
    "    cell=q9.iloc[i]\n",
    "    empty9[cell.y][cell.x]=cell.distance\n",
    "'''"
   ]
  },
  {
   "cell_type": "code",
   "execution_count": 108,
   "metadata": {},
   "outputs": [],
   "source": [
    "from numpy import asarray\n",
    "from numpy import save\n",
    "#save('14080hz.npy', model)\n",
    "'''\n",
    "from numpy import load\n",
    "# load array\n",
    "'''\n",
    "from numpy import load\n",
    "model = load('110hz.npy')"
   ]
  },
  {
   "cell_type": "code",
   "execution_count": 109,
   "metadata": {
    "scrolled": true
   },
   "outputs": [
    {
     "data": {
      "text/plain": [
       "977887.9187350414"
      ]
     },
     "execution_count": 109,
     "metadata": {},
     "output_type": "execute_result"
    }
   ],
   "source": [
    "model[model!=0].min()"
   ]
  },
  {
   "cell_type": "code",
   "execution_count": 110,
   "metadata": {
    "scrolled": false
   },
   "outputs": [
    {
     "data": {
      "image/png": "[encoded data removed]",
      "text/plain": [
       "<Figure size 432x288 with 1 Axes>"
      ]
     },
     "metadata": {
      "needs_background": "light"
     },
     "output_type": "display_data"
    },
    {
     "data": {
      "image/png": "[encoded data removed]",
      "text/plain": [
       "<Figure size 432x288 with 1 Axes>"
      ]
     },
     "metadata": {
      "needs_background": "light"
     },
     "output_type": "display_data"
    },
    {
     "data": {
      "image/png": "[encoded data removed]",
      "text/plain": [
       "<Figure size 432x288 with 1 Axes>"
      ]
     },
     "metadata": {
      "needs_background": "light"
     },
     "output_type": "display_data"
    },
    {
     "data": {
      "image/png": "[encoded data removed]",
      "text/plain": [
       "<Figure size 432x288 with 1 Axes>"
      ]
     },
     "metadata": {
      "needs_background": "light"
     },
     "output_type": "display_data"
    },
    {
     "data": {
      "image/png": "[encoded data removed]",
      "text/plain": [
       "<Figure size 432x288 with 1 Axes>"
      ]
     },
     "metadata": {
      "needs_background": "light"
     },
     "output_type": "display_data"
    },
    {
     "data": {
      "image/png": "[encoded data removed]",
      "text/plain": [
       "<Figure size 432x288 with 1 Axes>"
      ]
     },
     "metadata": {
      "needs_background": "light"
     },
     "output_type": "display_data"
    },
    {
     "data": {
      "image/png": "[encoded data removed]",
      "text/plain": [
       "<Figure size 432x288 with 1 Axes>"
      ]
     },
     "metadata": {
      "needs_background": "light"
     },
     "output_type": "display_data"
    },
    {
     "data": {
      "image/png": "[encoded data removed]",
      "text/plain": [
       "<Figure size 432x288 with 1 Axes>"
      ]
     },
     "metadata": {
      "needs_background": "light"
     },
     "output_type": "display_data"
    },
    {
     "data": {
      "image/png": "[encoded data removed]",
      "text/plain": [
       "<Figure size 432x288 with 1 Axes>"
      ]
     },
     "metadata": {
      "needs_background": "light"
     },
     "output_type": "display_data"
    },
    {
     "data": {
      "image/png": "[encoded data removed]",
      "text/plain": [
       "<Figure size 432x288 with 1 Axes>"
      ]
     },
     "metadata": {
      "needs_background": "light"
     },
     "output_type": "display_data"
    }
   ],
   "source": [
    "\n",
    "import matplotlib.pyplot as plt\n",
    "\n",
    "for i in range(10):\n",
    "        #cell=q9.iloc[i]\n",
    "        #empty9[cell.y][cell.x]=cell.distance\n",
    "    plt.imshow(model[i], cmap=\"RdBu\",interpolation='nearest',\n",
    "               vmin=977887, vmax=1000000)\n",
    "    plt.savefig(\"110hz_\"+str(i)+'.png')\n",
    "    plt.show()\n"
   ]
  }
 ],
 "metadata": {
  "kernelspec": {
   "display_name": "Python 3",
   "language": "python",
   "name": "python3"
  },
  "language_info": {
   "codemirror_mode": {
    "name": "ipython",
    "version": 3
   },
   "file_extension": ".py",
   "mimetype": "text/x-python",
   "name": "python",
   "nbconvert_exporter": "python",
   "pygments_lexer": "ipython3",
   "version": "3.7.3"
  }
 },
 "nbformat": 4,
 "nbformat_minor": 2
}
